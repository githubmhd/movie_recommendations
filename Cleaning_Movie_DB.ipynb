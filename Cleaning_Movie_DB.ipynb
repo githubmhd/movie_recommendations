{
 "cells": [
  {
   "cell_type": "code",
   "metadata": {
    "ExecuteTime": {
     "end_time": "2024-05-31T11:15:28.362337Z",
     "start_time": "2024-05-31T11:15:27.495175Z"
    }
   },
   "source": [
    "import pandas as pd\n",
    "pd.options.display.max_columns = 200\n",
    "pd.options.display.float_format = '{:.3f}'.format"
   ],
   "outputs": [
    {
     "name": "stderr",
     "output_type": "stream",
     "text": [
      "/Users/margaryta/anaconda3/lib/python3.11/site-packages/pandas/core/arrays/masked.py:60: UserWarning: Pandas requires version '1.3.6' or newer of 'bottleneck' (version '1.3.5' currently installed).\n",
      "  from pandas.core import (\n"
     ]
    }
   ],
   "execution_count": 2
  },
  {
   "metadata": {
    "ExecuteTime": {
     "end_time": "2024-05-31T11:15:32.685347Z",
     "start_time": "2024-05-31T11:15:32.680672Z"
    }
   },
   "cell_type": "code",
   "source": [
    "import warnings\n",
    "warnings.filterwarnings('ignore')"
   ],
   "outputs": [],
   "execution_count": 3
  },
  {
   "cell_type": "markdown",
   "metadata": {},
   "source": "[# Read links/Users/margaryta/Desktop/WILD/Project 2/tmdb_full.csv"
  },
  {
   "cell_type": "code",
   "metadata": {
    "ExecuteTime": {
     "end_time": "2024-05-31T11:16:34.517658Z",
     "start_time": "2024-05-31T11:16:01.337633Z"
    }
   },
   "source": [
    "# Read the right files to create our DB\n",
    "\n",
    "link_bas = r\"/Users/margaryta/Desktop/WILD/Project_2/title.basics.tsv.gz\"\n",
    "title_bas = pd.read_csv(link_bas, sep = \"\\t\", low_memory = False, na_values = r\"\\N\")\n"
   ],
   "outputs": [],
   "execution_count": 5
  },
  {
   "metadata": {
    "ExecuteTime": {
     "end_time": "2024-05-21T17:34:35.286406Z",
     "start_time": "2024-05-21T17:11:42.184037Z"
    }
   },
   "cell_type": "code",
   "source": [
    "link_akas = r\"/Users/margaryta/Desktop/WILD/Project 2/title.akas.tsv.gz\"\n",
    "title_akas = pd.read_csv(link_akas, sep = \"\\t\", low_memory = False, na_values = r\"\\N\")"
   ],
   "outputs": [],
   "execution_count": 4
  },
  {
   "metadata": {},
   "cell_type": "code",
   "outputs": [],
   "execution_count": null,
   "source": ""
  },
  {
   "cell_type": "code",
   "metadata": {
    "ExecuteTime": {
     "end_time": "2024-05-21T17:34:42.082191Z",
     "start_time": "2024-05-21T17:34:35.307622Z"
    }
   },
   "source": [
    "title_bas[title_bas[\"titleType\"] == \"movie\"].info()"
   ],
   "outputs": [
    {
     "name": "stdout",
     "output_type": "stream",
     "text": [
      "<class 'pandas.core.frame.DataFrame'>\n",
      "Int64Index: 677099 entries, 8 to 10687954\n",
      "Data columns (total 9 columns):\n",
      " #   Column          Non-Null Count   Dtype  \n",
      "---  ------          --------------   -----  \n",
      " 0   tconst          677099 non-null  object \n",
      " 1   titleType       677099 non-null  object \n",
      " 2   primaryTitle    677099 non-null  object \n",
      " 3   originalTitle   677099 non-null  object \n",
      " 4   isAdult         677099 non-null  float64\n",
      " 5   startYear       579191 non-null  float64\n",
      " 6   endYear         0 non-null       float64\n",
      " 7   runtimeMinutes  425980 non-null  object \n",
      " 8   genres          602386 non-null  object \n",
      "dtypes: float64(3), object(6)\n",
      "memory usage: 51.7+ MB\n"
     ]
    }
   ],
   "execution_count": 5
  },
  {
   "cell_type": "code",
   "metadata": {
    "ExecuteTime": {
     "end_time": "2024-05-21T17:34:44.793136Z",
     "start_time": "2024-05-21T17:34:44.209932Z"
    }
   },
   "source": [
    "link_rate = r\"/Users/margaryta/Desktop/WILD/Project 2/title.ratings.tsv.gz\"\n",
    "title_rate = pd.read_csv(link_rate, sep = \"\\t\", na_values = r\"\\N\")"
   ],
   "outputs": [],
   "execution_count": 6
  },
  {
   "cell_type": "code",
   "metadata": {
    "ExecuteTime": {
     "end_time": "2024-05-21T17:34:48.958504Z",
     "start_time": "2024-05-21T17:34:44.844902Z"
    }
   },
   "source": "TMdb = pd.read_csv(r\"/Users/margaryta/Desktop/WILD/Project 2/tmdb_full.csv\", low_memory = False)",
   "outputs": [],
   "execution_count": 7
  },
  {
   "cell_type": "code",
   "metadata": {
    "ExecuteTime": {
     "end_time": "2024-05-21T17:36:57.611800Z",
     "start_time": "2024-05-21T17:34:50.519637Z"
    }
   },
   "source": [
    "link_prin = r\"/Users/margaryta/Desktop/WILD/Project 2/title.principals.tsv.gz\"\n",
    "title_prin = pd.read_csv(link_prin, sep = \"\\t\", na_values = r\"\\N\")"
   ],
   "outputs": [],
   "execution_count": 8
  },
  {
   "cell_type": "code",
   "metadata": {
    "ExecuteTime": {
     "end_time": "2024-05-21T17:37:28.495776Z",
     "start_time": "2024-05-21T17:36:59.896107Z"
    }
   },
   "source": [
    "link_name = r\"/Users/margaryta/Desktop/WILD/Project 2/name.basics.tsv.gz\"\n",
    "name_bas = pd.read_csv(link_name, sep = \"\\t\", na_values = r\"\\N\", low_memory = False)"
   ],
   "outputs": [],
   "execution_count": 9
  },
  {
   "cell_type": "markdown",
   "metadata": {},
   "source": [
    "# Run from here after reading the links"
   ]
  },
  {
   "cell_type": "code",
   "metadata": {
    "ExecuteTime": {
     "end_time": "2024-05-21T17:37:30.980966Z",
     "start_time": "2024-05-21T17:37:30.417641Z"
    }
   },
   "source": [
    "# Get the list of existing type in title_basics\n",
    "title_bas[\"titleType\"].unique()"
   ],
   "outputs": [
    {
     "data": {
      "text/plain": [
       "array(['short', 'movie', 'tvShort', 'tvMovie', 'tvSeries', 'tvEpisode',\n",
       "       'tvMiniSeries', 'tvSpecial', 'video', 'videoGame', 'tvPilot'],\n",
       "      dtype=object)"
      ]
     },
     "execution_count": 10,
     "metadata": {},
     "output_type": "execute_result"
    }
   ],
   "execution_count": 10
  },
  {
   "cell_type": "code",
   "metadata": {
    "ExecuteTime": {
     "end_time": "2024-05-21T17:37:39.589347Z",
     "start_time": "2024-05-21T17:37:31.699029Z"
    }
   },
   "source": [
    "# Creation of the DB with only movies without genre Adult\n",
    "df_movie = title_bas[(~title_bas[\"genres\"].str.contains(\"Adult\", na = False)) & (title_bas[\"titleType\"].str.contains(\"movie\", na = False))]"
   ],
   "outputs": [],
   "execution_count": 11
  },
  {
   "cell_type": "code",
   "metadata": {
    "ExecuteTime": {
     "end_time": "2024-05-21T17:38:05.590530Z",
     "start_time": "2024-05-21T17:37:44.911654Z"
    }
   },
   "source": [
    "# Creation of the list of traduced title\n",
    "fr_akas = title_akas[[\"titleId\",\"title\", \"types\", \"region\"]][title_akas[\"region\"].str.contains(\"FR\", na = False)]"
   ],
   "outputs": [],
   "execution_count": 13
  },
  {
   "cell_type": "code",
   "metadata": {
    "ExecuteTime": {
     "end_time": "2024-05-21T17:38:14.478186Z",
     "start_time": "2024-05-21T17:38:05.646286Z"
    }
   },
   "source": [
    "# Add the title type on akas to filter just the movies\n",
    "fr_akas = fr_akas.merge(title_bas[\"titleType\"], how = \"left\", left_on = fr_akas[\"titleId\"], right_on = title_bas[\"tconst\"])"
   ],
   "outputs": [],
   "execution_count": 15
  },
  {
   "cell_type": "code",
   "metadata": {
    "ExecuteTime": {
     "end_time": "2024-05-21T17:38:21.378002Z",
     "start_time": "2024-05-21T17:38:17.033824Z"
    }
   },
   "source": [
    "fr_akas = fr_akas[fr_akas[\"titleType\"] == \"movie\"]"
   ],
   "outputs": [],
   "execution_count": 16
  },
  {
   "cell_type": "code",
   "metadata": {
    "ExecuteTime": {
     "end_time": "2024-05-21T17:38:21.439273Z",
     "start_time": "2024-05-21T17:38:21.397236Z"
    }
   },
   "source": [
    "fr_akas[fr_akas.duplicated(subset = \"titleId\", keep = False)]"
   ],
   "outputs": [
    {
     "data": {
      "text/plain": [
       "             key_0    titleId                               title  \\\n",
       "532      tt0002423  tt0002423                         La Du Barry   \n",
       "533      tt0002423  tt0002423                     Madame du Barry   \n",
       "534      tt0002423  tt0002423                             Passion   \n",
       "566      tt0002844  tt0002844                   The Phantom Crook   \n",
       "567      tt0002844  tt0002844                            Fantômas   \n",
       "...            ...        ...                                 ...   \n",
       "4690671  tt9896916  tt9896916                Le Voyage du Pèlerin   \n",
       "4692193  tt9904530  tt9904530                      Scream Returns   \n",
       "4692194  tt9904530  tt9904530  Scream Returns - Fan Film Spin-Off   \n",
       "4693018  tt9907782  tt9907782                          The Cursed   \n",
       "4693019  tt9907782  tt9907782                    Eight for Silver   \n",
       "\n",
       "               types region titleType  \n",
       "532              NaN     FR     movie  \n",
       "533      alternative     FR     movie  \n",
       "534      imdbDisplay     FR     movie  \n",
       "566      imdbDisplay     FR     movie  \n",
       "567              NaN     FR     movie  \n",
       "...              ...    ...       ...  \n",
       "4690671  imdbDisplay     FR     movie  \n",
       "4692193  imdbDisplay     FR     movie  \n",
       "4692194          NaN     FR     movie  \n",
       "4693018  alternative     FR     movie  \n",
       "4693019  imdbDisplay     FR     movie  \n",
       "\n",
       "[18031 rows x 6 columns]"
      ],
      "text/html": [
       "<div>\n",
       "<style scoped>\n",
       "    .dataframe tbody tr th:only-of-type {\n",
       "        vertical-align: middle;\n",
       "    }\n",
       "\n",
       "    .dataframe tbody tr th {\n",
       "        vertical-align: top;\n",
       "    }\n",
       "\n",
       "    .dataframe thead th {\n",
       "        text-align: right;\n",
       "    }\n",
       "</style>\n",
       "<table border=\"1\" class=\"dataframe\">\n",
       "  <thead>\n",
       "    <tr style=\"text-align: right;\">\n",
       "      <th></th>\n",
       "      <th>key_0</th>\n",
       "      <th>titleId</th>\n",
       "      <th>title</th>\n",
       "      <th>types</th>\n",
       "      <th>region</th>\n",
       "      <th>titleType</th>\n",
       "    </tr>\n",
       "  </thead>\n",
       "  <tbody>\n",
       "    <tr>\n",
       "      <th>532</th>\n",
       "      <td>tt0002423</td>\n",
       "      <td>tt0002423</td>\n",
       "      <td>La Du Barry</td>\n",
       "      <td>NaN</td>\n",
       "      <td>FR</td>\n",
       "      <td>movie</td>\n",
       "    </tr>\n",
       "    <tr>\n",
       "      <th>533</th>\n",
       "      <td>tt0002423</td>\n",
       "      <td>tt0002423</td>\n",
       "      <td>Madame du Barry</td>\n",
       "      <td>alternative</td>\n",
       "      <td>FR</td>\n",
       "      <td>movie</td>\n",
       "    </tr>\n",
       "    <tr>\n",
       "      <th>534</th>\n",
       "      <td>tt0002423</td>\n",
       "      <td>tt0002423</td>\n",
       "      <td>Passion</td>\n",
       "      <td>imdbDisplay</td>\n",
       "      <td>FR</td>\n",
       "      <td>movie</td>\n",
       "    </tr>\n",
       "    <tr>\n",
       "      <th>566</th>\n",
       "      <td>tt0002844</td>\n",
       "      <td>tt0002844</td>\n",
       "      <td>The Phantom Crook</td>\n",
       "      <td>imdbDisplay</td>\n",
       "      <td>FR</td>\n",
       "      <td>movie</td>\n",
       "    </tr>\n",
       "    <tr>\n",
       "      <th>567</th>\n",
       "      <td>tt0002844</td>\n",
       "      <td>tt0002844</td>\n",
       "      <td>Fantômas</td>\n",
       "      <td>NaN</td>\n",
       "      <td>FR</td>\n",
       "      <td>movie</td>\n",
       "    </tr>\n",
       "    <tr>\n",
       "      <th>...</th>\n",
       "      <td>...</td>\n",
       "      <td>...</td>\n",
       "      <td>...</td>\n",
       "      <td>...</td>\n",
       "      <td>...</td>\n",
       "      <td>...</td>\n",
       "    </tr>\n",
       "    <tr>\n",
       "      <th>4690671</th>\n",
       "      <td>tt9896916</td>\n",
       "      <td>tt9896916</td>\n",
       "      <td>Le Voyage du Pèlerin</td>\n",
       "      <td>imdbDisplay</td>\n",
       "      <td>FR</td>\n",
       "      <td>movie</td>\n",
       "    </tr>\n",
       "    <tr>\n",
       "      <th>4692193</th>\n",
       "      <td>tt9904530</td>\n",
       "      <td>tt9904530</td>\n",
       "      <td>Scream Returns</td>\n",
       "      <td>imdbDisplay</td>\n",
       "      <td>FR</td>\n",
       "      <td>movie</td>\n",
       "    </tr>\n",
       "    <tr>\n",
       "      <th>4692194</th>\n",
       "      <td>tt9904530</td>\n",
       "      <td>tt9904530</td>\n",
       "      <td>Scream Returns - Fan Film Spin-Off</td>\n",
       "      <td>NaN</td>\n",
       "      <td>FR</td>\n",
       "      <td>movie</td>\n",
       "    </tr>\n",
       "    <tr>\n",
       "      <th>4693018</th>\n",
       "      <td>tt9907782</td>\n",
       "      <td>tt9907782</td>\n",
       "      <td>The Cursed</td>\n",
       "      <td>alternative</td>\n",
       "      <td>FR</td>\n",
       "      <td>movie</td>\n",
       "    </tr>\n",
       "    <tr>\n",
       "      <th>4693019</th>\n",
       "      <td>tt9907782</td>\n",
       "      <td>tt9907782</td>\n",
       "      <td>Eight for Silver</td>\n",
       "      <td>imdbDisplay</td>\n",
       "      <td>FR</td>\n",
       "      <td>movie</td>\n",
       "    </tr>\n",
       "  </tbody>\n",
       "</table>\n",
       "<p>18031 rows × 6 columns</p>\n",
       "</div>"
      ]
     },
     "execution_count": 18,
     "metadata": {},
     "output_type": "execute_result"
    }
   ],
   "execution_count": 18
  },
  {
   "cell_type": "code",
   "metadata": {
    "ExecuteTime": {
     "end_time": "2024-05-21T17:38:21.456439Z",
     "start_time": "2024-05-21T17:38:21.440939Z"
    }
   },
   "source": [
    "dupli_akas = fr_akas[fr_akas.duplicated(subset = \"titleId\", keep = False)]"
   ],
   "outputs": [],
   "execution_count": 19
  },
  {
   "cell_type": "code",
   "metadata": {
    "ExecuteTime": {
     "end_time": "2024-05-21T17:38:21.461170Z",
     "start_time": "2024-05-21T17:38:21.457023Z"
    }
   },
   "source": [
    "len(dupli_akas[\"titleId\"].unique())"
   ],
   "outputs": [
    {
     "data": {
      "text/plain": [
       "8183"
      ]
     },
     "execution_count": 20,
     "metadata": {},
     "output_type": "execute_result"
    }
   ],
   "execution_count": 20
  },
  {
   "cell_type": "code",
   "metadata": {
    "ExecuteTime": {
     "end_time": "2024-05-21T17:38:23.411573Z",
     "start_time": "2024-05-21T17:38:23.402562Z"
    }
   },
   "source": [
    "len(dupli_akas[\"titleId\"][dupli_akas[\"types\"] == \"imdbDisplay\"].unique())"
   ],
   "outputs": [
    {
     "data": {
      "text/plain": [
       "6603"
      ]
     },
     "execution_count": 21,
     "metadata": {},
     "output_type": "execute_result"
    }
   ],
   "execution_count": 21
  },
  {
   "cell_type": "code",
   "metadata": {
    "ExecuteTime": {
     "end_time": "2024-05-21T17:38:24.663775Z",
     "start_time": "2024-05-21T17:38:24.613539Z"
    }
   },
   "source": [
    "dupli_akas[\"types\"] = dupli_akas[\"types\"].apply(lambda x: \"aaimdbDisplay\" if x == \"imdbDisplay\" else x)"
   ],
   "outputs": [],
   "execution_count": 23
  },
  {
   "cell_type": "code",
   "metadata": {
    "ExecuteTime": {
     "end_time": "2024-05-21T17:38:25.299674Z",
     "start_time": "2024-05-21T17:38:25.290684Z"
    }
   },
   "source": [
    "dupli_akas.sort_values(by = \"types\", inplace = True)\n"
   ],
   "outputs": [],
   "execution_count": 24
  },
  {
   "cell_type": "code",
   "metadata": {
    "ExecuteTime": {
     "end_time": "2024-05-21T17:38:25.858841Z",
     "start_time": "2024-05-21T17:38:25.841348Z"
    }
   },
   "source": [
    "# Removing the duplicated lines (same movie with different fr akas)\n",
    "dupli_akas.drop_duplicates(subset = [\"titleId\"], inplace = True)"
   ],
   "outputs": [],
   "execution_count": 25
  },
  {
   "cell_type": "code",
   "metadata": {
    "ExecuteTime": {
     "end_time": "2024-05-21T17:38:26.631428Z",
     "start_time": "2024-05-21T17:38:26.383214Z"
    }
   },
   "source": [
    "# Removing all duplicated lines (same movie with different fr akas)\n",
    "fr_akas.drop_duplicates(subset = [\"titleId\"], keep = False, inplace = True)"
   ],
   "outputs": [],
   "execution_count": 26
  },
  {
   "cell_type": "code",
   "metadata": {
    "ExecuteTime": {
     "end_time": "2024-05-21T17:38:27.108080Z",
     "start_time": "2024-05-21T17:38:27.091989Z"
    }
   },
   "source": [
    "# Add the unique title from the duplicated list \n",
    "fr_akas = pd.concat([fr_akas, dupli_akas])"
   ],
   "outputs": [],
   "execution_count": 27
  },
  {
   "cell_type": "code",
   "metadata": {
    "ExecuteTime": {
     "end_time": "2024-05-21T17:38:28.870868Z",
     "start_time": "2024-05-21T17:38:28.834743Z"
    }
   },
   "source": [
    "fr_akas[\"titleId\"].value_counts()"
   ],
   "outputs": [
    {
     "data": {
      "text/plain": [
       "tt0000591     1\n",
       "tt19354890    1\n",
       "tt1935302     1\n",
       "tt19352286    1\n",
       "tt19352108    1\n",
       "             ..\n",
       "tt0135064     1\n",
       "tt0135049     1\n",
       "tt0135037     1\n",
       "tt0135033     1\n",
       "tt9234412     1\n",
       "Name: titleId, Length: 85244, dtype: int64"
      ]
     },
     "execution_count": 29,
     "metadata": {},
     "output_type": "execute_result"
    }
   ],
   "execution_count": 29
  },
  {
   "cell_type": "code",
   "metadata": {
    "ExecuteTime": {
     "end_time": "2024-05-21T17:38:32.540064Z",
     "start_time": "2024-05-21T17:38:29.009779Z"
    }
   },
   "source": [
    "# Merging (INNER) movies and akas to get only the translated movies\n",
    "movies_frt = df_movie.merge(fr_akas[\"title\"], how = \"inner\", left_on = df_movie[\"tconst\"], right_on = fr_akas[\"titleId\"])"
   ],
   "outputs": [],
   "execution_count": 30
  },
  {
   "cell_type": "code",
   "metadata": {
    "ExecuteTime": {
     "end_time": "2024-05-21T17:38:39.660023Z",
     "start_time": "2024-05-21T17:38:39.334376Z"
    }
   },
   "source": [
    "movies_frt.drop(columns = \"key_0\", inplace = True)"
   ],
   "outputs": [],
   "execution_count": 33
  },
  {
   "cell_type": "code",
   "metadata": {
    "ExecuteTime": {
     "end_time": "2024-05-21T17:38:40.458342Z",
     "start_time": "2024-05-21T17:38:39.661516Z"
    }
   },
   "source": [
    "# Merging (LEFT) fr_movies with ratings\n",
    "movies_frt = movies_frt.merge(title_rate[[\"averageRating\", \"numVotes\"]], how = \"left\", left_on = movies_frt[\"tconst\"], right_on = title_rate[\"tconst\"])"
   ],
   "outputs": [],
   "execution_count": 34
  },
  {
   "cell_type": "code",
   "metadata": {
    "ExecuteTime": {
     "end_time": "2024-05-21T17:38:40.982019Z",
     "start_time": "2024-05-21T17:38:40.462089Z"
    }
   },
   "source": [
    "movies_frt.drop(columns = \"key_0\", inplace = True)"
   ],
   "outputs": [],
   "execution_count": 35
  },
  {
   "cell_type": "code",
   "metadata": {
    "ExecuteTime": {
     "end_time": "2024-05-21T17:38:44.506656Z",
     "start_time": "2024-05-21T17:38:41.004950Z"
    }
   },
   "source": [
    "# Final selection of movies before dropping columns\n",
    "\n",
    "movie_final = movies_frt.merge(TMdb, how = \"left\", left_on = movies_frt[\"tconst\"], right_on = TMdb[\"imdb_id\"])"
   ],
   "outputs": [],
   "execution_count": 36
  },
  {
   "cell_type": "code",
   "metadata": {
    "ExecuteTime": {
     "end_time": "2024-05-21T17:38:46.808898Z",
     "start_time": "2024-05-21T17:38:44.510132Z"
    }
   },
   "source": [
    "display(movie_final.info(),\n",
    "        movie_final.describe(),\n",
    "        movie_final.sample(10))"
   ],
   "outputs": [
    {
     "name": "stdout",
     "output_type": "stream",
     "text": [
      "<class 'pandas.core.frame.DataFrame'>\n",
      "Int64Index: 83878 entries, 0 to 83877\n",
      "Data columns (total 38 columns):\n",
      " #   Column                        Non-Null Count  Dtype  \n",
      "---  ------                        --------------  -----  \n",
      " 0   key_0                         83878 non-null  object \n",
      " 1   tconst                        83878 non-null  object \n",
      " 2   titleType                     83878 non-null  object \n",
      " 3   primaryTitle                  83878 non-null  object \n",
      " 4   originalTitle                 83878 non-null  object \n",
      " 5   isAdult                       83878 non-null  float64\n",
      " 6   startYear                     82314 non-null  float64\n",
      " 7   endYear                       0 non-null      float64\n",
      " 8   runtimeMinutes                77237 non-null  object \n",
      " 9   genres_x                      80218 non-null  object \n",
      " 10  title_x                       83878 non-null  object \n",
      " 11  averageRating                 67760 non-null  float64\n",
      " 12  numVotes                      67760 non-null  float64\n",
      " 13  adult                         60617 non-null  object \n",
      " 14  backdrop_path                 47987 non-null  object \n",
      " 15  budget                        60617 non-null  float64\n",
      " 16  genres_y                      60617 non-null  object \n",
      " 17  homepage                      9232 non-null   object \n",
      " 18  id                            60617 non-null  float64\n",
      " 19  imdb_id                       60617 non-null  object \n",
      " 20  original_language             60617 non-null  object \n",
      " 21  original_title                60617 non-null  object \n",
      " 22  overview                      58652 non-null  object \n",
      " 23  popularity                    60617 non-null  float64\n",
      " 24  poster_path                   58714 non-null  object \n",
      " 25  production_countries          60617 non-null  object \n",
      " 26  release_date                  60217 non-null  object \n",
      " 27  revenue                       60617 non-null  float64\n",
      " 28  runtime                       60617 non-null  float64\n",
      " 29  spoken_languages              60617 non-null  object \n",
      " 30  status                        60617 non-null  object \n",
      " 31  tagline                       27377 non-null  object \n",
      " 32  title_y                       60617 non-null  object \n",
      " 33  video                         60617 non-null  object \n",
      " 34  vote_average                  60617 non-null  float64\n",
      " 35  vote_count                    60617 non-null  float64\n",
      " 36  production_companies_name     60617 non-null  object \n",
      " 37  production_companies_country  26357 non-null  object \n",
      "dtypes: float64(12), object(26)\n",
      "memory usage: 25.0+ MB\n"
     ]
    },
    {
     "data": {
      "text/plain": [
       "None"
      ]
     },
     "metadata": {},
     "output_type": "display_data"
    },
    {
     "data": {
      "text/plain": [
       "        isAdult  startYear  endYear  averageRating    numVotes        budget  \\\n",
       "count 83878.000  82314.000    0.000      67760.000   67760.000     60617.000   \n",
       "mean      0.002   1987.454      NaN          6.112   15432.330   4106393.290   \n",
       "std       0.044     31.049      NaN          1.117   75769.678  17983797.856   \n",
       "min       0.000   1903.000      NaN          1.000       5.000         0.000   \n",
       "25%       0.000   1965.000      NaN          5.500     113.000         0.000   \n",
       "50%       0.000   1997.000      NaN          6.200     624.000         0.000   \n",
       "75%       0.000   2015.000      NaN          6.900    3654.000         0.000   \n",
       "max       1.000   2031.000      NaN         10.000 2881263.000 579330426.000   \n",
       "\n",
       "               id  popularity        revenue   runtime  vote_average  \\\n",
       "count   60617.000   60617.000      60617.000 60617.000     60617.000   \n",
       "mean   256153.376       7.450   10971796.174    94.789         5.416   \n",
       "std    275890.333      46.967   66945949.151   184.540         2.082   \n",
       "min         2.000       0.600          0.000     0.000         0.000   \n",
       "25%     43499.000       1.220          0.000    86.000         5.000   \n",
       "50%    135829.000       2.687          0.000    95.000         6.000   \n",
       "75%    407887.000       7.407          0.000   105.000         6.700   \n",
       "max   1122335.000    5089.969 2923706026.000 43200.000        10.000   \n",
       "\n",
       "       vote_count  \n",
       "count   60617.000  \n",
       "mean      299.406  \n",
       "std      1300.024  \n",
       "min         0.000  \n",
       "25%         4.000  \n",
       "50%        16.000  \n",
       "75%        89.000  \n",
       "max     33630.000  "
      ],
      "text/html": [
       "<div>\n",
       "<style scoped>\n",
       "    .dataframe tbody tr th:only-of-type {\n",
       "        vertical-align: middle;\n",
       "    }\n",
       "\n",
       "    .dataframe tbody tr th {\n",
       "        vertical-align: top;\n",
       "    }\n",
       "\n",
       "    .dataframe thead th {\n",
       "        text-align: right;\n",
       "    }\n",
       "</style>\n",
       "<table border=\"1\" class=\"dataframe\">\n",
       "  <thead>\n",
       "    <tr style=\"text-align: right;\">\n",
       "      <th></th>\n",
       "      <th>isAdult</th>\n",
       "      <th>startYear</th>\n",
       "      <th>endYear</th>\n",
       "      <th>averageRating</th>\n",
       "      <th>numVotes</th>\n",
       "      <th>budget</th>\n",
       "      <th>id</th>\n",
       "      <th>popularity</th>\n",
       "      <th>revenue</th>\n",
       "      <th>runtime</th>\n",
       "      <th>vote_average</th>\n",
       "      <th>vote_count</th>\n",
       "    </tr>\n",
       "  </thead>\n",
       "  <tbody>\n",
       "    <tr>\n",
       "      <th>count</th>\n",
       "      <td>83878.000</td>\n",
       "      <td>82314.000</td>\n",
       "      <td>0.000</td>\n",
       "      <td>67760.000</td>\n",
       "      <td>67760.000</td>\n",
       "      <td>60617.000</td>\n",
       "      <td>60617.000</td>\n",
       "      <td>60617.000</td>\n",
       "      <td>60617.000</td>\n",
       "      <td>60617.000</td>\n",
       "      <td>60617.000</td>\n",
       "      <td>60617.000</td>\n",
       "    </tr>\n",
       "    <tr>\n",
       "      <th>mean</th>\n",
       "      <td>0.002</td>\n",
       "      <td>1987.454</td>\n",
       "      <td>NaN</td>\n",
       "      <td>6.112</td>\n",
       "      <td>15432.330</td>\n",
       "      <td>4106393.290</td>\n",
       "      <td>256153.376</td>\n",
       "      <td>7.450</td>\n",
       "      <td>10971796.174</td>\n",
       "      <td>94.789</td>\n",
       "      <td>5.416</td>\n",
       "      <td>299.406</td>\n",
       "    </tr>\n",
       "    <tr>\n",
       "      <th>std</th>\n",
       "      <td>0.044</td>\n",
       "      <td>31.049</td>\n",
       "      <td>NaN</td>\n",
       "      <td>1.117</td>\n",
       "      <td>75769.678</td>\n",
       "      <td>17983797.856</td>\n",
       "      <td>275890.333</td>\n",
       "      <td>46.967</td>\n",
       "      <td>66945949.151</td>\n",
       "      <td>184.540</td>\n",
       "      <td>2.082</td>\n",
       "      <td>1300.024</td>\n",
       "    </tr>\n",
       "    <tr>\n",
       "      <th>min</th>\n",
       "      <td>0.000</td>\n",
       "      <td>1903.000</td>\n",
       "      <td>NaN</td>\n",
       "      <td>1.000</td>\n",
       "      <td>5.000</td>\n",
       "      <td>0.000</td>\n",
       "      <td>2.000</td>\n",
       "      <td>0.600</td>\n",
       "      <td>0.000</td>\n",
       "      <td>0.000</td>\n",
       "      <td>0.000</td>\n",
       "      <td>0.000</td>\n",
       "    </tr>\n",
       "    <tr>\n",
       "      <th>25%</th>\n",
       "      <td>0.000</td>\n",
       "      <td>1965.000</td>\n",
       "      <td>NaN</td>\n",
       "      <td>5.500</td>\n",
       "      <td>113.000</td>\n",
       "      <td>0.000</td>\n",
       "      <td>43499.000</td>\n",
       "      <td>1.220</td>\n",
       "      <td>0.000</td>\n",
       "      <td>86.000</td>\n",
       "      <td>5.000</td>\n",
       "      <td>4.000</td>\n",
       "    </tr>\n",
       "    <tr>\n",
       "      <th>50%</th>\n",
       "      <td>0.000</td>\n",
       "      <td>1997.000</td>\n",
       "      <td>NaN</td>\n",
       "      <td>6.200</td>\n",
       "      <td>624.000</td>\n",
       "      <td>0.000</td>\n",
       "      <td>135829.000</td>\n",
       "      <td>2.687</td>\n",
       "      <td>0.000</td>\n",
       "      <td>95.000</td>\n",
       "      <td>6.000</td>\n",
       "      <td>16.000</td>\n",
       "    </tr>\n",
       "    <tr>\n",
       "      <th>75%</th>\n",
       "      <td>0.000</td>\n",
       "      <td>2015.000</td>\n",
       "      <td>NaN</td>\n",
       "      <td>6.900</td>\n",
       "      <td>3654.000</td>\n",
       "      <td>0.000</td>\n",
       "      <td>407887.000</td>\n",
       "      <td>7.407</td>\n",
       "      <td>0.000</td>\n",
       "      <td>105.000</td>\n",
       "      <td>6.700</td>\n",
       "      <td>89.000</td>\n",
       "    </tr>\n",
       "    <tr>\n",
       "      <th>max</th>\n",
       "      <td>1.000</td>\n",
       "      <td>2031.000</td>\n",
       "      <td>NaN</td>\n",
       "      <td>10.000</td>\n",
       "      <td>2881263.000</td>\n",
       "      <td>579330426.000</td>\n",
       "      <td>1122335.000</td>\n",
       "      <td>5089.969</td>\n",
       "      <td>2923706026.000</td>\n",
       "      <td>43200.000</td>\n",
       "      <td>10.000</td>\n",
       "      <td>33630.000</td>\n",
       "    </tr>\n",
       "  </tbody>\n",
       "</table>\n",
       "</div>"
      ]
     },
     "metadata": {},
     "output_type": "display_data"
    },
    {
     "data": {
      "text/plain": [
       "            key_0      tconst titleType              primaryTitle  \\\n",
       "67343   tt2627822   tt2627822     movie                 Final Cut   \n",
       "4448    tt0025854   tt0025854     movie      Man's Way with Women   \n",
       "2415    tt0016654   tt0016654     movie          The Black Pirate   \n",
       "56239   tt1385478   tt1385478     movie             As We Forgive   \n",
       "73543   tt4162100   tt4162100     movie           Antoine & Marie   \n",
       "155     tt0006488   tt0006488     movie  Caprice of the Mountains   \n",
       "81601   tt8366590   tt8366590     movie                  Baaghi 3   \n",
       "1600    tt0013679   tt0013679     movie                    Tillie   \n",
       "64633  tt21816560  tt21816560     movie          A Cooler Climate   \n",
       "75189   tt4949290   tt4949290     movie                   Cartels   \n",
       "\n",
       "                       originalTitle  isAdult  startYear  endYear  \\\n",
       "67343                      Final Cut    0.000   1989.000      NaN   \n",
       "4448   Sången om den eldröda blomman    0.000   1934.000      NaN   \n",
       "2415                The Black Pirate    0.000   1926.000      NaN   \n",
       "56239                  As We Forgive    0.000   2009.000      NaN   \n",
       "73543               Antoine et Marie    0.000   2014.000      NaN   \n",
       "155         Caprice of the Mountains    0.000   1916.000      NaN   \n",
       "81601                       Baaghi 3    0.000   2020.000      NaN   \n",
       "1600                          Tillie    0.000   1922.000      NaN   \n",
       "64633               A Cooler Climate    0.000   2022.000      NaN   \n",
       "75189                        Cartels    0.000   2016.000      NaN   \n",
       "\n",
       "      runtimeMinutes                   genres_x                     title_x  \\\n",
       "67343             90      Action,Crime,Thriller           La scène du crime   \n",
       "4448              96                        NaN  Le chant de la fleur rouge   \n",
       "2415              88           Action,Adventure              Le pirate noir   \n",
       "56239             53                Documentary               As We Forgive   \n",
       "73543             85                      Drama            Antoine et Marie   \n",
       "155               75                      Drama          La fleur enchantée   \n",
       "81601            143  Action,Adventure,Thriller                    Baaghi 3   \n",
       "1600              50                      Drama   Le roman de cousine Laure   \n",
       "64633             75                Documentary               Un été afghan   \n",
       "75189             95      Action,Crime,Thriller                     Cartels   \n",
       "\n",
       "       averageRating  numVotes  adult                     backdrop_path  \\\n",
       "67343          5.000    10.000  False                               NaN   \n",
       "4448           5.000     9.000    NaN                               NaN   \n",
       "2415           7.000  2128.000  False  /ezeFFebkb8MX33IRQ2LYwegLNit.jpg   \n",
       "56239          8.100    58.000  False                               NaN   \n",
       "73543          5.600    79.000  False  /5xjW0kRbon7tfJ7U0SWcQVuMhKO.jpg   \n",
       "155              NaN       NaN    NaN                               NaN   \n",
       "81601          2.200 13831.000  False  /nQV1lkgGn0FhqDeDr4b8VLhn1ow.jpg   \n",
       "1600           7.200    18.000  False                               NaN   \n",
       "64633          6.100    57.000  False  /zEJZPTJLjoCKQZwoxdSI2nEDLi7.jpg   \n",
       "75189          3.700  2206.000  False  /2q4De2NH8dUk8jjWNw2IZ7pEcHx.jpg   \n",
       "\n",
       "           budget                             genres_y  \\\n",
       "67343       0.000      ['Action', 'Crime', 'Thriller']   \n",
       "4448          NaN                                  NaN   \n",
       "2415  1300000.000     ['Adventure', 'Drama', 'Action']   \n",
       "56239       0.000                      ['Documentary']   \n",
       "73543       0.000                            ['Drama']   \n",
       "155           NaN                                  NaN   \n",
       "81601 7952450.000  ['Action', 'Adventure', 'Thriller']   \n",
       "1600        0.000                            ['Drama']   \n",
       "64633       0.000                      ['Documentary']   \n",
       "75189 7000000.000                  ['Crime', 'Action']   \n",
       "\n",
       "                               homepage          id     imdb_id  \\\n",
       "67343                               NaN  231561.000   tt2627822   \n",
       "4448                                NaN         NaN         NaN   \n",
       "2415                                NaN   50075.000   tt0016654   \n",
       "56239  http://www.asweforgivemovie.com/   50306.000   tt1385478   \n",
       "73543                               NaN  314644.000   tt4162100   \n",
       "155                                 NaN         NaN         NaN   \n",
       "81601                               NaN  594669.000   tt8366590   \n",
       "1600                                NaN  751110.000   tt0013679   \n",
       "64633                               NaN 1013569.000  tt21816560   \n",
       "75189                               NaN  412678.000   tt4949290   \n",
       "\n",
       "      original_language    original_title  \\\n",
       "67343                en         Final Cut   \n",
       "4448                NaN               NaN   \n",
       "2415                 en  The Black Pirate   \n",
       "56239                en     As We Forgive   \n",
       "73543                fr  Antoine et Marie   \n",
       "155                 NaN               NaN   \n",
       "81601                hi            बाघी ३   \n",
       "1600                 en            Tillie   \n",
       "64633                en  A Cooler Climate   \n",
       "75189                en           Cartels   \n",
       "\n",
       "                                                overview  popularity  \\\n",
       "67343  ‘Snuff film’ with a little boy witnessing a re...       0.600   \n",
       "4448                                                 NaN         NaN   \n",
       "2415   A nobleman vows to avenge the death of his fat...       3.959   \n",
       "56239  Could you forgive a person who murdered your f...       0.772   \n",
       "73543  Marie leads a calm and happy life withe her bo...       0.846   \n",
       "155                                                  NaN         NaN   \n",
       "81601  A man embarks on a bloody rampage to save his ...       8.816   \n",
       "1600   Tillie Getz (Minter), the eldest daughter of J...       0.600   \n",
       "64633  Award-winning filmmaker James Ivory recounts h...       1.022   \n",
       "75189  An elite team of DEA agents are assigned to pr...       6.002   \n",
       "\n",
       "                            poster_path production_countries release_date  \\\n",
       "67343                               NaN               ['ZA']   1989-10-31   \n",
       "4448                                NaN                  NaN          NaN   \n",
       "2415   /841WLSvTRN3TQKxiUjD1TY9dc42.jpg               ['US']   1926-03-08   \n",
       "56239  /pWKYa9GBK4CLAU3oAEdvYQxiHiZ.jpg                   []   2008-01-01   \n",
       "73543  /qMdAKDup3vNiaaE6wUUBRjlRPYI.jpg               ['CA']   2014-10-16   \n",
       "155                                 NaN                  NaN          NaN   \n",
       "81601  /14nxzkz2ZE0BXoywF6UnP5rjfcL.jpg               ['IN']   2020-03-06   \n",
       "1600   /7oJzlG76vHOAXPJTYnjeILviLYz.jpg                   []   1922-01-30   \n",
       "64633  /uiXeQmqjCgXRMJpSInmLEuwWWGd.jpg               ['US']   2022-10-07   \n",
       "75189  /2J7jc9VZroyf4rFlyWJ0mIreu2A.jpg         ['RO', 'US']   2017-01-23   \n",
       "\n",
       "        revenue  runtime spoken_languages    status  \\\n",
       "67343     0.000   90.000           ['en']  Released   \n",
       "4448        NaN      NaN              NaN       NaN   \n",
       "2415      0.000   94.000           ['xx']  Released   \n",
       "56239     0.000   53.000               []  Released   \n",
       "73543     0.000   85.000           ['fr']  Released   \n",
       "155         NaN      NaN              NaN       NaN   \n",
       "81601     0.000  143.000     ['hi', 'tr']  Released   \n",
       "1600      0.000   50.000               []  Released   \n",
       "64633     0.000   75.000               []  Released   \n",
       "75189 37766.000   99.000           ['en']  Released   \n",
       "\n",
       "                                                 tagline           title_y  \\\n",
       "67343                           Lights! Cameras! Murder!         Final Cut   \n",
       "4448                                                 NaN               NaN   \n",
       "2415                  The Love Story of a Bold Buccaneer  The Black Pirate   \n",
       "56239  Could you forgive a person who murdered your f...     As We Forgive   \n",
       "73543                                                NaN  Antoine et Marie   \n",
       "155                                                  NaN               NaN   \n",
       "81601                 This time He's up against a Nation          Baaghi 3   \n",
       "1600                                                 NaN            Tillie   \n",
       "64633                                                NaN  A Cooler Climate   \n",
       "75189                                                NaN           Cartels   \n",
       "\n",
       "       video  vote_average  vote_count  \\\n",
       "67343  False         0.000       0.000   \n",
       "4448     NaN           NaN         NaN   \n",
       "2415   False         7.000      43.000   \n",
       "56239  False         6.000       3.000   \n",
       "73543  False         5.000       5.000   \n",
       "155      NaN           NaN         NaN   \n",
       "81601  False         7.130      92.000   \n",
       "1600   False         0.000       0.000   \n",
       "64633  False         0.000       0.000   \n",
       "75189  False         5.321      42.000   \n",
       "\n",
       "                               production_companies_name  \\\n",
       "67343  ['Compas Films (PTV)', 'Filmtrust', 'The Image...   \n",
       "4448                                                 NaN   \n",
       "2415             ['United Artists', 'Elton Corporation']   \n",
       "56239                                                 []   \n",
       "73543                                          ['DPOST']   \n",
       "155                                                  NaN   \n",
       "81601  ['Nadiadwala Grandson Entertainment', 'Star St...   \n",
       "1600       ['Realart Pictures Corporation', 'Paramount']   \n",
       "64633                                                 []   \n",
       "75189  ['Action House', 'Daro Film Distribution', '24...   \n",
       "\n",
       "      production_companies_country  \n",
       "67343                          NaN  \n",
       "4448                           NaN  \n",
       "2415                           NaN  \n",
       "56239                          NaN  \n",
       "73543                          NaN  \n",
       "155                            NaN  \n",
       "81601                 ['IN', 'IN']  \n",
       "1600                  ['US', 'US']  \n",
       "64633                           []  \n",
       "75189               ['', 'MC', '']  "
      ],
      "text/html": [
       "<div>\n",
       "<style scoped>\n",
       "    .dataframe tbody tr th:only-of-type {\n",
       "        vertical-align: middle;\n",
       "    }\n",
       "\n",
       "    .dataframe tbody tr th {\n",
       "        vertical-align: top;\n",
       "    }\n",
       "\n",
       "    .dataframe thead th {\n",
       "        text-align: right;\n",
       "    }\n",
       "</style>\n",
       "<table border=\"1\" class=\"dataframe\">\n",
       "  <thead>\n",
       "    <tr style=\"text-align: right;\">\n",
       "      <th></th>\n",
       "      <th>key_0</th>\n",
       "      <th>tconst</th>\n",
       "      <th>titleType</th>\n",
       "      <th>primaryTitle</th>\n",
       "      <th>originalTitle</th>\n",
       "      <th>isAdult</th>\n",
       "      <th>startYear</th>\n",
       "      <th>endYear</th>\n",
       "      <th>runtimeMinutes</th>\n",
       "      <th>genres_x</th>\n",
       "      <th>title_x</th>\n",
       "      <th>averageRating</th>\n",
       "      <th>numVotes</th>\n",
       "      <th>adult</th>\n",
       "      <th>backdrop_path</th>\n",
       "      <th>budget</th>\n",
       "      <th>genres_y</th>\n",
       "      <th>homepage</th>\n",
       "      <th>id</th>\n",
       "      <th>imdb_id</th>\n",
       "      <th>original_language</th>\n",
       "      <th>original_title</th>\n",
       "      <th>overview</th>\n",
       "      <th>popularity</th>\n",
       "      <th>poster_path</th>\n",
       "      <th>production_countries</th>\n",
       "      <th>release_date</th>\n",
       "      <th>revenue</th>\n",
       "      <th>runtime</th>\n",
       "      <th>spoken_languages</th>\n",
       "      <th>status</th>\n",
       "      <th>tagline</th>\n",
       "      <th>title_y</th>\n",
       "      <th>video</th>\n",
       "      <th>vote_average</th>\n",
       "      <th>vote_count</th>\n",
       "      <th>production_companies_name</th>\n",
       "      <th>production_companies_country</th>\n",
       "    </tr>\n",
       "  </thead>\n",
       "  <tbody>\n",
       "    <tr>\n",
       "      <th>67343</th>\n",
       "      <td>tt2627822</td>\n",
       "      <td>tt2627822</td>\n",
       "      <td>movie</td>\n",
       "      <td>Final Cut</td>\n",
       "      <td>Final Cut</td>\n",
       "      <td>0.000</td>\n",
       "      <td>1989.000</td>\n",
       "      <td>NaN</td>\n",
       "      <td>90</td>\n",
       "      <td>Action,Crime,Thriller</td>\n",
       "      <td>La scène du crime</td>\n",
       "      <td>5.000</td>\n",
       "      <td>10.000</td>\n",
       "      <td>False</td>\n",
       "      <td>NaN</td>\n",
       "      <td>0.000</td>\n",
       "      <td>['Action', 'Crime', 'Thriller']</td>\n",
       "      <td>NaN</td>\n",
       "      <td>231561.000</td>\n",
       "      <td>tt2627822</td>\n",
       "      <td>en</td>\n",
       "      <td>Final Cut</td>\n",
       "      <td>‘Snuff film’ with a little boy witnessing a re...</td>\n",
       "      <td>0.600</td>\n",
       "      <td>NaN</td>\n",
       "      <td>['ZA']</td>\n",
       "      <td>1989-10-31</td>\n",
       "      <td>0.000</td>\n",
       "      <td>90.000</td>\n",
       "      <td>['en']</td>\n",
       "      <td>Released</td>\n",
       "      <td>Lights! Cameras! Murder!</td>\n",
       "      <td>Final Cut</td>\n",
       "      <td>False</td>\n",
       "      <td>0.000</td>\n",
       "      <td>0.000</td>\n",
       "      <td>['Compas Films (PTV)', 'Filmtrust', 'The Image...</td>\n",
       "      <td>NaN</td>\n",
       "    </tr>\n",
       "    <tr>\n",
       "      <th>4448</th>\n",
       "      <td>tt0025854</td>\n",
       "      <td>tt0025854</td>\n",
       "      <td>movie</td>\n",
       "      <td>Man's Way with Women</td>\n",
       "      <td>Sången om den eldröda blomman</td>\n",
       "      <td>0.000</td>\n",
       "      <td>1934.000</td>\n",
       "      <td>NaN</td>\n",
       "      <td>96</td>\n",
       "      <td>NaN</td>\n",
       "      <td>Le chant de la fleur rouge</td>\n",
       "      <td>5.000</td>\n",
       "      <td>9.000</td>\n",
       "      <td>NaN</td>\n",
       "      <td>NaN</td>\n",
       "      <td>NaN</td>\n",
       "      <td>NaN</td>\n",
       "      <td>NaN</td>\n",
       "      <td>NaN</td>\n",
       "      <td>NaN</td>\n",
       "      <td>NaN</td>\n",
       "      <td>NaN</td>\n",
       "      <td>NaN</td>\n",
       "      <td>NaN</td>\n",
       "      <td>NaN</td>\n",
       "      <td>NaN</td>\n",
       "      <td>NaN</td>\n",
       "      <td>NaN</td>\n",
       "      <td>NaN</td>\n",
       "      <td>NaN</td>\n",
       "      <td>NaN</td>\n",
       "      <td>NaN</td>\n",
       "      <td>NaN</td>\n",
       "      <td>NaN</td>\n",
       "      <td>NaN</td>\n",
       "      <td>NaN</td>\n",
       "      <td>NaN</td>\n",
       "      <td>NaN</td>\n",
       "    </tr>\n",
       "    <tr>\n",
       "      <th>2415</th>\n",
       "      <td>tt0016654</td>\n",
       "      <td>tt0016654</td>\n",
       "      <td>movie</td>\n",
       "      <td>The Black Pirate</td>\n",
       "      <td>The Black Pirate</td>\n",
       "      <td>0.000</td>\n",
       "      <td>1926.000</td>\n",
       "      <td>NaN</td>\n",
       "      <td>88</td>\n",
       "      <td>Action,Adventure</td>\n",
       "      <td>Le pirate noir</td>\n",
       "      <td>7.000</td>\n",
       "      <td>2128.000</td>\n",
       "      <td>False</td>\n",
       "      <td>/ezeFFebkb8MX33IRQ2LYwegLNit.jpg</td>\n",
       "      <td>1300000.000</td>\n",
       "      <td>['Adventure', 'Drama', 'Action']</td>\n",
       "      <td>NaN</td>\n",
       "      <td>50075.000</td>\n",
       "      <td>tt0016654</td>\n",
       "      <td>en</td>\n",
       "      <td>The Black Pirate</td>\n",
       "      <td>A nobleman vows to avenge the death of his fat...</td>\n",
       "      <td>3.959</td>\n",
       "      <td>/841WLSvTRN3TQKxiUjD1TY9dc42.jpg</td>\n",
       "      <td>['US']</td>\n",
       "      <td>1926-03-08</td>\n",
       "      <td>0.000</td>\n",
       "      <td>94.000</td>\n",
       "      <td>['xx']</td>\n",
       "      <td>Released</td>\n",
       "      <td>The Love Story of a Bold Buccaneer</td>\n",
       "      <td>The Black Pirate</td>\n",
       "      <td>False</td>\n",
       "      <td>7.000</td>\n",
       "      <td>43.000</td>\n",
       "      <td>['United Artists', 'Elton Corporation']</td>\n",
       "      <td>NaN</td>\n",
       "    </tr>\n",
       "    <tr>\n",
       "      <th>56239</th>\n",
       "      <td>tt1385478</td>\n",
       "      <td>tt1385478</td>\n",
       "      <td>movie</td>\n",
       "      <td>As We Forgive</td>\n",
       "      <td>As We Forgive</td>\n",
       "      <td>0.000</td>\n",
       "      <td>2009.000</td>\n",
       "      <td>NaN</td>\n",
       "      <td>53</td>\n",
       "      <td>Documentary</td>\n",
       "      <td>As We Forgive</td>\n",
       "      <td>8.100</td>\n",
       "      <td>58.000</td>\n",
       "      <td>False</td>\n",
       "      <td>NaN</td>\n",
       "      <td>0.000</td>\n",
       "      <td>['Documentary']</td>\n",
       "      <td>http://www.asweforgivemovie.com/</td>\n",
       "      <td>50306.000</td>\n",
       "      <td>tt1385478</td>\n",
       "      <td>en</td>\n",
       "      <td>As We Forgive</td>\n",
       "      <td>Could you forgive a person who murdered your f...</td>\n",
       "      <td>0.772</td>\n",
       "      <td>/pWKYa9GBK4CLAU3oAEdvYQxiHiZ.jpg</td>\n",
       "      <td>[]</td>\n",
       "      <td>2008-01-01</td>\n",
       "      <td>0.000</td>\n",
       "      <td>53.000</td>\n",
       "      <td>[]</td>\n",
       "      <td>Released</td>\n",
       "      <td>Could you forgive a person who murdered your f...</td>\n",
       "      <td>As We Forgive</td>\n",
       "      <td>False</td>\n",
       "      <td>6.000</td>\n",
       "      <td>3.000</td>\n",
       "      <td>[]</td>\n",
       "      <td>NaN</td>\n",
       "    </tr>\n",
       "    <tr>\n",
       "      <th>73543</th>\n",
       "      <td>tt4162100</td>\n",
       "      <td>tt4162100</td>\n",
       "      <td>movie</td>\n",
       "      <td>Antoine &amp; Marie</td>\n",
       "      <td>Antoine et Marie</td>\n",
       "      <td>0.000</td>\n",
       "      <td>2014.000</td>\n",
       "      <td>NaN</td>\n",
       "      <td>85</td>\n",
       "      <td>Drama</td>\n",
       "      <td>Antoine et Marie</td>\n",
       "      <td>5.600</td>\n",
       "      <td>79.000</td>\n",
       "      <td>False</td>\n",
       "      <td>/5xjW0kRbon7tfJ7U0SWcQVuMhKO.jpg</td>\n",
       "      <td>0.000</td>\n",
       "      <td>['Drama']</td>\n",
       "      <td>NaN</td>\n",
       "      <td>314644.000</td>\n",
       "      <td>tt4162100</td>\n",
       "      <td>fr</td>\n",
       "      <td>Antoine et Marie</td>\n",
       "      <td>Marie leads a calm and happy life withe her bo...</td>\n",
       "      <td>0.846</td>\n",
       "      <td>/qMdAKDup3vNiaaE6wUUBRjlRPYI.jpg</td>\n",
       "      <td>['CA']</td>\n",
       "      <td>2014-10-16</td>\n",
       "      <td>0.000</td>\n",
       "      <td>85.000</td>\n",
       "      <td>['fr']</td>\n",
       "      <td>Released</td>\n",
       "      <td>NaN</td>\n",
       "      <td>Antoine et Marie</td>\n",
       "      <td>False</td>\n",
       "      <td>5.000</td>\n",
       "      <td>5.000</td>\n",
       "      <td>['DPOST']</td>\n",
       "      <td>NaN</td>\n",
       "    </tr>\n",
       "    <tr>\n",
       "      <th>155</th>\n",
       "      <td>tt0006488</td>\n",
       "      <td>tt0006488</td>\n",
       "      <td>movie</td>\n",
       "      <td>Caprice of the Mountains</td>\n",
       "      <td>Caprice of the Mountains</td>\n",
       "      <td>0.000</td>\n",
       "      <td>1916.000</td>\n",
       "      <td>NaN</td>\n",
       "      <td>75</td>\n",
       "      <td>Drama</td>\n",
       "      <td>La fleur enchantée</td>\n",
       "      <td>NaN</td>\n",
       "      <td>NaN</td>\n",
       "      <td>NaN</td>\n",
       "      <td>NaN</td>\n",
       "      <td>NaN</td>\n",
       "      <td>NaN</td>\n",
       "      <td>NaN</td>\n",
       "      <td>NaN</td>\n",
       "      <td>NaN</td>\n",
       "      <td>NaN</td>\n",
       "      <td>NaN</td>\n",
       "      <td>NaN</td>\n",
       "      <td>NaN</td>\n",
       "      <td>NaN</td>\n",
       "      <td>NaN</td>\n",
       "      <td>NaN</td>\n",
       "      <td>NaN</td>\n",
       "      <td>NaN</td>\n",
       "      <td>NaN</td>\n",
       "      <td>NaN</td>\n",
       "      <td>NaN</td>\n",
       "      <td>NaN</td>\n",
       "      <td>NaN</td>\n",
       "      <td>NaN</td>\n",
       "      <td>NaN</td>\n",
       "      <td>NaN</td>\n",
       "      <td>NaN</td>\n",
       "    </tr>\n",
       "    <tr>\n",
       "      <th>81601</th>\n",
       "      <td>tt8366590</td>\n",
       "      <td>tt8366590</td>\n",
       "      <td>movie</td>\n",
       "      <td>Baaghi 3</td>\n",
       "      <td>Baaghi 3</td>\n",
       "      <td>0.000</td>\n",
       "      <td>2020.000</td>\n",
       "      <td>NaN</td>\n",
       "      <td>143</td>\n",
       "      <td>Action,Adventure,Thriller</td>\n",
       "      <td>Baaghi 3</td>\n",
       "      <td>2.200</td>\n",
       "      <td>13831.000</td>\n",
       "      <td>False</td>\n",
       "      <td>/nQV1lkgGn0FhqDeDr4b8VLhn1ow.jpg</td>\n",
       "      <td>7952450.000</td>\n",
       "      <td>['Action', 'Adventure', 'Thriller']</td>\n",
       "      <td>NaN</td>\n",
       "      <td>594669.000</td>\n",
       "      <td>tt8366590</td>\n",
       "      <td>hi</td>\n",
       "      <td>बाघी ३</td>\n",
       "      <td>A man embarks on a bloody rampage to save his ...</td>\n",
       "      <td>8.816</td>\n",
       "      <td>/14nxzkz2ZE0BXoywF6UnP5rjfcL.jpg</td>\n",
       "      <td>['IN']</td>\n",
       "      <td>2020-03-06</td>\n",
       "      <td>0.000</td>\n",
       "      <td>143.000</td>\n",
       "      <td>['hi', 'tr']</td>\n",
       "      <td>Released</td>\n",
       "      <td>This time He's up against a Nation</td>\n",
       "      <td>Baaghi 3</td>\n",
       "      <td>False</td>\n",
       "      <td>7.130</td>\n",
       "      <td>92.000</td>\n",
       "      <td>['Nadiadwala Grandson Entertainment', 'Star St...</td>\n",
       "      <td>['IN', 'IN']</td>\n",
       "    </tr>\n",
       "    <tr>\n",
       "      <th>1600</th>\n",
       "      <td>tt0013679</td>\n",
       "      <td>tt0013679</td>\n",
       "      <td>movie</td>\n",
       "      <td>Tillie</td>\n",
       "      <td>Tillie</td>\n",
       "      <td>0.000</td>\n",
       "      <td>1922.000</td>\n",
       "      <td>NaN</td>\n",
       "      <td>50</td>\n",
       "      <td>Drama</td>\n",
       "      <td>Le roman de cousine Laure</td>\n",
       "      <td>7.200</td>\n",
       "      <td>18.000</td>\n",
       "      <td>False</td>\n",
       "      <td>NaN</td>\n",
       "      <td>0.000</td>\n",
       "      <td>['Drama']</td>\n",
       "      <td>NaN</td>\n",
       "      <td>751110.000</td>\n",
       "      <td>tt0013679</td>\n",
       "      <td>en</td>\n",
       "      <td>Tillie</td>\n",
       "      <td>Tillie Getz (Minter), the eldest daughter of J...</td>\n",
       "      <td>0.600</td>\n",
       "      <td>/7oJzlG76vHOAXPJTYnjeILviLYz.jpg</td>\n",
       "      <td>[]</td>\n",
       "      <td>1922-01-30</td>\n",
       "      <td>0.000</td>\n",
       "      <td>50.000</td>\n",
       "      <td>[]</td>\n",
       "      <td>Released</td>\n",
       "      <td>NaN</td>\n",
       "      <td>Tillie</td>\n",
       "      <td>False</td>\n",
       "      <td>0.000</td>\n",
       "      <td>0.000</td>\n",
       "      <td>['Realart Pictures Corporation', 'Paramount']</td>\n",
       "      <td>['US', 'US']</td>\n",
       "    </tr>\n",
       "    <tr>\n",
       "      <th>64633</th>\n",
       "      <td>tt21816560</td>\n",
       "      <td>tt21816560</td>\n",
       "      <td>movie</td>\n",
       "      <td>A Cooler Climate</td>\n",
       "      <td>A Cooler Climate</td>\n",
       "      <td>0.000</td>\n",
       "      <td>2022.000</td>\n",
       "      <td>NaN</td>\n",
       "      <td>75</td>\n",
       "      <td>Documentary</td>\n",
       "      <td>Un été afghan</td>\n",
       "      <td>6.100</td>\n",
       "      <td>57.000</td>\n",
       "      <td>False</td>\n",
       "      <td>/zEJZPTJLjoCKQZwoxdSI2nEDLi7.jpg</td>\n",
       "      <td>0.000</td>\n",
       "      <td>['Documentary']</td>\n",
       "      <td>NaN</td>\n",
       "      <td>1013569.000</td>\n",
       "      <td>tt21816560</td>\n",
       "      <td>en</td>\n",
       "      <td>A Cooler Climate</td>\n",
       "      <td>Award-winning filmmaker James Ivory recounts h...</td>\n",
       "      <td>1.022</td>\n",
       "      <td>/uiXeQmqjCgXRMJpSInmLEuwWWGd.jpg</td>\n",
       "      <td>['US']</td>\n",
       "      <td>2022-10-07</td>\n",
       "      <td>0.000</td>\n",
       "      <td>75.000</td>\n",
       "      <td>[]</td>\n",
       "      <td>Released</td>\n",
       "      <td>NaN</td>\n",
       "      <td>A Cooler Climate</td>\n",
       "      <td>False</td>\n",
       "      <td>0.000</td>\n",
       "      <td>0.000</td>\n",
       "      <td>[]</td>\n",
       "      <td>[]</td>\n",
       "    </tr>\n",
       "    <tr>\n",
       "      <th>75189</th>\n",
       "      <td>tt4949290</td>\n",
       "      <td>tt4949290</td>\n",
       "      <td>movie</td>\n",
       "      <td>Cartels</td>\n",
       "      <td>Cartels</td>\n",
       "      <td>0.000</td>\n",
       "      <td>2016.000</td>\n",
       "      <td>NaN</td>\n",
       "      <td>95</td>\n",
       "      <td>Action,Crime,Thriller</td>\n",
       "      <td>Cartels</td>\n",
       "      <td>3.700</td>\n",
       "      <td>2206.000</td>\n",
       "      <td>False</td>\n",
       "      <td>/2q4De2NH8dUk8jjWNw2IZ7pEcHx.jpg</td>\n",
       "      <td>7000000.000</td>\n",
       "      <td>['Crime', 'Action']</td>\n",
       "      <td>NaN</td>\n",
       "      <td>412678.000</td>\n",
       "      <td>tt4949290</td>\n",
       "      <td>en</td>\n",
       "      <td>Cartels</td>\n",
       "      <td>An elite team of DEA agents are assigned to pr...</td>\n",
       "      <td>6.002</td>\n",
       "      <td>/2J7jc9VZroyf4rFlyWJ0mIreu2A.jpg</td>\n",
       "      <td>['RO', 'US']</td>\n",
       "      <td>2017-01-23</td>\n",
       "      <td>37766.000</td>\n",
       "      <td>99.000</td>\n",
       "      <td>['en']</td>\n",
       "      <td>Released</td>\n",
       "      <td>NaN</td>\n",
       "      <td>Cartels</td>\n",
       "      <td>False</td>\n",
       "      <td>5.321</td>\n",
       "      <td>42.000</td>\n",
       "      <td>['Action House', 'Daro Film Distribution', '24...</td>\n",
       "      <td>['', 'MC', '']</td>\n",
       "    </tr>\n",
       "  </tbody>\n",
       "</table>\n",
       "</div>"
      ]
     },
     "metadata": {},
     "output_type": "display_data"
    }
   ],
   "execution_count": 37
  },
  {
   "cell_type": "code",
   "metadata": {
    "ExecuteTime": {
     "end_time": "2024-05-21T17:38:46.960675Z",
     "start_time": "2024-05-21T17:38:46.814910Z"
    }
   },
   "source": [
    "# Which TMdb genre for NA genre in IMDB\n",
    "movie_final[movie_final[\"genres_x\"].isna()][\"genres_y\"].unique()"
   ],
   "outputs": [
    {
     "data": {
      "text/plain": [
       "array(['[]', nan, \"['Drama', 'History']\", \"['Drama']\",\n",
       "       \"['Science Fiction']\", \"['Mystery', 'Crime']\", \"['Comedy']\",\n",
       "       \"['Adventure']\", \"['Drama', 'Comedy']\", \"['Crime', 'Drama']\",\n",
       "       \"['Comedy', 'Drama']\", \"['Drama', 'Action', 'Adventure']\",\n",
       "       \"['Music', 'Comedy']\", \"['Adventure', 'Drama']\",\n",
       "       \"['Romance', 'Comedy']\", \"['Romance', 'Drama']\",\n",
       "       \"['Drama', 'War']\", \"['Comedy', 'Music']\", \"['Drama', 'Music']\",\n",
       "       \"['Music', 'Romance', 'Drama']\", \"['Family', 'Music']\",\n",
       "       \"['Music']\", \"['Crime']\", \"['Romance']\", \"['Drama', 'Family']\",\n",
       "       \"['Documentary']\", \"['Comedy', 'Drama', 'Romance']\",\n",
       "       \"['Drama', 'Documentary']\", \"['Thriller']\", \"['Crime', 'Comedy']\",\n",
       "       \"['Thriller', 'Drama']\", \"['Family', 'Drama']\",\n",
       "       \"['Comedy', 'Romance']\", \"['Drama', 'Romance']\",\n",
       "       \"['Action', 'Comedy']\", \"['Action', 'Adventure', 'History']\",\n",
       "       \"['History']\", \"['Crime', 'Action', 'Drama']\",\n",
       "       \"['Crime', 'Action']\", \"['Drama', 'Drama']\",\n",
       "       \"['Drama', 'History', 'Fantasy']\", \"['Horror']\",\n",
       "       \"['Fantasy', 'Music']\", \"['Documentary', 'History']\",\n",
       "       \"['Thriller', 'Crime']\", \"['Comedy', 'Family']\",\n",
       "       \"['Music', 'Family', 'Drama']\", \"['Comedy', 'Thriller']\",\n",
       "       \"['Fantasy']\", \"['Documentary', 'Drama']\", \"['Animation']\",\n",
       "       \"['Science Fiction', 'Comedy']\", \"['Music', 'Documentary']\",\n",
       "       \"['Documentary', 'War', 'History']\",\n",
       "       \"['Documentary', 'Adventure']\", \"['Documentary', 'Animation']\",\n",
       "       \"['Crime', 'Science Fiction', 'Thriller']\",\n",
       "       \"['Animation', 'Family']\", \"['Thriller', 'Horror']\"], dtype=object)"
      ]
     },
     "execution_count": 38,
     "metadata": {},
     "output_type": "execute_result"
    }
   ],
   "execution_count": 38
  },
  {
   "cell_type": "code",
   "metadata": {
    "ExecuteTime": {
     "end_time": "2024-05-21T17:38:46.979526Z",
     "start_time": "2024-05-21T17:38:46.964827Z"
    }
   },
   "source": [
    "to_add = movie_final[(movie_final[\"genres_x\"].isna()) & (movie_final[\"genres_y\"].notna()) & (movie_final[\"genres_y\"] != \"[]\")]"
   ],
   "outputs": [],
   "execution_count": 39
  },
  {
   "cell_type": "code",
   "metadata": {
    "ExecuteTime": {
     "end_time": "2024-05-21T17:38:49.951518Z",
     "start_time": "2024-05-21T17:38:47.895032Z"
    }
   },
   "source": [
    "movie_final.drop(movie_final[movie_final[\"genres_x\"].isna()].index, inplace = True)"
   ],
   "outputs": [],
   "execution_count": 41
  },
  {
   "cell_type": "code",
   "metadata": {
    "ExecuteTime": {
     "end_time": "2024-05-21T17:38:53.316532Z",
     "start_time": "2024-05-21T17:38:53.039057Z"
    }
   },
   "source": [
    "movie_final = pd.concat([movie_final, to_add])"
   ],
   "outputs": [],
   "execution_count": 43
  },
  {
   "cell_type": "code",
   "metadata": {
    "ExecuteTime": {
     "end_time": "2024-05-21T17:38:57.269125Z",
     "start_time": "2024-05-21T17:38:57.255757Z"
    }
   },
   "source": [
    "movie_final[\"status\"].value_counts()"
   ],
   "outputs": [
    {
     "data": {
      "text/plain": [
       "Released           59683\n",
       "Post Production      326\n",
       "In Production        217\n",
       "Planned               92\n",
       "Canceled               3\n",
       "Rumored                2\n",
       "Name: status, dtype: int64"
      ]
     },
     "execution_count": 46,
     "metadata": {},
     "output_type": "execute_result"
    }
   ],
   "execution_count": 46
  },
  {
   "cell_type": "code",
   "metadata": {
    "ExecuteTime": {
     "end_time": "2024-05-21T17:39:03.059080Z",
     "start_time": "2024-05-21T17:38:58.295563Z"
    }
   },
   "source": [
    "movie_final = movie_final[movie_final[\"status\"] == \"Released\"]"
   ],
   "outputs": [],
   "execution_count": 47
  },
  {
   "cell_type": "code",
   "metadata": {
    "ExecuteTime": {
     "end_time": "2024-05-21T17:39:05.586031Z",
     "start_time": "2024-05-21T17:39:04.251552Z"
    }
   },
   "source": [
    "movie_final.drop(columns = [\"key_0\", \"titleType\", \"endYear\", \"adult\", \"budget\", \"homepage\", \"production_countries\", \"original_title\", \"revenue\", \"spoken_languages\", \"status\", \"tagline\", \"video\"], inplace = True)"
   ],
   "outputs": [],
   "execution_count": 49
  },
  {
   "cell_type": "code",
   "metadata": {
    "ExecuteTime": {
     "end_time": "2024-05-21T17:39:05.944393Z",
     "start_time": "2024-05-21T17:39:05.929694Z"
    }
   },
   "source": [
    "movie_final[\"release_date\"].fillna(movie_final[\"startYear\"], inplace = True)"
   ],
   "outputs": [],
   "execution_count": 51
  },
  {
   "cell_type": "code",
   "metadata": {
    "ExecuteTime": {
     "end_time": "2024-05-21T17:39:06.125565Z",
     "start_time": "2024-05-21T17:39:05.947551Z"
    }
   },
   "source": [
    "movie_final.dropna(subset = \"release_date\", inplace = True)"
   ],
   "outputs": [],
   "execution_count": 52
  },
  {
   "cell_type": "code",
   "metadata": {
    "ExecuteTime": {
     "end_time": "2024-05-21T17:39:07.927868Z",
     "start_time": "2024-05-21T17:39:06.387584Z"
    }
   },
   "source": [
    "movie_final[\"release_date\"] = movie_final[\"release_date\"].apply(lambda x: str(x)[:4])"
   ],
   "outputs": [],
   "execution_count": 53
  },
  {
   "cell_type": "code",
   "metadata": {
    "ExecuteTime": {
     "end_time": "2024-05-21T17:39:07.951139Z",
     "start_time": "2024-05-21T17:39:07.933319Z"
    }
   },
   "source": [
    "movie_final[\"averageRating\"].fillna(movie_final[\"vote_average\"], inplace = True)"
   ],
   "outputs": [],
   "execution_count": 54
  },
  {
   "cell_type": "code",
   "metadata": {
    "ExecuteTime": {
     "end_time": "2024-05-21T17:39:07.957990Z",
     "start_time": "2024-05-21T17:39:07.951910Z"
    }
   },
   "source": [
    "movie_final[\"runtimeMinutes\"].fillna(movie_final[\"runtime\"], inplace = True)"
   ],
   "outputs": [],
   "execution_count": 55
  },
  {
   "cell_type": "code",
   "metadata": {
    "ExecuteTime": {
     "end_time": "2024-05-21T17:39:12.700416Z",
     "start_time": "2024-05-21T17:39:08.638567Z"
    }
   },
   "source": [
    "movie_final.dropna(subset = \"runtimeMinutes\", inplace = True)"
   ],
   "outputs": [],
   "execution_count": 56
  },
  {
   "cell_type": "code",
   "metadata": {
    "ExecuteTime": {
     "end_time": "2024-05-21T17:39:12.960224Z",
     "start_time": "2024-05-21T17:39:12.702703Z"
    }
   },
   "source": [
    "movie_final[\"runtimeMinutes\"] = movie_final[\"runtimeMinutes\"].apply(lambda x: int(x))"
   ],
   "outputs": [],
   "execution_count": 57
  },
  {
   "cell_type": "code",
   "metadata": {
    "ExecuteTime": {
     "end_time": "2024-05-21T17:39:12.963796Z",
     "start_time": "2024-05-21T17:39:12.960785Z"
    }
   },
   "source": [
    "movie_final[\"numVotes\"].fillna(movie_final[\"vote_count\"], inplace = True)"
   ],
   "outputs": [],
   "execution_count": 58
  },
  {
   "cell_type": "code",
   "metadata": {
    "ExecuteTime": {
     "end_time": "2024-05-21T17:39:12.983345Z",
     "start_time": "2024-05-21T17:39:12.964961Z"
    }
   },
   "source": [
    "movie_final.drop(columns = [\"startYear\", \"runtime\", \"vote_average\", \"vote_count\"], inplace = True)"
   ],
   "outputs": [],
   "execution_count": 59
  },
  {
   "cell_type": "code",
   "metadata": {
    "ExecuteTime": {
     "end_time": "2024-05-21T17:39:12.995066Z",
     "start_time": "2024-05-21T17:39:12.984061Z"
    }
   },
   "source": [
    "movie_final[\"genres_x\"].fillna(movie_final[\"genres_y\"], inplace = True)\n",
    "\n",
    "movie_final[\"genres_x\"].isna().value_counts()"
   ],
   "outputs": [
    {
     "data": {
      "text/plain": [
       "False    59682\n",
       "Name: genres_x, dtype: int64"
      ]
     },
     "execution_count": 60,
     "metadata": {},
     "output_type": "execute_result"
    }
   ],
   "execution_count": 60
  },
  {
   "cell_type": "code",
   "metadata": {
    "ExecuteTime": {
     "end_time": "2024-05-21T17:39:17.967900Z",
     "start_time": "2024-05-21T17:39:17.936703Z"
    }
   },
   "source": [
    "movie_final[\"genres_x\"] = movie_final[\"genres_x\"].apply(lambda x: x.replace(\"[\", \"\").replace(\"]\", \"\").replace(\"'\", \"\").replace(\" \", \"\"))"
   ],
   "outputs": [],
   "execution_count": 63
  },
  {
   "cell_type": "code",
   "metadata": {
    "ExecuteTime": {
     "end_time": "2024-05-21T17:39:21.279176Z",
     "start_time": "2024-05-21T17:39:21.125817Z"
    }
   },
   "source": [
    "movie_final[\"genres_x\"] = movie_final[\"genres_x\"].apply(lambda x: x.split(\",\"))"
   ],
   "outputs": [],
   "execution_count": 64
  },
  {
   "metadata": {
    "ExecuteTime": {
     "end_time": "2024-05-21T17:39:21.455634Z",
     "start_time": "2024-05-21T17:39:21.453871Z"
    }
   },
   "cell_type": "code",
   "source": "#movie_final.to_csv('movie_final.csv')",
   "outputs": [],
   "execution_count": 65
  },
  {
   "cell_type": "code",
   "metadata": {
    "ExecuteTime": {
     "end_time": "2024-05-21T17:39:22.074852Z",
     "start_time": "2024-05-21T17:39:22.052073Z"
    }
   },
   "source": [
    "movie_final[\"genres_x\"].explode(\"genres_x\").unique()"
   ],
   "outputs": [
    {
     "data": {
      "text/plain": [
       "array(['Drama', 'Adventure', 'Fantasy', 'Biography', 'Romance', 'History',\n",
       "       'Comedy', 'Crime', 'Mystery', 'Horror', 'Western', 'Action',\n",
       "       'Family', 'War', 'Sci-Fi', 'Thriller', 'Sport', 'Documentary',\n",
       "       'Music', 'Animation', 'Musical', 'Film-Noir', 'News',\n",
       "       'ScienceFiction'], dtype=object)"
      ]
     },
     "execution_count": 66,
     "metadata": {},
     "output_type": "execute_result"
    }
   ],
   "execution_count": 66
  },
  {
   "cell_type": "code",
   "metadata": {
    "ExecuteTime": {
     "end_time": "2024-05-21T17:39:22.554871Z",
     "start_time": "2024-05-21T17:39:22.552878Z"
    }
   },
   "source": [
    "def repl_list(listing, old_word, new_word):\n",
    "    for ind, ele in enumerate(listing):\n",
    "        if ele == old_word:\n",
    "            listing[ind] = new_word\n",
    "    return listing"
   ],
   "outputs": [],
   "execution_count": 67
  },
  {
   "cell_type": "code",
   "metadata": {
    "ExecuteTime": {
     "end_time": "2024-05-21T17:39:23.670123Z",
     "start_time": "2024-05-21T17:39:23.652301Z"
    }
   },
   "source": [
    "movie_final[\"genres_x\"] = movie_final[\"genres_x\"].apply(lambda x: repl_list(x, 'ScienceFiction', 'Sci-Fi'))"
   ],
   "outputs": [],
   "execution_count": 68
  },
  {
   "cell_type": "code",
   "metadata": {
    "ExecuteTime": {
     "end_time": "2024-05-21T17:39:24.614925Z",
     "start_time": "2024-05-21T17:39:24.594497Z"
    }
   },
   "source": [
    "movie_final[\"genres_x\"] = movie_final[\"genres_x\"].apply(lambda x: repl_list(x, 'Musical', 'Music'))\n"
   ],
   "outputs": [],
   "execution_count": 69
  },
  {
   "cell_type": "code",
   "metadata": {
    "ExecuteTime": {
     "end_time": "2024-05-21T17:39:26.678622Z",
     "start_time": "2024-05-21T17:39:26.651781Z"
    }
   },
   "source": "len(movie_final[\"genres_x\"].explode().unique())",
   "outputs": [
    {
     "data": {
      "text/plain": [
       "22"
      ]
     },
     "execution_count": 71,
     "metadata": {},
     "output_type": "execute_result"
    }
   ],
   "execution_count": 71
  },
  {
   "metadata": {
    "ExecuteTime": {
     "end_time": "2024-05-21T17:39:27.730989Z",
     "start_time": "2024-05-21T17:39:27.549133Z"
    }
   },
   "cell_type": "code",
   "source": [
    "test =pd.DataFrame( movie_final['averageRating'].sort_values(ascending = False))\n",
    "test['genre'] = movie_final['genres_x']\n",
    "test['title'] = movie_final['title_x']\n"
   ],
   "outputs": [
    {
     "data": {
      "text/plain": [
       "       averageRating                             genre  \\\n",
       "83719         10.000  [Biography, Documentary, Family]   \n",
       "33867         10.000                          [Comedy]   \n",
       "45966         10.000                     [Documentary]   \n",
       "8083          10.000                           [Drama]   \n",
       "58951         10.000                         [Fantasy]   \n",
       "...              ...                               ...   \n",
       "47042          0.000                     [Documentary]   \n",
       "62881          0.000                  [Drama, Fantasy]   \n",
       "18522          0.000            [Action, Crime, Drama]   \n",
       "79032          0.000                     [Documentary]   \n",
       "82727          0.000                   [Comedy, Drama]   \n",
       "\n",
       "                                                 title  \n",
       "83719       Je ne sais pas quelle ville est à ses yeux  \n",
       "33867                                   Mon ami Victor  \n",
       "45966                             L'esprit de la route  \n",
       "8083                                Les noces de sable  \n",
       "58951                                       Purplemind  \n",
       "...                                                ...  \n",
       "47042                                          Liberté  \n",
       "62881                                         Nymphose  \n",
       "18522                                  Karaté sanglant  \n",
       "79032  Tes cheveux démêlés cachent une guerre de 7 ans  \n",
       "82727                            Une fois comme jamais  \n",
       "\n",
       "[59682 rows x 3 columns]"
      ],
      "text/html": [
       "<div>\n",
       "<style scoped>\n",
       "    .dataframe tbody tr th:only-of-type {\n",
       "        vertical-align: middle;\n",
       "    }\n",
       "\n",
       "    .dataframe tbody tr th {\n",
       "        vertical-align: top;\n",
       "    }\n",
       "\n",
       "    .dataframe thead th {\n",
       "        text-align: right;\n",
       "    }\n",
       "</style>\n",
       "<table border=\"1\" class=\"dataframe\">\n",
       "  <thead>\n",
       "    <tr style=\"text-align: right;\">\n",
       "      <th></th>\n",
       "      <th>averageRating</th>\n",
       "      <th>genre</th>\n",
       "      <th>title</th>\n",
       "    </tr>\n",
       "  </thead>\n",
       "  <tbody>\n",
       "    <tr>\n",
       "      <th>83719</th>\n",
       "      <td>10.000</td>\n",
       "      <td>[Biography, Documentary, Family]</td>\n",
       "      <td>Je ne sais pas quelle ville est à ses yeux</td>\n",
       "    </tr>\n",
       "    <tr>\n",
       "      <th>33867</th>\n",
       "      <td>10.000</td>\n",
       "      <td>[Comedy]</td>\n",
       "      <td>Mon ami Victor</td>\n",
       "    </tr>\n",
       "    <tr>\n",
       "      <th>45966</th>\n",
       "      <td>10.000</td>\n",
       "      <td>[Documentary]</td>\n",
       "      <td>L'esprit de la route</td>\n",
       "    </tr>\n",
       "    <tr>\n",
       "      <th>8083</th>\n",
       "      <td>10.000</td>\n",
       "      <td>[Drama]</td>\n",
       "      <td>Les noces de sable</td>\n",
       "    </tr>\n",
       "    <tr>\n",
       "      <th>58951</th>\n",
       "      <td>10.000</td>\n",
       "      <td>[Fantasy]</td>\n",
       "      <td>Purplemind</td>\n",
       "    </tr>\n",
       "    <tr>\n",
       "      <th>...</th>\n",
       "      <td>...</td>\n",
       "      <td>...</td>\n",
       "      <td>...</td>\n",
       "    </tr>\n",
       "    <tr>\n",
       "      <th>47042</th>\n",
       "      <td>0.000</td>\n",
       "      <td>[Documentary]</td>\n",
       "      <td>Liberté</td>\n",
       "    </tr>\n",
       "    <tr>\n",
       "      <th>62881</th>\n",
       "      <td>0.000</td>\n",
       "      <td>[Drama, Fantasy]</td>\n",
       "      <td>Nymphose</td>\n",
       "    </tr>\n",
       "    <tr>\n",
       "      <th>18522</th>\n",
       "      <td>0.000</td>\n",
       "      <td>[Action, Crime, Drama]</td>\n",
       "      <td>Karaté sanglant</td>\n",
       "    </tr>\n",
       "    <tr>\n",
       "      <th>79032</th>\n",
       "      <td>0.000</td>\n",
       "      <td>[Documentary]</td>\n",
       "      <td>Tes cheveux démêlés cachent une guerre de 7 ans</td>\n",
       "    </tr>\n",
       "    <tr>\n",
       "      <th>82727</th>\n",
       "      <td>0.000</td>\n",
       "      <td>[Comedy, Drama]</td>\n",
       "      <td>Une fois comme jamais</td>\n",
       "    </tr>\n",
       "  </tbody>\n",
       "</table>\n",
       "<p>59682 rows × 3 columns</p>\n",
       "</div>"
      ]
     },
     "execution_count": 72,
     "metadata": {},
     "output_type": "execute_result"
    }
   ],
   "execution_count": 72
  },
  {
   "metadata": {
    "ExecuteTime": {
     "end_time": "2024-05-21T17:39:28.629056Z",
     "start_time": "2024-05-21T17:39:28.467976Z"
    }
   },
   "cell_type": "code",
   "source": "test.reset_index()",
   "outputs": [
    {
     "data": {
      "text/plain": [
       "       index  averageRating                             genre  \\\n",
       "0      83719         10.000  [Biography, Documentary, Family]   \n",
       "1      33867         10.000                          [Comedy]   \n",
       "2      45966         10.000                     [Documentary]   \n",
       "3       8083         10.000                           [Drama]   \n",
       "4      58951         10.000                         [Fantasy]   \n",
       "...      ...            ...                               ...   \n",
       "59677  47042          0.000                     [Documentary]   \n",
       "59678  62881          0.000                  [Drama, Fantasy]   \n",
       "59679  18522          0.000            [Action, Crime, Drama]   \n",
       "59680  79032          0.000                     [Documentary]   \n",
       "59681  82727          0.000                   [Comedy, Drama]   \n",
       "\n",
       "                                                 title  \n",
       "0           Je ne sais pas quelle ville est à ses yeux  \n",
       "1                                       Mon ami Victor  \n",
       "2                                 L'esprit de la route  \n",
       "3                                   Les noces de sable  \n",
       "4                                           Purplemind  \n",
       "...                                                ...  \n",
       "59677                                          Liberté  \n",
       "59678                                         Nymphose  \n",
       "59679                                  Karaté sanglant  \n",
       "59680  Tes cheveux démêlés cachent une guerre de 7 ans  \n",
       "59681                            Une fois comme jamais  \n",
       "\n",
       "[59682 rows x 4 columns]"
      ],
      "text/html": [
       "<div>\n",
       "<style scoped>\n",
       "    .dataframe tbody tr th:only-of-type {\n",
       "        vertical-align: middle;\n",
       "    }\n",
       "\n",
       "    .dataframe tbody tr th {\n",
       "        vertical-align: top;\n",
       "    }\n",
       "\n",
       "    .dataframe thead th {\n",
       "        text-align: right;\n",
       "    }\n",
       "</style>\n",
       "<table border=\"1\" class=\"dataframe\">\n",
       "  <thead>\n",
       "    <tr style=\"text-align: right;\">\n",
       "      <th></th>\n",
       "      <th>index</th>\n",
       "      <th>averageRating</th>\n",
       "      <th>genre</th>\n",
       "      <th>title</th>\n",
       "    </tr>\n",
       "  </thead>\n",
       "  <tbody>\n",
       "    <tr>\n",
       "      <th>0</th>\n",
       "      <td>83719</td>\n",
       "      <td>10.000</td>\n",
       "      <td>[Biography, Documentary, Family]</td>\n",
       "      <td>Je ne sais pas quelle ville est à ses yeux</td>\n",
       "    </tr>\n",
       "    <tr>\n",
       "      <th>1</th>\n",
       "      <td>33867</td>\n",
       "      <td>10.000</td>\n",
       "      <td>[Comedy]</td>\n",
       "      <td>Mon ami Victor</td>\n",
       "    </tr>\n",
       "    <tr>\n",
       "      <th>2</th>\n",
       "      <td>45966</td>\n",
       "      <td>10.000</td>\n",
       "      <td>[Documentary]</td>\n",
       "      <td>L'esprit de la route</td>\n",
       "    </tr>\n",
       "    <tr>\n",
       "      <th>3</th>\n",
       "      <td>8083</td>\n",
       "      <td>10.000</td>\n",
       "      <td>[Drama]</td>\n",
       "      <td>Les noces de sable</td>\n",
       "    </tr>\n",
       "    <tr>\n",
       "      <th>4</th>\n",
       "      <td>58951</td>\n",
       "      <td>10.000</td>\n",
       "      <td>[Fantasy]</td>\n",
       "      <td>Purplemind</td>\n",
       "    </tr>\n",
       "    <tr>\n",
       "      <th>...</th>\n",
       "      <td>...</td>\n",
       "      <td>...</td>\n",
       "      <td>...</td>\n",
       "      <td>...</td>\n",
       "    </tr>\n",
       "    <tr>\n",
       "      <th>59677</th>\n",
       "      <td>47042</td>\n",
       "      <td>0.000</td>\n",
       "      <td>[Documentary]</td>\n",
       "      <td>Liberté</td>\n",
       "    </tr>\n",
       "    <tr>\n",
       "      <th>59678</th>\n",
       "      <td>62881</td>\n",
       "      <td>0.000</td>\n",
       "      <td>[Drama, Fantasy]</td>\n",
       "      <td>Nymphose</td>\n",
       "    </tr>\n",
       "    <tr>\n",
       "      <th>59679</th>\n",
       "      <td>18522</td>\n",
       "      <td>0.000</td>\n",
       "      <td>[Action, Crime, Drama]</td>\n",
       "      <td>Karaté sanglant</td>\n",
       "    </tr>\n",
       "    <tr>\n",
       "      <th>59680</th>\n",
       "      <td>79032</td>\n",
       "      <td>0.000</td>\n",
       "      <td>[Documentary]</td>\n",
       "      <td>Tes cheveux démêlés cachent une guerre de 7 ans</td>\n",
       "    </tr>\n",
       "    <tr>\n",
       "      <th>59681</th>\n",
       "      <td>82727</td>\n",
       "      <td>0.000</td>\n",
       "      <td>[Comedy, Drama]</td>\n",
       "      <td>Une fois comme jamais</td>\n",
       "    </tr>\n",
       "  </tbody>\n",
       "</table>\n",
       "<p>59682 rows × 4 columns</p>\n",
       "</div>"
      ]
     },
     "execution_count": 73,
     "metadata": {},
     "output_type": "execute_result"
    }
   ],
   "execution_count": 73
  },
  {
   "cell_type": "markdown",
   "metadata": {},
   "source": [
    "We create as much columns as genre to \"get_dummie\" the variable one by one to consider the multi genre films"
   ]
  },
  {
   "cell_type": "code",
   "metadata": {
    "ExecuteTime": {
     "end_time": "2024-05-21T17:39:30.533034Z",
     "start_time": "2024-05-21T17:39:30.271195Z"
    }
   },
   "source": [
    "genre_list = movie_final[\"genres_x\"].explode().unique()\n",
    "\n",
    "for genr in genre_list:\n",
    "    movie_final[genr] = movie_final[\"genres_x\"].apply(lambda x: 1 if genr in (x) else 0)"
   ],
   "outputs": [],
   "execution_count": 74
  },
  {
   "cell_type": "code",
   "metadata": {
    "ExecuteTime": {
     "end_time": "2024-05-21T17:39:36.238923Z",
     "start_time": "2024-05-21T17:39:33.698716Z"
    }
   },
   "source": [
    "movie_final.sample(10)"
   ],
   "outputs": [
    {
     "data": {
      "text/plain": [
       "           tconst                       primaryTitle  \\\n",
       "54756  tt12989912                         Ultrasound   \n",
       "38391   tt0218641                          Submerged   \n",
       "14866   tt0059116                      The Possessed   \n",
       "9115    tt0043813  The Model and the Marriage Broker   \n",
       "23648   tt0088763                 Back to the Future   \n",
       "21780   tt0081197                           Bordello   \n",
       "44582   tt0405096               Ladybirds' Christmas   \n",
       "35640   tt0188506                    A Monkey's Tale   \n",
       "40807   tt0282628                           Jan Dara   \n",
       "12780   tt0053724                       El cochecito   \n",
       "\n",
       "                           originalTitle  isAdult  runtimeMinutes  \\\n",
       "54756                         Ultrasound    0.000             103   \n",
       "38391                          Submerged    0.000              95   \n",
       "14866                  La donna del lago    0.000              95   \n",
       "9115   The Model and the Marriage Broker    0.000             103   \n",
       "23648                 Back to the Future    0.000             116   \n",
       "21780            Las mujeres de Jeremías    0.000              98   \n",
       "44582                Lepatriinude jõulud    0.000              54   \n",
       "35640              Le château des singes    0.000              76   \n",
       "40807                           Jan Dara    0.000             108   \n",
       "12780                       El cochecito    0.000              85   \n",
       "\n",
       "                             genres_x                  title_x  averageRating  \\\n",
       "54756        [Drama, Mystery, Sci-Fi]               Ultrasound          5.800   \n",
       "38391                        [Action]       Péril en haute mer          3.300   \n",
       "14866          [Crime, Drama, Horror]          La femme du lac          7.000   \n",
       "9115                [Comedy, Romance]           Agence cupidon          7.000   \n",
       "23648     [Adventure, Comedy, Sci-Fi]     Retour vers le futur          8.500   \n",
       "21780      [Adventure, Comedy, Drama]  Las mujeres de Jeremías          5.800   \n",
       "44582             [Animation, Family]  Le Noël des coccinelles          7.200   \n",
       "35640  [Adventure, Animation, Family]    Le château des singes          5.700   \n",
       "40807                [Drama, Romance]                 Jan Dara          6.000   \n",
       "12780                 [Comedy, Drama]        La petite voiture          7.300   \n",
       "\n",
       "         numVotes                     backdrop_path  \\\n",
       "54756    1677.000  /o6UwCnhoezCWyTbZE76zipyjHKc.jpg   \n",
       "38391     834.000  /1ePgTmNASS1kH6VuC5Q7FfexFgD.jpg   \n",
       "14866    1420.000  /mzNAJqEjFevV3qr746yEwljT2Sy.jpg   \n",
       "9115      892.000  /8kg5nSI3px7QEOHMpDwm0yi39xx.jpg   \n",
       "23648 1303700.000  /5bzPWQ2dFUl2aZKkp7ILJVVkRed.jpg   \n",
       "21780      74.000                               NaN   \n",
       "44582     255.000  /yqb2fqrmyOPh3FftSUM4vfBzwiV.jpg   \n",
       "35640     527.000  /oG24VU7BdJnw8YeXYvp0bcQzzjU.jpg   \n",
       "40807    2433.000  /vvEt03Fzgc4NujpknFfR1LrXgno.jpg   \n",
       "12780    1564.000  /mJ6SbrfWwviKF1NGp2z89Px7Zij.jpg   \n",
       "\n",
       "                                         genres_y         id     imdb_id  \\\n",
       "54756                         ['Science Fiction'] 821510.000  tt12989912   \n",
       "38391                                  ['Action']  79949.000   tt0218641   \n",
       "14866   ['Mystery', 'Crime', 'Drama', 'Thriller'] 104244.000   tt0059116   \n",
       "9115                          ['Drama', 'Comedy'] 132094.000   tt0043813   \n",
       "23648  ['Adventure', 'Comedy', 'Science Fiction']    105.000   tt0088763   \n",
       "21780          ['Western', 'Adventure', 'Comedy'] 107621.000   tt0081197   \n",
       "44582                     ['Family', 'Animation'] 182121.000   tt0405096   \n",
       "35640        ['Adventure', 'Animation', 'Family']  37949.000   tt0188506   \n",
       "40807                        ['Romance', 'Drama']  68507.000   tt0282628   \n",
       "12780                                  ['Comedy']  99883.000   tt0053724   \n",
       "\n",
       "      original_language                                           overview  \\\n",
       "54756                en  After his car breaks down, Glen spends one hel...   \n",
       "38391                en  Navy SEALs launch a rescue mission after terro...   \n",
       "14866                it  While visiting his favorite resort village dur...   \n",
       "9115                 en  A marriage broker can't resist meddling in the...   \n",
       "23648                en  Eighties teenager Marty McFly is accidentally ...   \n",
       "21780                es  Minister with four virgin daughters inherits a...   \n",
       "44582                et  Two young ladybirds Tim and Mia are unexpected...   \n",
       "35640                fr  Kom is from a tribe of monkeys who live in a c...   \n",
       "40807                th  Jan is a boy growing up in 1930s Siam in a wea...   \n",
       "12780                es  Don Anselmo, a retired old man, decides to buy...   \n",
       "\n",
       "       popularity                       poster_path release_date  \\\n",
       "54756       5.646  /xef7fVF5vhDPQk7yQ0dJwKHIev2.jpg         2022   \n",
       "38391       4.029  /7t5CDAFWpjYh4cFyjIO3d3wDAYK.jpg         2000   \n",
       "14866       2.849  /cwa9oWlNqUNrDCuwir3y84iKK8P.jpg         1965   \n",
       "9115        0.840  /bL00Xs7GYV1ofGJk4YPWqusNWMz.jpg         1951   \n",
       "23648      53.454  /fNOH9f1aA7XRTzl1sAOx9iF553Q.jpg         1985   \n",
       "21780       1.638  /nLSP3BIpAczl8fiwJ8HmymiGNjj.jpg         1981   \n",
       "44582       0.742  /brpoU0pjnRWNGlQ4rklgv7fvBrO.jpg         2001   \n",
       "35640       5.430  /s4pYSLnGHXUyiTs0HNmpUJMYVKv.jpg         1999   \n",
       "40807      21.891  /yPSBDsLZhA3BkKSE4LrPxoIv5mE.jpg         2001   \n",
       "12780       2.476  /jDh5pJ4EnIEwR9JS7DU0Mt47p6P.jpg         1960   \n",
       "\n",
       "                                 title_y  \\\n",
       "54756                         Ultrasound   \n",
       "38391                          Submerged   \n",
       "14866                      The Possessed   \n",
       "9115   The Model and the Marriage Broker   \n",
       "23648                 Back to the Future   \n",
       "21780                           Bordello   \n",
       "44582               Ladybirds' Christmas   \n",
       "35640                    A Monkey's Tale   \n",
       "40807                           Jan Dara   \n",
       "12780                     The Wheelchair   \n",
       "\n",
       "                               production_companies_name  \\\n",
       "54756                                   ['Lodger Films']   \n",
       "38391                                                 []   \n",
       "14866  ['Istituto Luce Cinecittà', 'B.R.C. Produzione...   \n",
       "9115                                ['20th Century Fox']   \n",
       "23648     ['Universal Pictures', 'Amblin Entertainment']   \n",
       "21780          ['Ízaro Films', 'Producciones Esme S.A.']   \n",
       "44582                               ['Eesti Joonisfilm']   \n",
       "35640  ['Steve Walsh Productions', 'Cologne Cartoon',...   \n",
       "40807                              ['Tai Entertainment']   \n",
       "12780                    ['Portabella Film', 'Films 59']   \n",
       "\n",
       "      production_companies_country  Drama  Adventure  Fantasy  Biography  \\\n",
       "54756                         ['']      1          0        0          0   \n",
       "38391                          NaN      0          0        0          0   \n",
       "14866                          NaN      1          0        0          0   \n",
       "9115                           NaN      0          0        0          0   \n",
       "23648                 ['US', 'US']      0          1        0          0   \n",
       "21780                          NaN      1          1        0          0   \n",
       "44582                          NaN      0          0        0          0   \n",
       "35640                          NaN      0          1        0          0   \n",
       "40807                          NaN      1          0        0          0   \n",
       "12780                          NaN      1          0        0          0   \n",
       "\n",
       "       Romance  History  Comedy  Crime  Mystery  Horror  Western  Action  \\\n",
       "54756        0        0       0      0        1       0        0       0   \n",
       "38391        0        0       0      0        0       0        0       1   \n",
       "14866        0        0       0      1        0       1        0       0   \n",
       "9115         1        0       1      0        0       0        0       0   \n",
       "23648        0        0       1      0        0       0        0       0   \n",
       "21780        0        0       1      0        0       0        0       0   \n",
       "44582        0        0       0      0        0       0        0       0   \n",
       "35640        0        0       0      0        0       0        0       0   \n",
       "40807        1        0       0      0        0       0        0       0   \n",
       "12780        0        0       1      0        0       0        0       0   \n",
       "\n",
       "       Family  War  Sci-Fi  Thriller  Sport  Documentary  Music  Animation  \\\n",
       "54756       0    0       1         0      0            0      0          0   \n",
       "38391       0    0       0         0      0            0      0          0   \n",
       "14866       0    0       0         0      0            0      0          0   \n",
       "9115        0    0       0         0      0            0      0          0   \n",
       "23648       0    0       1         0      0            0      0          0   \n",
       "21780       0    0       0         0      0            0      0          0   \n",
       "44582       1    0       0         0      0            0      0          1   \n",
       "35640       1    0       0         0      0            0      0          1   \n",
       "40807       0    0       0         0      0            0      0          0   \n",
       "12780       0    0       0         0      0            0      0          0   \n",
       "\n",
       "       Film-Noir  News  \n",
       "54756          0     0  \n",
       "38391          0     0  \n",
       "14866          0     0  \n",
       "9115           0     0  \n",
       "23648          0     0  \n",
       "21780          0     0  \n",
       "44582          0     0  \n",
       "35640          0     0  \n",
       "40807          0     0  \n",
       "12780          0     0  "
      ],
      "text/html": [
       "<div>\n",
       "<style scoped>\n",
       "    .dataframe tbody tr th:only-of-type {\n",
       "        vertical-align: middle;\n",
       "    }\n",
       "\n",
       "    .dataframe tbody tr th {\n",
       "        vertical-align: top;\n",
       "    }\n",
       "\n",
       "    .dataframe thead th {\n",
       "        text-align: right;\n",
       "    }\n",
       "</style>\n",
       "<table border=\"1\" class=\"dataframe\">\n",
       "  <thead>\n",
       "    <tr style=\"text-align: right;\">\n",
       "      <th></th>\n",
       "      <th>tconst</th>\n",
       "      <th>primaryTitle</th>\n",
       "      <th>originalTitle</th>\n",
       "      <th>isAdult</th>\n",
       "      <th>runtimeMinutes</th>\n",
       "      <th>genres_x</th>\n",
       "      <th>title_x</th>\n",
       "      <th>averageRating</th>\n",
       "      <th>numVotes</th>\n",
       "      <th>backdrop_path</th>\n",
       "      <th>genres_y</th>\n",
       "      <th>id</th>\n",
       "      <th>imdb_id</th>\n",
       "      <th>original_language</th>\n",
       "      <th>overview</th>\n",
       "      <th>popularity</th>\n",
       "      <th>poster_path</th>\n",
       "      <th>release_date</th>\n",
       "      <th>title_y</th>\n",
       "      <th>production_companies_name</th>\n",
       "      <th>production_companies_country</th>\n",
       "      <th>Drama</th>\n",
       "      <th>Adventure</th>\n",
       "      <th>Fantasy</th>\n",
       "      <th>Biography</th>\n",
       "      <th>Romance</th>\n",
       "      <th>History</th>\n",
       "      <th>Comedy</th>\n",
       "      <th>Crime</th>\n",
       "      <th>Mystery</th>\n",
       "      <th>Horror</th>\n",
       "      <th>Western</th>\n",
       "      <th>Action</th>\n",
       "      <th>Family</th>\n",
       "      <th>War</th>\n",
       "      <th>Sci-Fi</th>\n",
       "      <th>Thriller</th>\n",
       "      <th>Sport</th>\n",
       "      <th>Documentary</th>\n",
       "      <th>Music</th>\n",
       "      <th>Animation</th>\n",
       "      <th>Film-Noir</th>\n",
       "      <th>News</th>\n",
       "    </tr>\n",
       "  </thead>\n",
       "  <tbody>\n",
       "    <tr>\n",
       "      <th>54756</th>\n",
       "      <td>tt12989912</td>\n",
       "      <td>Ultrasound</td>\n",
       "      <td>Ultrasound</td>\n",
       "      <td>0.000</td>\n",
       "      <td>103</td>\n",
       "      <td>[Drama, Mystery, Sci-Fi]</td>\n",
       "      <td>Ultrasound</td>\n",
       "      <td>5.800</td>\n",
       "      <td>1677.000</td>\n",
       "      <td>/o6UwCnhoezCWyTbZE76zipyjHKc.jpg</td>\n",
       "      <td>['Science Fiction']</td>\n",
       "      <td>821510.000</td>\n",
       "      <td>tt12989912</td>\n",
       "      <td>en</td>\n",
       "      <td>After his car breaks down, Glen spends one hel...</td>\n",
       "      <td>5.646</td>\n",
       "      <td>/xef7fVF5vhDPQk7yQ0dJwKHIev2.jpg</td>\n",
       "      <td>2022</td>\n",
       "      <td>Ultrasound</td>\n",
       "      <td>['Lodger Films']</td>\n",
       "      <td>['']</td>\n",
       "      <td>1</td>\n",
       "      <td>0</td>\n",
       "      <td>0</td>\n",
       "      <td>0</td>\n",
       "      <td>0</td>\n",
       "      <td>0</td>\n",
       "      <td>0</td>\n",
       "      <td>0</td>\n",
       "      <td>1</td>\n",
       "      <td>0</td>\n",
       "      <td>0</td>\n",
       "      <td>0</td>\n",
       "      <td>0</td>\n",
       "      <td>0</td>\n",
       "      <td>1</td>\n",
       "      <td>0</td>\n",
       "      <td>0</td>\n",
       "      <td>0</td>\n",
       "      <td>0</td>\n",
       "      <td>0</td>\n",
       "      <td>0</td>\n",
       "      <td>0</td>\n",
       "    </tr>\n",
       "    <tr>\n",
       "      <th>38391</th>\n",
       "      <td>tt0218641</td>\n",
       "      <td>Submerged</td>\n",
       "      <td>Submerged</td>\n",
       "      <td>0.000</td>\n",
       "      <td>95</td>\n",
       "      <td>[Action]</td>\n",
       "      <td>Péril en haute mer</td>\n",
       "      <td>3.300</td>\n",
       "      <td>834.000</td>\n",
       "      <td>/1ePgTmNASS1kH6VuC5Q7FfexFgD.jpg</td>\n",
       "      <td>['Action']</td>\n",
       "      <td>79949.000</td>\n",
       "      <td>tt0218641</td>\n",
       "      <td>en</td>\n",
       "      <td>Navy SEALs launch a rescue mission after terro...</td>\n",
       "      <td>4.029</td>\n",
       "      <td>/7t5CDAFWpjYh4cFyjIO3d3wDAYK.jpg</td>\n",
       "      <td>2000</td>\n",
       "      <td>Submerged</td>\n",
       "      <td>[]</td>\n",
       "      <td>NaN</td>\n",
       "      <td>0</td>\n",
       "      <td>0</td>\n",
       "      <td>0</td>\n",
       "      <td>0</td>\n",
       "      <td>0</td>\n",
       "      <td>0</td>\n",
       "      <td>0</td>\n",
       "      <td>0</td>\n",
       "      <td>0</td>\n",
       "      <td>0</td>\n",
       "      <td>0</td>\n",
       "      <td>1</td>\n",
       "      <td>0</td>\n",
       "      <td>0</td>\n",
       "      <td>0</td>\n",
       "      <td>0</td>\n",
       "      <td>0</td>\n",
       "      <td>0</td>\n",
       "      <td>0</td>\n",
       "      <td>0</td>\n",
       "      <td>0</td>\n",
       "      <td>0</td>\n",
       "    </tr>\n",
       "    <tr>\n",
       "      <th>14866</th>\n",
       "      <td>tt0059116</td>\n",
       "      <td>The Possessed</td>\n",
       "      <td>La donna del lago</td>\n",
       "      <td>0.000</td>\n",
       "      <td>95</td>\n",
       "      <td>[Crime, Drama, Horror]</td>\n",
       "      <td>La femme du lac</td>\n",
       "      <td>7.000</td>\n",
       "      <td>1420.000</td>\n",
       "      <td>/mzNAJqEjFevV3qr746yEwljT2Sy.jpg</td>\n",
       "      <td>['Mystery', 'Crime', 'Drama', 'Thriller']</td>\n",
       "      <td>104244.000</td>\n",
       "      <td>tt0059116</td>\n",
       "      <td>it</td>\n",
       "      <td>While visiting his favorite resort village dur...</td>\n",
       "      <td>2.849</td>\n",
       "      <td>/cwa9oWlNqUNrDCuwir3y84iKK8P.jpg</td>\n",
       "      <td>1965</td>\n",
       "      <td>The Possessed</td>\n",
       "      <td>['Istituto Luce Cinecittà', 'B.R.C. Produzione...</td>\n",
       "      <td>NaN</td>\n",
       "      <td>1</td>\n",
       "      <td>0</td>\n",
       "      <td>0</td>\n",
       "      <td>0</td>\n",
       "      <td>0</td>\n",
       "      <td>0</td>\n",
       "      <td>0</td>\n",
       "      <td>1</td>\n",
       "      <td>0</td>\n",
       "      <td>1</td>\n",
       "      <td>0</td>\n",
       "      <td>0</td>\n",
       "      <td>0</td>\n",
       "      <td>0</td>\n",
       "      <td>0</td>\n",
       "      <td>0</td>\n",
       "      <td>0</td>\n",
       "      <td>0</td>\n",
       "      <td>0</td>\n",
       "      <td>0</td>\n",
       "      <td>0</td>\n",
       "      <td>0</td>\n",
       "    </tr>\n",
       "    <tr>\n",
       "      <th>9115</th>\n",
       "      <td>tt0043813</td>\n",
       "      <td>The Model and the Marriage Broker</td>\n",
       "      <td>The Model and the Marriage Broker</td>\n",
       "      <td>0.000</td>\n",
       "      <td>103</td>\n",
       "      <td>[Comedy, Romance]</td>\n",
       "      <td>Agence cupidon</td>\n",
       "      <td>7.000</td>\n",
       "      <td>892.000</td>\n",
       "      <td>/8kg5nSI3px7QEOHMpDwm0yi39xx.jpg</td>\n",
       "      <td>['Drama', 'Comedy']</td>\n",
       "      <td>132094.000</td>\n",
       "      <td>tt0043813</td>\n",
       "      <td>en</td>\n",
       "      <td>A marriage broker can't resist meddling in the...</td>\n",
       "      <td>0.840</td>\n",
       "      <td>/bL00Xs7GYV1ofGJk4YPWqusNWMz.jpg</td>\n",
       "      <td>1951</td>\n",
       "      <td>The Model and the Marriage Broker</td>\n",
       "      <td>['20th Century Fox']</td>\n",
       "      <td>NaN</td>\n",
       "      <td>0</td>\n",
       "      <td>0</td>\n",
       "      <td>0</td>\n",
       "      <td>0</td>\n",
       "      <td>1</td>\n",
       "      <td>0</td>\n",
       "      <td>1</td>\n",
       "      <td>0</td>\n",
       "      <td>0</td>\n",
       "      <td>0</td>\n",
       "      <td>0</td>\n",
       "      <td>0</td>\n",
       "      <td>0</td>\n",
       "      <td>0</td>\n",
       "      <td>0</td>\n",
       "      <td>0</td>\n",
       "      <td>0</td>\n",
       "      <td>0</td>\n",
       "      <td>0</td>\n",
       "      <td>0</td>\n",
       "      <td>0</td>\n",
       "      <td>0</td>\n",
       "    </tr>\n",
       "    <tr>\n",
       "      <th>23648</th>\n",
       "      <td>tt0088763</td>\n",
       "      <td>Back to the Future</td>\n",
       "      <td>Back to the Future</td>\n",
       "      <td>0.000</td>\n",
       "      <td>116</td>\n",
       "      <td>[Adventure, Comedy, Sci-Fi]</td>\n",
       "      <td>Retour vers le futur</td>\n",
       "      <td>8.500</td>\n",
       "      <td>1303700.000</td>\n",
       "      <td>/5bzPWQ2dFUl2aZKkp7ILJVVkRed.jpg</td>\n",
       "      <td>['Adventure', 'Comedy', 'Science Fiction']</td>\n",
       "      <td>105.000</td>\n",
       "      <td>tt0088763</td>\n",
       "      <td>en</td>\n",
       "      <td>Eighties teenager Marty McFly is accidentally ...</td>\n",
       "      <td>53.454</td>\n",
       "      <td>/fNOH9f1aA7XRTzl1sAOx9iF553Q.jpg</td>\n",
       "      <td>1985</td>\n",
       "      <td>Back to the Future</td>\n",
       "      <td>['Universal Pictures', 'Amblin Entertainment']</td>\n",
       "      <td>['US', 'US']</td>\n",
       "      <td>0</td>\n",
       "      <td>1</td>\n",
       "      <td>0</td>\n",
       "      <td>0</td>\n",
       "      <td>0</td>\n",
       "      <td>0</td>\n",
       "      <td>1</td>\n",
       "      <td>0</td>\n",
       "      <td>0</td>\n",
       "      <td>0</td>\n",
       "      <td>0</td>\n",
       "      <td>0</td>\n",
       "      <td>0</td>\n",
       "      <td>0</td>\n",
       "      <td>1</td>\n",
       "      <td>0</td>\n",
       "      <td>0</td>\n",
       "      <td>0</td>\n",
       "      <td>0</td>\n",
       "      <td>0</td>\n",
       "      <td>0</td>\n",
       "      <td>0</td>\n",
       "    </tr>\n",
       "    <tr>\n",
       "      <th>21780</th>\n",
       "      <td>tt0081197</td>\n",
       "      <td>Bordello</td>\n",
       "      <td>Las mujeres de Jeremías</td>\n",
       "      <td>0.000</td>\n",
       "      <td>98</td>\n",
       "      <td>[Adventure, Comedy, Drama]</td>\n",
       "      <td>Las mujeres de Jeremías</td>\n",
       "      <td>5.800</td>\n",
       "      <td>74.000</td>\n",
       "      <td>NaN</td>\n",
       "      <td>['Western', 'Adventure', 'Comedy']</td>\n",
       "      <td>107621.000</td>\n",
       "      <td>tt0081197</td>\n",
       "      <td>es</td>\n",
       "      <td>Minister with four virgin daughters inherits a...</td>\n",
       "      <td>1.638</td>\n",
       "      <td>/nLSP3BIpAczl8fiwJ8HmymiGNjj.jpg</td>\n",
       "      <td>1981</td>\n",
       "      <td>Bordello</td>\n",
       "      <td>['Ízaro Films', 'Producciones Esme S.A.']</td>\n",
       "      <td>NaN</td>\n",
       "      <td>1</td>\n",
       "      <td>1</td>\n",
       "      <td>0</td>\n",
       "      <td>0</td>\n",
       "      <td>0</td>\n",
       "      <td>0</td>\n",
       "      <td>1</td>\n",
       "      <td>0</td>\n",
       "      <td>0</td>\n",
       "      <td>0</td>\n",
       "      <td>0</td>\n",
       "      <td>0</td>\n",
       "      <td>0</td>\n",
       "      <td>0</td>\n",
       "      <td>0</td>\n",
       "      <td>0</td>\n",
       "      <td>0</td>\n",
       "      <td>0</td>\n",
       "      <td>0</td>\n",
       "      <td>0</td>\n",
       "      <td>0</td>\n",
       "      <td>0</td>\n",
       "    </tr>\n",
       "    <tr>\n",
       "      <th>44582</th>\n",
       "      <td>tt0405096</td>\n",
       "      <td>Ladybirds' Christmas</td>\n",
       "      <td>Lepatriinude jõulud</td>\n",
       "      <td>0.000</td>\n",
       "      <td>54</td>\n",
       "      <td>[Animation, Family]</td>\n",
       "      <td>Le Noël des coccinelles</td>\n",
       "      <td>7.200</td>\n",
       "      <td>255.000</td>\n",
       "      <td>/yqb2fqrmyOPh3FftSUM4vfBzwiV.jpg</td>\n",
       "      <td>['Family', 'Animation']</td>\n",
       "      <td>182121.000</td>\n",
       "      <td>tt0405096</td>\n",
       "      <td>et</td>\n",
       "      <td>Two young ladybirds Tim and Mia are unexpected...</td>\n",
       "      <td>0.742</td>\n",
       "      <td>/brpoU0pjnRWNGlQ4rklgv7fvBrO.jpg</td>\n",
       "      <td>2001</td>\n",
       "      <td>Ladybirds' Christmas</td>\n",
       "      <td>['Eesti Joonisfilm']</td>\n",
       "      <td>NaN</td>\n",
       "      <td>0</td>\n",
       "      <td>0</td>\n",
       "      <td>0</td>\n",
       "      <td>0</td>\n",
       "      <td>0</td>\n",
       "      <td>0</td>\n",
       "      <td>0</td>\n",
       "      <td>0</td>\n",
       "      <td>0</td>\n",
       "      <td>0</td>\n",
       "      <td>0</td>\n",
       "      <td>0</td>\n",
       "      <td>1</td>\n",
       "      <td>0</td>\n",
       "      <td>0</td>\n",
       "      <td>0</td>\n",
       "      <td>0</td>\n",
       "      <td>0</td>\n",
       "      <td>0</td>\n",
       "      <td>1</td>\n",
       "      <td>0</td>\n",
       "      <td>0</td>\n",
       "    </tr>\n",
       "    <tr>\n",
       "      <th>35640</th>\n",
       "      <td>tt0188506</td>\n",
       "      <td>A Monkey's Tale</td>\n",
       "      <td>Le château des singes</td>\n",
       "      <td>0.000</td>\n",
       "      <td>76</td>\n",
       "      <td>[Adventure, Animation, Family]</td>\n",
       "      <td>Le château des singes</td>\n",
       "      <td>5.700</td>\n",
       "      <td>527.000</td>\n",
       "      <td>/oG24VU7BdJnw8YeXYvp0bcQzzjU.jpg</td>\n",
       "      <td>['Adventure', 'Animation', 'Family']</td>\n",
       "      <td>37949.000</td>\n",
       "      <td>tt0188506</td>\n",
       "      <td>fr</td>\n",
       "      <td>Kom is from a tribe of monkeys who live in a c...</td>\n",
       "      <td>5.430</td>\n",
       "      <td>/s4pYSLnGHXUyiTs0HNmpUJMYVKv.jpg</td>\n",
       "      <td>1999</td>\n",
       "      <td>A Monkey's Tale</td>\n",
       "      <td>['Steve Walsh Productions', 'Cologne Cartoon',...</td>\n",
       "      <td>NaN</td>\n",
       "      <td>0</td>\n",
       "      <td>1</td>\n",
       "      <td>0</td>\n",
       "      <td>0</td>\n",
       "      <td>0</td>\n",
       "      <td>0</td>\n",
       "      <td>0</td>\n",
       "      <td>0</td>\n",
       "      <td>0</td>\n",
       "      <td>0</td>\n",
       "      <td>0</td>\n",
       "      <td>0</td>\n",
       "      <td>1</td>\n",
       "      <td>0</td>\n",
       "      <td>0</td>\n",
       "      <td>0</td>\n",
       "      <td>0</td>\n",
       "      <td>0</td>\n",
       "      <td>0</td>\n",
       "      <td>1</td>\n",
       "      <td>0</td>\n",
       "      <td>0</td>\n",
       "    </tr>\n",
       "    <tr>\n",
       "      <th>40807</th>\n",
       "      <td>tt0282628</td>\n",
       "      <td>Jan Dara</td>\n",
       "      <td>Jan Dara</td>\n",
       "      <td>0.000</td>\n",
       "      <td>108</td>\n",
       "      <td>[Drama, Romance]</td>\n",
       "      <td>Jan Dara</td>\n",
       "      <td>6.000</td>\n",
       "      <td>2433.000</td>\n",
       "      <td>/vvEt03Fzgc4NujpknFfR1LrXgno.jpg</td>\n",
       "      <td>['Romance', 'Drama']</td>\n",
       "      <td>68507.000</td>\n",
       "      <td>tt0282628</td>\n",
       "      <td>th</td>\n",
       "      <td>Jan is a boy growing up in 1930s Siam in a wea...</td>\n",
       "      <td>21.891</td>\n",
       "      <td>/yPSBDsLZhA3BkKSE4LrPxoIv5mE.jpg</td>\n",
       "      <td>2001</td>\n",
       "      <td>Jan Dara</td>\n",
       "      <td>['Tai Entertainment']</td>\n",
       "      <td>NaN</td>\n",
       "      <td>1</td>\n",
       "      <td>0</td>\n",
       "      <td>0</td>\n",
       "      <td>0</td>\n",
       "      <td>1</td>\n",
       "      <td>0</td>\n",
       "      <td>0</td>\n",
       "      <td>0</td>\n",
       "      <td>0</td>\n",
       "      <td>0</td>\n",
       "      <td>0</td>\n",
       "      <td>0</td>\n",
       "      <td>0</td>\n",
       "      <td>0</td>\n",
       "      <td>0</td>\n",
       "      <td>0</td>\n",
       "      <td>0</td>\n",
       "      <td>0</td>\n",
       "      <td>0</td>\n",
       "      <td>0</td>\n",
       "      <td>0</td>\n",
       "      <td>0</td>\n",
       "    </tr>\n",
       "    <tr>\n",
       "      <th>12780</th>\n",
       "      <td>tt0053724</td>\n",
       "      <td>El cochecito</td>\n",
       "      <td>El cochecito</td>\n",
       "      <td>0.000</td>\n",
       "      <td>85</td>\n",
       "      <td>[Comedy, Drama]</td>\n",
       "      <td>La petite voiture</td>\n",
       "      <td>7.300</td>\n",
       "      <td>1564.000</td>\n",
       "      <td>/mJ6SbrfWwviKF1NGp2z89Px7Zij.jpg</td>\n",
       "      <td>['Comedy']</td>\n",
       "      <td>99883.000</td>\n",
       "      <td>tt0053724</td>\n",
       "      <td>es</td>\n",
       "      <td>Don Anselmo, a retired old man, decides to buy...</td>\n",
       "      <td>2.476</td>\n",
       "      <td>/jDh5pJ4EnIEwR9JS7DU0Mt47p6P.jpg</td>\n",
       "      <td>1960</td>\n",
       "      <td>The Wheelchair</td>\n",
       "      <td>['Portabella Film', 'Films 59']</td>\n",
       "      <td>NaN</td>\n",
       "      <td>1</td>\n",
       "      <td>0</td>\n",
       "      <td>0</td>\n",
       "      <td>0</td>\n",
       "      <td>0</td>\n",
       "      <td>0</td>\n",
       "      <td>1</td>\n",
       "      <td>0</td>\n",
       "      <td>0</td>\n",
       "      <td>0</td>\n",
       "      <td>0</td>\n",
       "      <td>0</td>\n",
       "      <td>0</td>\n",
       "      <td>0</td>\n",
       "      <td>0</td>\n",
       "      <td>0</td>\n",
       "      <td>0</td>\n",
       "      <td>0</td>\n",
       "      <td>0</td>\n",
       "      <td>0</td>\n",
       "      <td>0</td>\n",
       "      <td>0</td>\n",
       "    </tr>\n",
       "  </tbody>\n",
       "</table>\n",
       "</div>"
      ]
     },
     "execution_count": 75,
     "metadata": {},
     "output_type": "execute_result"
    }
   ],
   "execution_count": 75
  },
  {
   "cell_type": "code",
   "metadata": {
    "ExecuteTime": {
     "end_time": "2024-05-21T17:39:36.255837Z",
     "start_time": "2024-05-21T17:39:36.240748Z"
    }
   },
   "source": "movie_final[['originalTitle', 'primaryTitle', 'title_y', 'title_x']].sample(5)",
   "outputs": [
    {
     "data": {
      "text/plain": [
       "                            originalTitle  \\\n",
       "36040                   L'esclave blanche   \n",
       "13676                               Gypsy   \n",
       "59768                             Savages   \n",
       "81704                   15+ Coming of Age   \n",
       "14148                    Kings of the Sun   \n",
       "35645                     Island of Death   \n",
       "5133                          Easy Living   \n",
       "63573               Pursuit of Loneliness   \n",
       "27470                    Fei hu wai zhuan   \n",
       "62855                Madangeul naon amtak   \n",
       "10332                  Meet Mr. Callaghan   \n",
       "51252                         The Voyeurs   \n",
       "50637                          Son-Mother   \n",
       "8569                         Bandit Queen   \n",
       "80281                       Run This Town   \n",
       "56993  Gualeguaychú: El país del carnaval   \n",
       "13421              Return to Peyton Place   \n",
       "82076            The Mongolian Connection   \n",
       "29626              Brigands, chapitre VII   \n",
       "9177                            The River   \n",
       "44309           Hindi nahahati ang langit   \n",
       "57598                       Paradise City   \n",
       "23721           The Doctor and the Devils   \n",
       "72913  Winx Club: Il mistero degli abissi   \n",
       "17301    Mais ne nous délivrez pas du mal   \n",
       "\n",
       "                              primaryTitle  \\\n",
       "36040                        Pasha's Wives   \n",
       "13676                                Gypsy   \n",
       "59768                              Savages   \n",
       "81704                    15+ Coming of Age   \n",
       "14148                     Kings of the Sun   \n",
       "35645                      Island of Death   \n",
       "5133                           Easy Living   \n",
       "63573                Pursuit of Loneliness   \n",
       "27470             The Sword of Many Lovers   \n",
       "62855           Daisy, a Hen Into the Wild   \n",
       "10332                   Meet Mr. Callaghan   \n",
       "51252                          The Voyeurs   \n",
       "50637                           Son-Mother   \n",
       "8569                          Bandit Queen   \n",
       "80281                        Run This Town   \n",
       "56993                         The Carnival   \n",
       "13421               Return to Peyton Place   \n",
       "82076             The Mongolian Connection   \n",
       "29626                 Brigands-Chapter VII   \n",
       "9177                             The River   \n",
       "44309                Heaven Is Not Divided   \n",
       "57598                        Paradise City   \n",
       "23721            The Doctor and the Devils   \n",
       "72913  Winx Club: The Mystery of the Abyss   \n",
       "17301           Don't Deliver Us from Evil   \n",
       "\n",
       "                                   title_y  \\\n",
       "36040                        Pasha's Wives   \n",
       "13676                                Gypsy   \n",
       "59768                              Savages   \n",
       "81704                    15+ Coming of Age   \n",
       "14148                     Kings of the Sun   \n",
       "35645                      Island of Death   \n",
       "5133                           Easy Living   \n",
       "63573                Pursuit of Loneliness   \n",
       "27470             The Sword of Many Lovers   \n",
       "62855          Leafie, a Hen Into the Wild   \n",
       "10332                   Meet Mr. Callaghan   \n",
       "51252                          The Voyeurs   \n",
       "50637                           Son-Mother   \n",
       "8569                      The Bandit Queen   \n",
       "80281                        Run This Town   \n",
       "56993                         The Carnival   \n",
       "13421               Return to Peyton Place   \n",
       "82076             The Mongolian Connection   \n",
       "29626                Brigands, Chapter VII   \n",
       "9177                             The River   \n",
       "44309                An Indivisible Heaven   \n",
       "57598                        Paradise City   \n",
       "23721            The Doctor and the Devils   \n",
       "72913  Winx Club: The Mystery of the Abyss   \n",
       "17301           Don't Deliver Us from Evil   \n",
       "\n",
       "                                     title_x  \n",
       "36040                      L'esclave blanche  \n",
       "13676               Gypsy, vénus de Broadway  \n",
       "59768                                Savages  \n",
       "81704                      15+ Coming of Age  \n",
       "14148                     Les rois du soleil  \n",
       "35645                        L'île des morts  \n",
       "5133                              Vie facile  \n",
       "63573                  Pursuit of Loneliness  \n",
       "27470                    Le poison et l'épée  \n",
       "62855  Lili à la découverte du monde sauvage  \n",
       "10332             Rendez-vous avec Callaghan  \n",
       "51252                            The Voyeurs  \n",
       "50637                              Fils-Mère  \n",
       "8569                       La fille de Zorro  \n",
       "80281                          Run This Town  \n",
       "56993                            Le carnaval  \n",
       "13421               Les lauriers sont coupés  \n",
       "82076               The Mongolian Connection  \n",
       "29626                 Brigands, chapitre VII  \n",
       "9177                               Le fleuve  \n",
       "44309           Le Paradis ne se partage pas  \n",
       "57598                          Paradise City  \n",
       "23721            Le docteur et les assassins  \n",
       "72913     Winx Club - Le Mystère des Abysses  \n",
       "17301       Mais ne nous délivrez pas du mal  "
      ],
      "text/html": [
       "<div>\n",
       "<style scoped>\n",
       "    .dataframe tbody tr th:only-of-type {\n",
       "        vertical-align: middle;\n",
       "    }\n",
       "\n",
       "    .dataframe tbody tr th {\n",
       "        vertical-align: top;\n",
       "    }\n",
       "\n",
       "    .dataframe thead th {\n",
       "        text-align: right;\n",
       "    }\n",
       "</style>\n",
       "<table border=\"1\" class=\"dataframe\">\n",
       "  <thead>\n",
       "    <tr style=\"text-align: right;\">\n",
       "      <th></th>\n",
       "      <th>originalTitle</th>\n",
       "      <th>primaryTitle</th>\n",
       "      <th>title_y</th>\n",
       "      <th>title_x</th>\n",
       "    </tr>\n",
       "  </thead>\n",
       "  <tbody>\n",
       "    <tr>\n",
       "      <th>36040</th>\n",
       "      <td>L'esclave blanche</td>\n",
       "      <td>Pasha's Wives</td>\n",
       "      <td>Pasha's Wives</td>\n",
       "      <td>L'esclave blanche</td>\n",
       "    </tr>\n",
       "    <tr>\n",
       "      <th>13676</th>\n",
       "      <td>Gypsy</td>\n",
       "      <td>Gypsy</td>\n",
       "      <td>Gypsy</td>\n",
       "      <td>Gypsy, vénus de Broadway</td>\n",
       "    </tr>\n",
       "    <tr>\n",
       "      <th>59768</th>\n",
       "      <td>Savages</td>\n",
       "      <td>Savages</td>\n",
       "      <td>Savages</td>\n",
       "      <td>Savages</td>\n",
       "    </tr>\n",
       "    <tr>\n",
       "      <th>81704</th>\n",
       "      <td>15+ Coming of Age</td>\n",
       "      <td>15+ Coming of Age</td>\n",
       "      <td>15+ Coming of Age</td>\n",
       "      <td>15+ Coming of Age</td>\n",
       "    </tr>\n",
       "    <tr>\n",
       "      <th>14148</th>\n",
       "      <td>Kings of the Sun</td>\n",
       "      <td>Kings of the Sun</td>\n",
       "      <td>Kings of the Sun</td>\n",
       "      <td>Les rois du soleil</td>\n",
       "    </tr>\n",
       "    <tr>\n",
       "      <th>35645</th>\n",
       "      <td>Island of Death</td>\n",
       "      <td>Island of Death</td>\n",
       "      <td>Island of Death</td>\n",
       "      <td>L'île des morts</td>\n",
       "    </tr>\n",
       "    <tr>\n",
       "      <th>5133</th>\n",
       "      <td>Easy Living</td>\n",
       "      <td>Easy Living</td>\n",
       "      <td>Easy Living</td>\n",
       "      <td>Vie facile</td>\n",
       "    </tr>\n",
       "    <tr>\n",
       "      <th>63573</th>\n",
       "      <td>Pursuit of Loneliness</td>\n",
       "      <td>Pursuit of Loneliness</td>\n",
       "      <td>Pursuit of Loneliness</td>\n",
       "      <td>Pursuit of Loneliness</td>\n",
       "    </tr>\n",
       "    <tr>\n",
       "      <th>27470</th>\n",
       "      <td>Fei hu wai zhuan</td>\n",
       "      <td>The Sword of Many Lovers</td>\n",
       "      <td>The Sword of Many Lovers</td>\n",
       "      <td>Le poison et l'épée</td>\n",
       "    </tr>\n",
       "    <tr>\n",
       "      <th>62855</th>\n",
       "      <td>Madangeul naon amtak</td>\n",
       "      <td>Daisy, a Hen Into the Wild</td>\n",
       "      <td>Leafie, a Hen Into the Wild</td>\n",
       "      <td>Lili à la découverte du monde sauvage</td>\n",
       "    </tr>\n",
       "    <tr>\n",
       "      <th>10332</th>\n",
       "      <td>Meet Mr. Callaghan</td>\n",
       "      <td>Meet Mr. Callaghan</td>\n",
       "      <td>Meet Mr. Callaghan</td>\n",
       "      <td>Rendez-vous avec Callaghan</td>\n",
       "    </tr>\n",
       "    <tr>\n",
       "      <th>51252</th>\n",
       "      <td>The Voyeurs</td>\n",
       "      <td>The Voyeurs</td>\n",
       "      <td>The Voyeurs</td>\n",
       "      <td>The Voyeurs</td>\n",
       "    </tr>\n",
       "    <tr>\n",
       "      <th>50637</th>\n",
       "      <td>Son-Mother</td>\n",
       "      <td>Son-Mother</td>\n",
       "      <td>Son-Mother</td>\n",
       "      <td>Fils-Mère</td>\n",
       "    </tr>\n",
       "    <tr>\n",
       "      <th>8569</th>\n",
       "      <td>Bandit Queen</td>\n",
       "      <td>Bandit Queen</td>\n",
       "      <td>The Bandit Queen</td>\n",
       "      <td>La fille de Zorro</td>\n",
       "    </tr>\n",
       "    <tr>\n",
       "      <th>80281</th>\n",
       "      <td>Run This Town</td>\n",
       "      <td>Run This Town</td>\n",
       "      <td>Run This Town</td>\n",
       "      <td>Run This Town</td>\n",
       "    </tr>\n",
       "    <tr>\n",
       "      <th>56993</th>\n",
       "      <td>Gualeguaychú: El país del carnaval</td>\n",
       "      <td>The Carnival</td>\n",
       "      <td>The Carnival</td>\n",
       "      <td>Le carnaval</td>\n",
       "    </tr>\n",
       "    <tr>\n",
       "      <th>13421</th>\n",
       "      <td>Return to Peyton Place</td>\n",
       "      <td>Return to Peyton Place</td>\n",
       "      <td>Return to Peyton Place</td>\n",
       "      <td>Les lauriers sont coupés</td>\n",
       "    </tr>\n",
       "    <tr>\n",
       "      <th>82076</th>\n",
       "      <td>The Mongolian Connection</td>\n",
       "      <td>The Mongolian Connection</td>\n",
       "      <td>The Mongolian Connection</td>\n",
       "      <td>The Mongolian Connection</td>\n",
       "    </tr>\n",
       "    <tr>\n",
       "      <th>29626</th>\n",
       "      <td>Brigands, chapitre VII</td>\n",
       "      <td>Brigands-Chapter VII</td>\n",
       "      <td>Brigands, Chapter VII</td>\n",
       "      <td>Brigands, chapitre VII</td>\n",
       "    </tr>\n",
       "    <tr>\n",
       "      <th>9177</th>\n",
       "      <td>The River</td>\n",
       "      <td>The River</td>\n",
       "      <td>The River</td>\n",
       "      <td>Le fleuve</td>\n",
       "    </tr>\n",
       "    <tr>\n",
       "      <th>44309</th>\n",
       "      <td>Hindi nahahati ang langit</td>\n",
       "      <td>Heaven Is Not Divided</td>\n",
       "      <td>An Indivisible Heaven</td>\n",
       "      <td>Le Paradis ne se partage pas</td>\n",
       "    </tr>\n",
       "    <tr>\n",
       "      <th>57598</th>\n",
       "      <td>Paradise City</td>\n",
       "      <td>Paradise City</td>\n",
       "      <td>Paradise City</td>\n",
       "      <td>Paradise City</td>\n",
       "    </tr>\n",
       "    <tr>\n",
       "      <th>23721</th>\n",
       "      <td>The Doctor and the Devils</td>\n",
       "      <td>The Doctor and the Devils</td>\n",
       "      <td>The Doctor and the Devils</td>\n",
       "      <td>Le docteur et les assassins</td>\n",
       "    </tr>\n",
       "    <tr>\n",
       "      <th>72913</th>\n",
       "      <td>Winx Club: Il mistero degli abissi</td>\n",
       "      <td>Winx Club: The Mystery of the Abyss</td>\n",
       "      <td>Winx Club: The Mystery of the Abyss</td>\n",
       "      <td>Winx Club - Le Mystère des Abysses</td>\n",
       "    </tr>\n",
       "    <tr>\n",
       "      <th>17301</th>\n",
       "      <td>Mais ne nous délivrez pas du mal</td>\n",
       "      <td>Don't Deliver Us from Evil</td>\n",
       "      <td>Don't Deliver Us from Evil</td>\n",
       "      <td>Mais ne nous délivrez pas du mal</td>\n",
       "    </tr>\n",
       "  </tbody>\n",
       "</table>\n",
       "</div>"
      ]
     },
     "execution_count": 76,
     "metadata": {},
     "output_type": "execute_result"
    }
   ],
   "execution_count": 76
  },
  {
   "cell_type": "code",
   "metadata": {
    "ExecuteTime": {
     "end_time": "2024-05-21T17:39:38.285656Z",
     "start_time": "2024-05-21T17:39:37.866543Z"
    }
   },
   "source": [
    "movie_final.drop(columns = [\"primaryTitle\", \"title_y\", \"genres_y\"], inplace = True)"
   ],
   "outputs": [],
   "execution_count": 77
  },
  {
   "metadata": {
    "ExecuteTime": {
     "end_time": "2024-05-21T17:39:41.458595Z",
     "start_time": "2024-05-21T17:39:40.133297Z"
    }
   },
   "cell_type": "code",
   "source": "movie_final.drop(columns = [\"production_companies_name\", \"production_companies_country\"], inplace = True)",
   "outputs": [],
   "execution_count": 79
  },
  {
   "metadata": {
    "ExecuteTime": {
     "end_time": "2024-05-21T17:39:42.337032Z",
     "start_time": "2024-05-21T17:39:42.192922Z"
    }
   },
   "cell_type": "code",
   "source": "list_of_movie = list(movie_final['tconst'].unique())",
   "outputs": [],
   "execution_count": 80
  },
  {
   "cell_type": "code",
   "metadata": {
    "ExecuteTime": {
     "end_time": "2024-05-21T17:39:58.743716Z",
     "start_time": "2024-05-21T17:39:43.211059Z"
    }
   },
   "source": "title_prin1 = title_prin[title_prin[\"tconst\"].isin(list_of_movie)]",
   "outputs": [],
   "execution_count": 81
  },
  {
   "metadata": {
    "ExecuteTime": {
     "end_time": "2024-05-21T17:39:59.803372Z",
     "start_time": "2024-05-21T17:39:58.898053Z"
    }
   },
   "cell_type": "code",
   "source": [
    "writers_only = title_prin1[title_prin1['category']=='writer']\n",
    "df2 = writers_only.sort_values(by=['tconst', 'ordering'])\n",
    "df2['ordering'] = df2.groupby('tconst').cumcount() + 1\n",
    "pivot_writers = df2.pivot(index='tconst', columns='ordering', values='nconst')\n",
    "pivot_writers.columns = [f'writer{i}' for i in pivot_writers.columns]\n",
    "pivot_writers = pivot_writers.reset_index()\n",
    "pivot_writers.drop(columns = ['writer2', 'writer3', 'writer4'], inplace = True)\n",
    "pivot_writers"
   ],
   "outputs": [
    {
     "data": {
      "text/plain": [
       "          tconst    writer1\n",
       "0      tt0000591  nm0141150\n",
       "1      tt0001790  nm0135053\n",
       "2      tt0002130  nm0019604\n",
       "3      tt0002199  nm0310155\n",
       "4      tt0002375  nm0304098\n",
       "...          ...        ...\n",
       "57683  tt9907782  nm1193346\n",
       "57684  tt9908390  nm1597648\n",
       "57685  tt9911196  nm0277932\n",
       "57686  tt9913084  nm0812850\n",
       "57687  tt9916362  nm1893148\n",
       "\n",
       "[57688 rows x 2 columns]"
      ],
      "text/html": [
       "<div>\n",
       "<style scoped>\n",
       "    .dataframe tbody tr th:only-of-type {\n",
       "        vertical-align: middle;\n",
       "    }\n",
       "\n",
       "    .dataframe tbody tr th {\n",
       "        vertical-align: top;\n",
       "    }\n",
       "\n",
       "    .dataframe thead th {\n",
       "        text-align: right;\n",
       "    }\n",
       "</style>\n",
       "<table border=\"1\" class=\"dataframe\">\n",
       "  <thead>\n",
       "    <tr style=\"text-align: right;\">\n",
       "      <th></th>\n",
       "      <th>tconst</th>\n",
       "      <th>writer1</th>\n",
       "    </tr>\n",
       "  </thead>\n",
       "  <tbody>\n",
       "    <tr>\n",
       "      <th>0</th>\n",
       "      <td>tt0000591</td>\n",
       "      <td>nm0141150</td>\n",
       "    </tr>\n",
       "    <tr>\n",
       "      <th>1</th>\n",
       "      <td>tt0001790</td>\n",
       "      <td>nm0135053</td>\n",
       "    </tr>\n",
       "    <tr>\n",
       "      <th>2</th>\n",
       "      <td>tt0002130</td>\n",
       "      <td>nm0019604</td>\n",
       "    </tr>\n",
       "    <tr>\n",
       "      <th>3</th>\n",
       "      <td>tt0002199</td>\n",
       "      <td>nm0310155</td>\n",
       "    </tr>\n",
       "    <tr>\n",
       "      <th>4</th>\n",
       "      <td>tt0002375</td>\n",
       "      <td>nm0304098</td>\n",
       "    </tr>\n",
       "    <tr>\n",
       "      <th>...</th>\n",
       "      <td>...</td>\n",
       "      <td>...</td>\n",
       "    </tr>\n",
       "    <tr>\n",
       "      <th>57683</th>\n",
       "      <td>tt9907782</td>\n",
       "      <td>nm1193346</td>\n",
       "    </tr>\n",
       "    <tr>\n",
       "      <th>57684</th>\n",
       "      <td>tt9908390</td>\n",
       "      <td>nm1597648</td>\n",
       "    </tr>\n",
       "    <tr>\n",
       "      <th>57685</th>\n",
       "      <td>tt9911196</td>\n",
       "      <td>nm0277932</td>\n",
       "    </tr>\n",
       "    <tr>\n",
       "      <th>57686</th>\n",
       "      <td>tt9913084</td>\n",
       "      <td>nm0812850</td>\n",
       "    </tr>\n",
       "    <tr>\n",
       "      <th>57687</th>\n",
       "      <td>tt9916362</td>\n",
       "      <td>nm1893148</td>\n",
       "    </tr>\n",
       "  </tbody>\n",
       "</table>\n",
       "<p>57688 rows × 2 columns</p>\n",
       "</div>"
      ]
     },
     "execution_count": 83,
     "metadata": {},
     "output_type": "execute_result"
    }
   ],
   "execution_count": 83
  },
  {
   "metadata": {
    "ExecuteTime": {
     "end_time": "2024-05-21T17:40:42.291855Z",
     "start_time": "2024-05-21T17:40:41.933189Z"
    }
   },
   "cell_type": "code",
   "source": "directors_only = title_prin1[title_prin1['category']=='director']",
   "outputs": [],
   "execution_count": 92
  },
  {
   "metadata": {
    "ExecuteTime": {
     "end_time": "2024-05-21T17:40:43.408404Z",
     "start_time": "2024-05-21T17:40:43.345105Z"
    }
   },
   "cell_type": "code",
   "source": "df1 = directors_only.sort_values(by=['tconst', 'ordering'])",
   "outputs": [],
   "execution_count": 93
  },
  {
   "metadata": {
    "ExecuteTime": {
     "end_time": "2024-05-21T17:40:44.269071Z",
     "start_time": "2024-05-21T17:40:43.929089Z"
    }
   },
   "cell_type": "code",
   "source": [
    "df1['ordering'] = df1.groupby('tconst').cumcount() + 1\n",
    "pivot_directors = df1.pivot(index='tconst', columns='ordering', values='nconst')"
   ],
   "outputs": [],
   "execution_count": 94
  },
  {
   "metadata": {
    "ExecuteTime": {
     "end_time": "2024-05-21T17:40:45.084167Z",
     "start_time": "2024-05-21T17:40:44.697826Z"
    }
   },
   "cell_type": "code",
   "source": [
    "pivot_directors.columns = [f'director{i}' for i in pivot_directors.columns]\n",
    "pivot_directors = pivot_directors.reset_index()"
   ],
   "outputs": [],
   "execution_count": 95
  },
  {
   "metadata": {
    "ExecuteTime": {
     "end_time": "2024-05-21T17:40:46.056299Z",
     "start_time": "2024-05-21T17:40:45.729786Z"
    }
   },
   "cell_type": "code",
   "source": "pivot_directors.drop(columns=['director2', 'director3', 'director4'], inplace = True)",
   "outputs": [],
   "execution_count": 96
  },
  {
   "metadata": {
    "ExecuteTime": {
     "end_time": "2024-05-21T17:40:47.271038Z",
     "start_time": "2024-05-21T17:40:47.244240Z"
    }
   },
   "cell_type": "code",
   "source": "pivot_directors",
   "outputs": [
    {
     "data": {
      "text/plain": [
       "          tconst   director1\n",
       "0      tt0000591   nm0141150\n",
       "1      tt0001790   nm0135052\n",
       "2      tt0002130   nm0078205\n",
       "3      tt0002199   nm0646058\n",
       "4      tt0002375   nm0135052\n",
       "...          ...         ...\n",
       "59430  tt9908390   nm1415268\n",
       "59431  tt9911196   nm0631590\n",
       "59432  tt9913084   nm0812850\n",
       "59433  tt9915790  nm10538030\n",
       "59434  tt9916362   nm1893148\n",
       "\n",
       "[59435 rows x 2 columns]"
      ],
      "text/html": [
       "<div>\n",
       "<style scoped>\n",
       "    .dataframe tbody tr th:only-of-type {\n",
       "        vertical-align: middle;\n",
       "    }\n",
       "\n",
       "    .dataframe tbody tr th {\n",
       "        vertical-align: top;\n",
       "    }\n",
       "\n",
       "    .dataframe thead th {\n",
       "        text-align: right;\n",
       "    }\n",
       "</style>\n",
       "<table border=\"1\" class=\"dataframe\">\n",
       "  <thead>\n",
       "    <tr style=\"text-align: right;\">\n",
       "      <th></th>\n",
       "      <th>tconst</th>\n",
       "      <th>director1</th>\n",
       "    </tr>\n",
       "  </thead>\n",
       "  <tbody>\n",
       "    <tr>\n",
       "      <th>0</th>\n",
       "      <td>tt0000591</td>\n",
       "      <td>nm0141150</td>\n",
       "    </tr>\n",
       "    <tr>\n",
       "      <th>1</th>\n",
       "      <td>tt0001790</td>\n",
       "      <td>nm0135052</td>\n",
       "    </tr>\n",
       "    <tr>\n",
       "      <th>2</th>\n",
       "      <td>tt0002130</td>\n",
       "      <td>nm0078205</td>\n",
       "    </tr>\n",
       "    <tr>\n",
       "      <th>3</th>\n",
       "      <td>tt0002199</td>\n",
       "      <td>nm0646058</td>\n",
       "    </tr>\n",
       "    <tr>\n",
       "      <th>4</th>\n",
       "      <td>tt0002375</td>\n",
       "      <td>nm0135052</td>\n",
       "    </tr>\n",
       "    <tr>\n",
       "      <th>...</th>\n",
       "      <td>...</td>\n",
       "      <td>...</td>\n",
       "    </tr>\n",
       "    <tr>\n",
       "      <th>59430</th>\n",
       "      <td>tt9908390</td>\n",
       "      <td>nm1415268</td>\n",
       "    </tr>\n",
       "    <tr>\n",
       "      <th>59431</th>\n",
       "      <td>tt9911196</td>\n",
       "      <td>nm0631590</td>\n",
       "    </tr>\n",
       "    <tr>\n",
       "      <th>59432</th>\n",
       "      <td>tt9913084</td>\n",
       "      <td>nm0812850</td>\n",
       "    </tr>\n",
       "    <tr>\n",
       "      <th>59433</th>\n",
       "      <td>tt9915790</td>\n",
       "      <td>nm10538030</td>\n",
       "    </tr>\n",
       "    <tr>\n",
       "      <th>59434</th>\n",
       "      <td>tt9916362</td>\n",
       "      <td>nm1893148</td>\n",
       "    </tr>\n",
       "  </tbody>\n",
       "</table>\n",
       "<p>59435 rows × 2 columns</p>\n",
       "</div>"
      ]
     },
     "execution_count": 97,
     "metadata": {},
     "output_type": "execute_result"
    }
   ],
   "execution_count": 97
  },
  {
   "metadata": {
    "ExecuteTime": {
     "end_time": "2024-05-21T17:40:49.758138Z",
     "start_time": "2024-05-21T17:40:49.392886Z"
    }
   },
   "cell_type": "code",
   "source": [
    "crew = pd.merge(pivot_directors, pivot_writers, how = 'left', on='tconst')\n",
    "crew"
   ],
   "outputs": [
    {
     "data": {
      "text/plain": [
       "          tconst   director1    writer1\n",
       "0      tt0000591   nm0141150  nm0141150\n",
       "1      tt0001790   nm0135052  nm0135053\n",
       "2      tt0002130   nm0078205  nm0019604\n",
       "3      tt0002199   nm0646058  nm0310155\n",
       "4      tt0002375   nm0135052  nm0304098\n",
       "...          ...         ...        ...\n",
       "59430  tt9908390   nm1415268  nm1597648\n",
       "59431  tt9911196   nm0631590  nm0277932\n",
       "59432  tt9913084   nm0812850  nm0812850\n",
       "59433  tt9915790  nm10538030        NaN\n",
       "59434  tt9916362   nm1893148  nm1893148\n",
       "\n",
       "[59435 rows x 3 columns]"
      ],
      "text/html": [
       "<div>\n",
       "<style scoped>\n",
       "    .dataframe tbody tr th:only-of-type {\n",
       "        vertical-align: middle;\n",
       "    }\n",
       "\n",
       "    .dataframe tbody tr th {\n",
       "        vertical-align: top;\n",
       "    }\n",
       "\n",
       "    .dataframe thead th {\n",
       "        text-align: right;\n",
       "    }\n",
       "</style>\n",
       "<table border=\"1\" class=\"dataframe\">\n",
       "  <thead>\n",
       "    <tr style=\"text-align: right;\">\n",
       "      <th></th>\n",
       "      <th>tconst</th>\n",
       "      <th>director1</th>\n",
       "      <th>writer1</th>\n",
       "    </tr>\n",
       "  </thead>\n",
       "  <tbody>\n",
       "    <tr>\n",
       "      <th>0</th>\n",
       "      <td>tt0000591</td>\n",
       "      <td>nm0141150</td>\n",
       "      <td>nm0141150</td>\n",
       "    </tr>\n",
       "    <tr>\n",
       "      <th>1</th>\n",
       "      <td>tt0001790</td>\n",
       "      <td>nm0135052</td>\n",
       "      <td>nm0135053</td>\n",
       "    </tr>\n",
       "    <tr>\n",
       "      <th>2</th>\n",
       "      <td>tt0002130</td>\n",
       "      <td>nm0078205</td>\n",
       "      <td>nm0019604</td>\n",
       "    </tr>\n",
       "    <tr>\n",
       "      <th>3</th>\n",
       "      <td>tt0002199</td>\n",
       "      <td>nm0646058</td>\n",
       "      <td>nm0310155</td>\n",
       "    </tr>\n",
       "    <tr>\n",
       "      <th>4</th>\n",
       "      <td>tt0002375</td>\n",
       "      <td>nm0135052</td>\n",
       "      <td>nm0304098</td>\n",
       "    </tr>\n",
       "    <tr>\n",
       "      <th>...</th>\n",
       "      <td>...</td>\n",
       "      <td>...</td>\n",
       "      <td>...</td>\n",
       "    </tr>\n",
       "    <tr>\n",
       "      <th>59430</th>\n",
       "      <td>tt9908390</td>\n",
       "      <td>nm1415268</td>\n",
       "      <td>nm1597648</td>\n",
       "    </tr>\n",
       "    <tr>\n",
       "      <th>59431</th>\n",
       "      <td>tt9911196</td>\n",
       "      <td>nm0631590</td>\n",
       "      <td>nm0277932</td>\n",
       "    </tr>\n",
       "    <tr>\n",
       "      <th>59432</th>\n",
       "      <td>tt9913084</td>\n",
       "      <td>nm0812850</td>\n",
       "      <td>nm0812850</td>\n",
       "    </tr>\n",
       "    <tr>\n",
       "      <th>59433</th>\n",
       "      <td>tt9915790</td>\n",
       "      <td>nm10538030</td>\n",
       "      <td>NaN</td>\n",
       "    </tr>\n",
       "    <tr>\n",
       "      <th>59434</th>\n",
       "      <td>tt9916362</td>\n",
       "      <td>nm1893148</td>\n",
       "      <td>nm1893148</td>\n",
       "    </tr>\n",
       "  </tbody>\n",
       "</table>\n",
       "<p>59435 rows × 3 columns</p>\n",
       "</div>"
      ]
     },
     "execution_count": 98,
     "metadata": {},
     "output_type": "execute_result"
    }
   ],
   "execution_count": 98
  },
  {
   "metadata": {
    "ExecuteTime": {
     "end_time": "2024-05-21T17:40:52.530776Z",
     "start_time": "2024-05-21T17:40:51.559321Z"
    }
   },
   "cell_type": "code",
   "source": "actors_only = title_prin1[(title_prin1['category']=='actor') & (title_prin1['ordering'] <=4)]",
   "outputs": [],
   "execution_count": 99
  },
  {
   "metadata": {
    "ExecuteTime": {
     "end_time": "2024-05-21T17:40:54.255674Z",
     "start_time": "2024-05-21T17:40:53.421185Z"
    }
   },
   "cell_type": "code",
   "source": "df = actors_only.sort_values(by=['tconst', 'ordering'])",
   "outputs": [],
   "execution_count": 100
  },
  {
   "metadata": {
    "ExecuteTime": {
     "end_time": "2024-05-21T17:40:56.437877Z",
     "start_time": "2024-05-21T17:40:55.031840Z"
    }
   },
   "cell_type": "code",
   "source": "df['ordering'] = df.groupby('tconst').cumcount() + 1",
   "outputs": [],
   "execution_count": 101
  },
  {
   "metadata": {
    "ExecuteTime": {
     "end_time": "2024-05-21T17:40:57.465758Z",
     "start_time": "2024-05-21T17:40:56.995283Z"
    }
   },
   "cell_type": "code",
   "source": "pivot_df = df.pivot(index='tconst', columns='ordering', values='nconst')",
   "outputs": [],
   "execution_count": 102
  },
  {
   "metadata": {
    "ExecuteTime": {
     "end_time": "2024-05-21T17:40:59.649237Z",
     "start_time": "2024-05-21T17:40:59.288913Z"
    }
   },
   "cell_type": "code",
   "source": [
    "pivot_df.columns = [f'actor{i}' for i in pivot_df.columns]\n",
    "pivot_df = pivot_df.reset_index()"
   ],
   "outputs": [],
   "execution_count": 103
  },
  {
   "metadata": {
    "ExecuteTime": {
     "end_time": "2024-05-21T17:41:18.401646Z",
     "start_time": "2024-05-21T17:41:18.107312Z"
    }
   },
   "cell_type": "code",
   "source": "pivot_df.drop(columns = ['actor4'], inplace = True)",
   "outputs": [],
   "execution_count": 104
  },
  {
   "metadata": {
    "ExecuteTime": {
     "end_time": "2024-05-21T17:41:26.569407Z",
     "start_time": "2024-05-21T17:41:26.022363Z"
    }
   },
   "cell_type": "code",
   "source": "casts_only = pd.merge(crew, pivot_df,  how='left', on='tconst')",
   "outputs": [],
   "execution_count": 106
  },
  {
   "metadata": {
    "ExecuteTime": {
     "end_time": "2024-05-21T17:48:44.264358Z",
     "start_time": "2024-05-21T17:48:43.253730Z"
    }
   },
   "cell_type": "code",
   "source": "movie_f = pd.merge(movie_final,casts_only, how = 'left', left_on = 'tconst', right_on = 'tconst')\n",
   "outputs": [
    {
     "name": "stdout",
     "output_type": "stream",
     "text": [
      "<class 'pandas.core.frame.DataFrame'>\n",
      "Int64Index: 59682 entries, 0 to 59681\n",
      "Data columns (total 43 columns):\n",
      " #   Column             Non-Null Count  Dtype  \n",
      "---  ------             --------------  -----  \n",
      " 0   tconst             59682 non-null  object \n",
      " 1   originalTitle      59682 non-null  object \n",
      " 2   isAdult            59682 non-null  float64\n",
      " 3   runtimeMinutes     59682 non-null  int64  \n",
      " 4   genres_x           59682 non-null  object \n",
      " 5   title_x            59682 non-null  object \n",
      " 6   averageRating      59682 non-null  float64\n",
      " 7   numVotes           59682 non-null  float64\n",
      " 8   backdrop_path      47754 non-null  object \n",
      " 9   id                 59682 non-null  float64\n",
      " 10  imdb_id            59682 non-null  object \n",
      " 11  original_language  59682 non-null  object \n",
      " 12  overview           57908 non-null  object \n",
      " 13  popularity         59682 non-null  float64\n",
      " 14  poster_path        58112 non-null  object \n",
      " 15  release_date       59682 non-null  object \n",
      " 16  Drama              59682 non-null  int64  \n",
      " 17  Adventure          59682 non-null  int64  \n",
      " 18  Fantasy            59682 non-null  int64  \n",
      " 19  Biography          59682 non-null  int64  \n",
      " 20  Romance            59682 non-null  int64  \n",
      " 21  History            59682 non-null  int64  \n",
      " 22  Comedy             59682 non-null  int64  \n",
      " 23  Crime              59682 non-null  int64  \n",
      " 24  Mystery            59682 non-null  int64  \n",
      " 25  Horror             59682 non-null  int64  \n",
      " 26  Western            59682 non-null  int64  \n",
      " 27  Action             59682 non-null  int64  \n",
      " 28  Family             59682 non-null  int64  \n",
      " 29  War                59682 non-null  int64  \n",
      " 30  Sci-Fi             59682 non-null  int64  \n",
      " 31  Thriller           59682 non-null  int64  \n",
      " 32  Sport              59682 non-null  int64  \n",
      " 33  Documentary        59682 non-null  int64  \n",
      " 34  Music              59682 non-null  int64  \n",
      " 35  Animation          59682 non-null  int64  \n",
      " 36  Film-Noir          59682 non-null  int64  \n",
      " 37  News               59682 non-null  int64  \n",
      " 38  director1          59435 non-null  object \n",
      " 39  writer1            57521 non-null  object \n",
      " 40  actor1             55119 non-null  object \n",
      " 41  actor2             48871 non-null  object \n",
      " 42  actor3             28383 non-null  object \n",
      "dtypes: float64(5), int64(23), object(15)\n",
      "memory usage: 20.0+ MB\n"
     ]
    }
   ],
   "execution_count": 131
  },
  {
   "metadata": {
    "ExecuteTime": {
     "end_time": "2024-05-21T17:49:42.557543Z",
     "start_time": "2024-05-21T17:49:42.501932Z"
    }
   },
   "cell_type": "code",
   "source": [
    "movie_f['isAdult'] = movie_f['isAdult'].apply(lambda x : int(x))\n",
    "movie_f['numVotes'] = movie_f['numVotes'].apply(lambda x : int(x))\n",
    "movie_f['id'] = movie_f['id'].apply(lambda x : int(x))"
   ],
   "outputs": [],
   "execution_count": 133
  },
  {
   "metadata": {
    "ExecuteTime": {
     "end_time": "2024-05-21T17:49:53.474435Z",
     "start_time": "2024-05-21T17:49:53.470455Z"
    }
   },
   "cell_type": "code",
   "source": [
    "import numpy as np\n",
    "def non_dispo(x):\n",
    "    if x is np.nan:\n",
    "        return \"non renseigné\"\n",
    "    else : \n",
    "        return x "
   ],
   "outputs": [],
   "execution_count": 134
  },
  {
   "metadata": {
    "ExecuteTime": {
     "end_time": "2024-05-21T17:49:54.456337Z",
     "start_time": "2024-05-21T17:49:54.069393Z"
    }
   },
   "cell_type": "code",
   "source": [
    "movie_f['director1'] = movie_f['director1'].apply(lambda x: non_dispo(x))\n",
    "movie_f['writer1'] = movie_f['writer1'].apply(lambda x: non_dispo(x))\n",
    "movie_f['actor1'] = movie_f['actor1'].apply(lambda x: non_dispo(x))\n",
    "movie_f['actor2'] = movie_f['actor2'].apply(lambda x: non_dispo(x))\n",
    "movie_f['actor3'] = movie_f['actor3'].apply(lambda x: non_dispo(x))\n"
   ],
   "outputs": [],
   "execution_count": 135
  },
  {
   "metadata": {
    "ExecuteTime": {
     "end_time": "2024-05-21T17:49:55.009361Z",
     "start_time": "2024-05-21T17:49:54.801563Z"
    }
   },
   "cell_type": "code",
   "source": "movie_f[\"genres_x\"] =movie_f[\"genres_x\"].apply(lambda x: ' '.join (str(ele) for ele in x))\n",
   "outputs": [],
   "execution_count": 136
  },
  {
   "metadata": {
    "ExecuteTime": {
     "end_time": "2024-05-21T17:51:00.298516Z",
     "start_time": "2024-05-21T17:51:00.223302Z"
    }
   },
   "cell_type": "code",
   "source": "movie_f['original_language']=movie_f['original_language'].apply(lambda x: x.upper() )",
   "outputs": [],
   "execution_count": 139
  },
  {
   "metadata": {
    "ExecuteTime": {
     "end_time": "2024-05-21T17:51:38.383328Z",
     "start_time": "2024-05-21T17:51:36.758869Z"
    }
   },
   "cell_type": "code",
   "source": "movie_f.to_csv('movie_final_ML1.csv')",
   "outputs": [],
   "execution_count": 141
  },
  {
   "metadata": {
    "ExecuteTime": {
     "end_time": "2024-05-20T10:21:04.106749Z",
     "start_time": "2024-05-20T10:21:03.276901Z"
    }
   },
   "cell_type": "code",
   "source": "movie_f.info()",
   "outputs": [
    {
     "name": "stdout",
     "output_type": "stream",
     "text": [
      "<class 'pandas.core.frame.DataFrame'>\n",
      "Int64Index: 59682 entries, 0 to 59681\n",
      "Data columns (total 45 columns):\n",
      " #   Column             Non-Null Count  Dtype  \n",
      "---  ------             --------------  -----  \n",
      " 0   tconst             59682 non-null  object \n",
      " 1   originalTitle      59682 non-null  object \n",
      " 2   isAdult            59682 non-null  int64  \n",
      " 3   runtimeMinutes     59682 non-null  int64  \n",
      " 4   genres_x           59682 non-null  object \n",
      " 5   title_x            59682 non-null  object \n",
      " 6   averageRating      59682 non-null  float64\n",
      " 7   numVotes           59682 non-null  float64\n",
      " 8   backdrop_path      47754 non-null  object \n",
      " 9   id                 59682 non-null  float64\n",
      " 10  imdb_id            59682 non-null  object \n",
      " 11  original_language  59682 non-null  int64  \n",
      " 12  overview           57908 non-null  object \n",
      " 13  popularity         59682 non-null  float64\n",
      " 14  poster_path        58112 non-null  object \n",
      " 15  release_date       59682 non-null  object \n",
      " 16  Drama              59682 non-null  int64  \n",
      " 17  Adventure          59682 non-null  int64  \n",
      " 18  Fantasy            59682 non-null  int64  \n",
      " 19  Biography          59682 non-null  int64  \n",
      " 20  Romance            59682 non-null  int64  \n",
      " 21  History            59682 non-null  int64  \n",
      " 22  Comedy             59682 non-null  int64  \n",
      " 23  Crime              59682 non-null  int64  \n",
      " 24  Mystery            59682 non-null  int64  \n",
      " 25  Horror             59682 non-null  int64  \n",
      " 26  Western            59682 non-null  int64  \n",
      " 27  Action             59682 non-null  int64  \n",
      " 28  Family             59682 non-null  int64  \n",
      " 29  War                59682 non-null  int64  \n",
      " 30  Sci-Fi             59682 non-null  int64  \n",
      " 31  Thriller           59682 non-null  int64  \n",
      " 32  Sport              59682 non-null  int64  \n",
      " 33  Documentary        59682 non-null  int64  \n",
      " 34  Music              59682 non-null  int64  \n",
      " 35  Animation          59682 non-null  int64  \n",
      " 36  Film-Noir          59682 non-null  int64  \n",
      " 37  News               59682 non-null  int64  \n",
      " 38  director1          59435 non-null  object \n",
      " 39  director2          3650 non-null   object \n",
      " 40  writer1            57521 non-null  object \n",
      " 41  actor1             55119 non-null  object \n",
      " 42  actor2             48871 non-null  object \n",
      " 43  actor3             28383 non-null  object \n",
      " 44  actor4             5844 non-null   object \n",
      "dtypes: float64(4), int64(25), object(16)\n",
      "memory usage: 20.9+ MB\n"
     ]
    }
   ],
   "execution_count": 236
  },
  {
   "metadata": {},
   "cell_type": "markdown",
   "source": "# THE END IS HERE \n"
  },
  {
   "metadata": {},
   "cell_type": "code",
   "outputs": [],
   "execution_count": null,
   "source": ""
  }
 ],
 "metadata": {
  "kernelspec": {
   "display_name": "Python 3",
   "language": "python",
   "name": "python3"
  },
  "language_info": {
   "codemirror_mode": {
    "name": "ipython",
    "version": 3
   },
   "file_extension": ".py",
   "mimetype": "text/x-python",
   "name": "python",
   "nbconvert_exporter": "python",
   "pygments_lexer": "ipython3",
   "version": "3.11.9"
  }
 },
 "nbformat": 4,
 "nbformat_minor": 2
}
