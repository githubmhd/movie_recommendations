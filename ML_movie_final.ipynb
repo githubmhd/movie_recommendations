{
 "cells": [
  {
   "cell_type": "code",
   "id": "initial_id",
   "metadata": {
    "collapsed": true,
    "ExecuteTime": {
     "end_time": "2024-05-24T08:52:25.258944Z",
     "start_time": "2024-05-24T08:52:24.034611Z"
    }
   },
   "source": [
    "import pandas as pd\n",
    "pd.options.display.max_columns = 200\n",
    "pd.options.display.float_format = '{:.3f}'.format\n",
    "import warnings\n",
    "warnings.filterwarnings('ignore')\n",
    "import numpy as np\n",
    "from sklearn.compose import ColumnTransformer, make_column_selector\n",
    "from sklearn.neighbors import KNeighborsClassifier, NearestNeighbors\n",
    "from sklearn.pipeline import make_pipeline \n",
    "from sklearn.preprocessing import OneHotEncoder, StandardScaler"
   ],
   "outputs": [],
   "execution_count": 1
  },
  {
   "metadata": {
    "ExecuteTime": {
     "end_time": "2024-05-24T08:52:25.700832Z",
     "start_time": "2024-05-24T08:52:25.259842Z"
    }
   },
   "cell_type": "code",
   "source": [
    "link_bas = r\"/Users/margaryta/Desktop/WILD/Project 2/movie_final_ML1.csv\"\n",
    "movie_final= pd.read_csv(link_bas, low_memory = False)"
   ],
   "id": "f0fb8d1b458b6e33",
   "outputs": [
    {
     "ename": "FileNotFoundError",
     "evalue": "[Errno 2] No such file or directory: '/Users/margaryta/Desktop/WILD/Project 2/movie_final_ML1.csv'",
     "output_type": "error",
     "traceback": [
      "\u001B[0;31m---------------------------------------------------------------------------\u001B[0m",
      "\u001B[0;31mFileNotFoundError\u001B[0m                         Traceback (most recent call last)",
      "Cell \u001B[0;32mIn[2], line 2\u001B[0m\n\u001B[1;32m      1\u001B[0m link_bas \u001B[38;5;241m=\u001B[39m \u001B[38;5;124mr\u001B[39m\u001B[38;5;124m\"\u001B[39m\u001B[38;5;124m/Users/margaryta/Desktop/WILD/Project 2/movie_final_ML1.csv\u001B[39m\u001B[38;5;124m\"\u001B[39m\n\u001B[0;32m----> 2\u001B[0m movie_final\u001B[38;5;241m=\u001B[39m pd\u001B[38;5;241m.\u001B[39mread_csv(link_bas, low_memory \u001B[38;5;241m=\u001B[39m \u001B[38;5;28;01mFalse\u001B[39;00m)\n",
      "File \u001B[0;32m~/anaconda3/lib/python3.11/site-packages/pandas/util/_decorators.py:211\u001B[0m, in \u001B[0;36mdeprecate_kwarg.<locals>._deprecate_kwarg.<locals>.wrapper\u001B[0;34m(*args, **kwargs)\u001B[0m\n\u001B[1;32m    209\u001B[0m     \u001B[38;5;28;01melse\u001B[39;00m:\n\u001B[1;32m    210\u001B[0m         kwargs[new_arg_name] \u001B[38;5;241m=\u001B[39m new_arg_value\n\u001B[0;32m--> 211\u001B[0m \u001B[38;5;28;01mreturn\u001B[39;00m func(\u001B[38;5;241m*\u001B[39margs, \u001B[38;5;241m*\u001B[39m\u001B[38;5;241m*\u001B[39mkwargs)\n",
      "File \u001B[0;32m~/anaconda3/lib/python3.11/site-packages/pandas/util/_decorators.py:331\u001B[0m, in \u001B[0;36mdeprecate_nonkeyword_arguments.<locals>.decorate.<locals>.wrapper\u001B[0;34m(*args, **kwargs)\u001B[0m\n\u001B[1;32m    325\u001B[0m \u001B[38;5;28;01mif\u001B[39;00m \u001B[38;5;28mlen\u001B[39m(args) \u001B[38;5;241m>\u001B[39m num_allow_args:\n\u001B[1;32m    326\u001B[0m     warnings\u001B[38;5;241m.\u001B[39mwarn(\n\u001B[1;32m    327\u001B[0m         msg\u001B[38;5;241m.\u001B[39mformat(arguments\u001B[38;5;241m=\u001B[39m_format_argument_list(allow_args)),\n\u001B[1;32m    328\u001B[0m         \u001B[38;5;167;01mFutureWarning\u001B[39;00m,\n\u001B[1;32m    329\u001B[0m         stacklevel\u001B[38;5;241m=\u001B[39mfind_stack_level(),\n\u001B[1;32m    330\u001B[0m     )\n\u001B[0;32m--> 331\u001B[0m \u001B[38;5;28;01mreturn\u001B[39;00m func(\u001B[38;5;241m*\u001B[39margs, \u001B[38;5;241m*\u001B[39m\u001B[38;5;241m*\u001B[39mkwargs)\n",
      "File \u001B[0;32m~/anaconda3/lib/python3.11/site-packages/pandas/io/parsers/readers.py:950\u001B[0m, in \u001B[0;36mread_csv\u001B[0;34m(filepath_or_buffer, sep, delimiter, header, names, index_col, usecols, squeeze, prefix, mangle_dupe_cols, dtype, engine, converters, true_values, false_values, skipinitialspace, skiprows, skipfooter, nrows, na_values, keep_default_na, na_filter, verbose, skip_blank_lines, parse_dates, infer_datetime_format, keep_date_col, date_parser, dayfirst, cache_dates, iterator, chunksize, compression, thousands, decimal, lineterminator, quotechar, quoting, doublequote, escapechar, comment, encoding, encoding_errors, dialect, error_bad_lines, warn_bad_lines, on_bad_lines, delim_whitespace, low_memory, memory_map, float_precision, storage_options)\u001B[0m\n\u001B[1;32m    935\u001B[0m kwds_defaults \u001B[38;5;241m=\u001B[39m _refine_defaults_read(\n\u001B[1;32m    936\u001B[0m     dialect,\n\u001B[1;32m    937\u001B[0m     delimiter,\n\u001B[0;32m   (...)\u001B[0m\n\u001B[1;32m    946\u001B[0m     defaults\u001B[38;5;241m=\u001B[39m{\u001B[38;5;124m\"\u001B[39m\u001B[38;5;124mdelimiter\u001B[39m\u001B[38;5;124m\"\u001B[39m: \u001B[38;5;124m\"\u001B[39m\u001B[38;5;124m,\u001B[39m\u001B[38;5;124m\"\u001B[39m},\n\u001B[1;32m    947\u001B[0m )\n\u001B[1;32m    948\u001B[0m kwds\u001B[38;5;241m.\u001B[39mupdate(kwds_defaults)\n\u001B[0;32m--> 950\u001B[0m \u001B[38;5;28;01mreturn\u001B[39;00m _read(filepath_or_buffer, kwds)\n",
      "File \u001B[0;32m~/anaconda3/lib/python3.11/site-packages/pandas/io/parsers/readers.py:605\u001B[0m, in \u001B[0;36m_read\u001B[0;34m(filepath_or_buffer, kwds)\u001B[0m\n\u001B[1;32m    602\u001B[0m _validate_names(kwds\u001B[38;5;241m.\u001B[39mget(\u001B[38;5;124m\"\u001B[39m\u001B[38;5;124mnames\u001B[39m\u001B[38;5;124m\"\u001B[39m, \u001B[38;5;28;01mNone\u001B[39;00m))\n\u001B[1;32m    604\u001B[0m \u001B[38;5;66;03m# Create the parser.\u001B[39;00m\n\u001B[0;32m--> 605\u001B[0m parser \u001B[38;5;241m=\u001B[39m TextFileReader(filepath_or_buffer, \u001B[38;5;241m*\u001B[39m\u001B[38;5;241m*\u001B[39mkwds)\n\u001B[1;32m    607\u001B[0m \u001B[38;5;28;01mif\u001B[39;00m chunksize \u001B[38;5;129;01mor\u001B[39;00m iterator:\n\u001B[1;32m    608\u001B[0m     \u001B[38;5;28;01mreturn\u001B[39;00m parser\n",
      "File \u001B[0;32m~/anaconda3/lib/python3.11/site-packages/pandas/io/parsers/readers.py:1442\u001B[0m, in \u001B[0;36mTextFileReader.__init__\u001B[0;34m(self, f, engine, **kwds)\u001B[0m\n\u001B[1;32m   1439\u001B[0m     \u001B[38;5;28mself\u001B[39m\u001B[38;5;241m.\u001B[39moptions[\u001B[38;5;124m\"\u001B[39m\u001B[38;5;124mhas_index_names\u001B[39m\u001B[38;5;124m\"\u001B[39m] \u001B[38;5;241m=\u001B[39m kwds[\u001B[38;5;124m\"\u001B[39m\u001B[38;5;124mhas_index_names\u001B[39m\u001B[38;5;124m\"\u001B[39m]\n\u001B[1;32m   1441\u001B[0m \u001B[38;5;28mself\u001B[39m\u001B[38;5;241m.\u001B[39mhandles: IOHandles \u001B[38;5;241m|\u001B[39m \u001B[38;5;28;01mNone\u001B[39;00m \u001B[38;5;241m=\u001B[39m \u001B[38;5;28;01mNone\u001B[39;00m\n\u001B[0;32m-> 1442\u001B[0m \u001B[38;5;28mself\u001B[39m\u001B[38;5;241m.\u001B[39m_engine \u001B[38;5;241m=\u001B[39m \u001B[38;5;28mself\u001B[39m\u001B[38;5;241m.\u001B[39m_make_engine(f, \u001B[38;5;28mself\u001B[39m\u001B[38;5;241m.\u001B[39mengine)\n",
      "File \u001B[0;32m~/anaconda3/lib/python3.11/site-packages/pandas/io/parsers/readers.py:1735\u001B[0m, in \u001B[0;36mTextFileReader._make_engine\u001B[0;34m(self, f, engine)\u001B[0m\n\u001B[1;32m   1733\u001B[0m     \u001B[38;5;28;01mif\u001B[39;00m \u001B[38;5;124m\"\u001B[39m\u001B[38;5;124mb\u001B[39m\u001B[38;5;124m\"\u001B[39m \u001B[38;5;129;01mnot\u001B[39;00m \u001B[38;5;129;01min\u001B[39;00m mode:\n\u001B[1;32m   1734\u001B[0m         mode \u001B[38;5;241m+\u001B[39m\u001B[38;5;241m=\u001B[39m \u001B[38;5;124m\"\u001B[39m\u001B[38;5;124mb\u001B[39m\u001B[38;5;124m\"\u001B[39m\n\u001B[0;32m-> 1735\u001B[0m \u001B[38;5;28mself\u001B[39m\u001B[38;5;241m.\u001B[39mhandles \u001B[38;5;241m=\u001B[39m get_handle(\n\u001B[1;32m   1736\u001B[0m     f,\n\u001B[1;32m   1737\u001B[0m     mode,\n\u001B[1;32m   1738\u001B[0m     encoding\u001B[38;5;241m=\u001B[39m\u001B[38;5;28mself\u001B[39m\u001B[38;5;241m.\u001B[39moptions\u001B[38;5;241m.\u001B[39mget(\u001B[38;5;124m\"\u001B[39m\u001B[38;5;124mencoding\u001B[39m\u001B[38;5;124m\"\u001B[39m, \u001B[38;5;28;01mNone\u001B[39;00m),\n\u001B[1;32m   1739\u001B[0m     compression\u001B[38;5;241m=\u001B[39m\u001B[38;5;28mself\u001B[39m\u001B[38;5;241m.\u001B[39moptions\u001B[38;5;241m.\u001B[39mget(\u001B[38;5;124m\"\u001B[39m\u001B[38;5;124mcompression\u001B[39m\u001B[38;5;124m\"\u001B[39m, \u001B[38;5;28;01mNone\u001B[39;00m),\n\u001B[1;32m   1740\u001B[0m     memory_map\u001B[38;5;241m=\u001B[39m\u001B[38;5;28mself\u001B[39m\u001B[38;5;241m.\u001B[39moptions\u001B[38;5;241m.\u001B[39mget(\u001B[38;5;124m\"\u001B[39m\u001B[38;5;124mmemory_map\u001B[39m\u001B[38;5;124m\"\u001B[39m, \u001B[38;5;28;01mFalse\u001B[39;00m),\n\u001B[1;32m   1741\u001B[0m     is_text\u001B[38;5;241m=\u001B[39mis_text,\n\u001B[1;32m   1742\u001B[0m     errors\u001B[38;5;241m=\u001B[39m\u001B[38;5;28mself\u001B[39m\u001B[38;5;241m.\u001B[39moptions\u001B[38;5;241m.\u001B[39mget(\u001B[38;5;124m\"\u001B[39m\u001B[38;5;124mencoding_errors\u001B[39m\u001B[38;5;124m\"\u001B[39m, \u001B[38;5;124m\"\u001B[39m\u001B[38;5;124mstrict\u001B[39m\u001B[38;5;124m\"\u001B[39m),\n\u001B[1;32m   1743\u001B[0m     storage_options\u001B[38;5;241m=\u001B[39m\u001B[38;5;28mself\u001B[39m\u001B[38;5;241m.\u001B[39moptions\u001B[38;5;241m.\u001B[39mget(\u001B[38;5;124m\"\u001B[39m\u001B[38;5;124mstorage_options\u001B[39m\u001B[38;5;124m\"\u001B[39m, \u001B[38;5;28;01mNone\u001B[39;00m),\n\u001B[1;32m   1744\u001B[0m )\n\u001B[1;32m   1745\u001B[0m \u001B[38;5;28;01massert\u001B[39;00m \u001B[38;5;28mself\u001B[39m\u001B[38;5;241m.\u001B[39mhandles \u001B[38;5;129;01mis\u001B[39;00m \u001B[38;5;129;01mnot\u001B[39;00m \u001B[38;5;28;01mNone\u001B[39;00m\n\u001B[1;32m   1746\u001B[0m f \u001B[38;5;241m=\u001B[39m \u001B[38;5;28mself\u001B[39m\u001B[38;5;241m.\u001B[39mhandles\u001B[38;5;241m.\u001B[39mhandle\n",
      "File \u001B[0;32m~/anaconda3/lib/python3.11/site-packages/pandas/io/common.py:856\u001B[0m, in \u001B[0;36mget_handle\u001B[0;34m(path_or_buf, mode, encoding, compression, memory_map, is_text, errors, storage_options)\u001B[0m\n\u001B[1;32m    851\u001B[0m \u001B[38;5;28;01melif\u001B[39;00m \u001B[38;5;28misinstance\u001B[39m(handle, \u001B[38;5;28mstr\u001B[39m):\n\u001B[1;32m    852\u001B[0m     \u001B[38;5;66;03m# Check whether the filename is to be opened in binary mode.\u001B[39;00m\n\u001B[1;32m    853\u001B[0m     \u001B[38;5;66;03m# Binary mode does not support 'encoding' and 'newline'.\u001B[39;00m\n\u001B[1;32m    854\u001B[0m     \u001B[38;5;28;01mif\u001B[39;00m ioargs\u001B[38;5;241m.\u001B[39mencoding \u001B[38;5;129;01mand\u001B[39;00m \u001B[38;5;124m\"\u001B[39m\u001B[38;5;124mb\u001B[39m\u001B[38;5;124m\"\u001B[39m \u001B[38;5;129;01mnot\u001B[39;00m \u001B[38;5;129;01min\u001B[39;00m ioargs\u001B[38;5;241m.\u001B[39mmode:\n\u001B[1;32m    855\u001B[0m         \u001B[38;5;66;03m# Encoding\u001B[39;00m\n\u001B[0;32m--> 856\u001B[0m         handle \u001B[38;5;241m=\u001B[39m \u001B[38;5;28mopen\u001B[39m(\n\u001B[1;32m    857\u001B[0m             handle,\n\u001B[1;32m    858\u001B[0m             ioargs\u001B[38;5;241m.\u001B[39mmode,\n\u001B[1;32m    859\u001B[0m             encoding\u001B[38;5;241m=\u001B[39mioargs\u001B[38;5;241m.\u001B[39mencoding,\n\u001B[1;32m    860\u001B[0m             errors\u001B[38;5;241m=\u001B[39merrors,\n\u001B[1;32m    861\u001B[0m             newline\u001B[38;5;241m=\u001B[39m\u001B[38;5;124m\"\u001B[39m\u001B[38;5;124m\"\u001B[39m,\n\u001B[1;32m    862\u001B[0m         )\n\u001B[1;32m    863\u001B[0m     \u001B[38;5;28;01melse\u001B[39;00m:\n\u001B[1;32m    864\u001B[0m         \u001B[38;5;66;03m# Binary mode\u001B[39;00m\n\u001B[1;32m    865\u001B[0m         handle \u001B[38;5;241m=\u001B[39m \u001B[38;5;28mopen\u001B[39m(handle, ioargs\u001B[38;5;241m.\u001B[39mmode)\n",
      "\u001B[0;31mFileNotFoundError\u001B[0m: [Errno 2] No such file or directory: '/Users/margaryta/Desktop/WILD/Project 2/movie_final_ML1.csv'"
     ]
    }
   ],
   "execution_count": 2
  },
  {
   "metadata": {
    "ExecuteTime": {
     "end_time": "2024-05-24T08:52:26.006013Z",
     "start_time": "2024-05-24T08:52:25.986856Z"
    }
   },
   "cell_type": "code",
   "source": "movie_final.head()",
   "id": "c53dd33b6b5a3a37",
   "outputs": [
    {
     "ename": "NameError",
     "evalue": "name 'movie_final' is not defined",
     "output_type": "error",
     "traceback": [
      "\u001B[0;31m---------------------------------------------------------------------------\u001B[0m",
      "\u001B[0;31mNameError\u001B[0m                                 Traceback (most recent call last)",
      "Cell \u001B[0;32mIn[3], line 1\u001B[0m\n\u001B[0;32m----> 1\u001B[0m movie_final\u001B[38;5;241m.\u001B[39mhead()\n",
      "\u001B[0;31mNameError\u001B[0m: name 'movie_final' is not defined"
     ]
    }
   ],
   "execution_count": 3
  },
  {
   "metadata": {
    "ExecuteTime": {
     "end_time": "2024-05-22T13:31:42.018295Z",
     "start_time": "2024-05-22T13:31:42.003349Z"
    }
   },
   "cell_type": "code",
   "source": "movie_final[movie_final[\"originalTitle\"] == 'Inception']",
   "id": "c0f6f58cb942de28",
   "outputs": [
    {
     "data": {
      "text/plain": [
       "       Unnamed: 0     tconst originalTitle  isAdult  runtimeMinutes  \\\n",
       "42905       42905  tt1375666     Inception        0             148   \n",
       "\n",
       "                      genres_x    title_x  averageRating  numVotes  \\\n",
       "42905  Action Adventure Sci-Fi  Inception          8.800   2544404   \n",
       "\n",
       "                          backdrop_path     id    imdb_id original_language  \\\n",
       "42905  /8ZTVqvKDQ8emSGUEMjsS4yHAwrp.jpg  27205  tt1375666                EN   \n",
       "\n",
       "                                                overview  popularity  \\\n",
       "42905  Cobb, a skilled thief who commits corporate es...      77.103   \n",
       "\n",
       "                            poster_path  release_date  Drama  Adventure  \\\n",
       "42905  /edv5CZvWj09upOsy2Y6IwDhK8bt.jpg          2010      0          1   \n",
       "\n",
       "       Fantasy  Biography  Romance  History  Comedy  Crime  Mystery  Horror  \\\n",
       "42905        0          0        0        0       0      0        0       0   \n",
       "\n",
       "       Western  Action  Family  War  Sci-Fi  Thriller  Sport  Documentary  \\\n",
       "42905        0       1       0    0       1         0      0            0   \n",
       "\n",
       "       Music  Animation  Film-Noir  News  director1    writer1     actor1  \\\n",
       "42905      0          0          0     0  nm0634240  nm0634240  nm0000138   \n",
       "\n",
       "          actor2     actor3  \n",
       "42905  nm0330687  nm0680983  "
      ],
      "text/html": [
       "<div>\n",
       "<style scoped>\n",
       "    .dataframe tbody tr th:only-of-type {\n",
       "        vertical-align: middle;\n",
       "    }\n",
       "\n",
       "    .dataframe tbody tr th {\n",
       "        vertical-align: top;\n",
       "    }\n",
       "\n",
       "    .dataframe thead th {\n",
       "        text-align: right;\n",
       "    }\n",
       "</style>\n",
       "<table border=\"1\" class=\"dataframe\">\n",
       "  <thead>\n",
       "    <tr style=\"text-align: right;\">\n",
       "      <th></th>\n",
       "      <th>Unnamed: 0</th>\n",
       "      <th>tconst</th>\n",
       "      <th>originalTitle</th>\n",
       "      <th>isAdult</th>\n",
       "      <th>runtimeMinutes</th>\n",
       "      <th>genres_x</th>\n",
       "      <th>title_x</th>\n",
       "      <th>averageRating</th>\n",
       "      <th>numVotes</th>\n",
       "      <th>backdrop_path</th>\n",
       "      <th>id</th>\n",
       "      <th>imdb_id</th>\n",
       "      <th>original_language</th>\n",
       "      <th>overview</th>\n",
       "      <th>popularity</th>\n",
       "      <th>poster_path</th>\n",
       "      <th>release_date</th>\n",
       "      <th>Drama</th>\n",
       "      <th>Adventure</th>\n",
       "      <th>Fantasy</th>\n",
       "      <th>Biography</th>\n",
       "      <th>Romance</th>\n",
       "      <th>History</th>\n",
       "      <th>Comedy</th>\n",
       "      <th>Crime</th>\n",
       "      <th>Mystery</th>\n",
       "      <th>Horror</th>\n",
       "      <th>Western</th>\n",
       "      <th>Action</th>\n",
       "      <th>Family</th>\n",
       "      <th>War</th>\n",
       "      <th>Sci-Fi</th>\n",
       "      <th>Thriller</th>\n",
       "      <th>Sport</th>\n",
       "      <th>Documentary</th>\n",
       "      <th>Music</th>\n",
       "      <th>Animation</th>\n",
       "      <th>Film-Noir</th>\n",
       "      <th>News</th>\n",
       "      <th>director1</th>\n",
       "      <th>writer1</th>\n",
       "      <th>actor1</th>\n",
       "      <th>actor2</th>\n",
       "      <th>actor3</th>\n",
       "    </tr>\n",
       "  </thead>\n",
       "  <tbody>\n",
       "    <tr>\n",
       "      <th>42905</th>\n",
       "      <td>42905</td>\n",
       "      <td>tt1375666</td>\n",
       "      <td>Inception</td>\n",
       "      <td>0</td>\n",
       "      <td>148</td>\n",
       "      <td>Action Adventure Sci-Fi</td>\n",
       "      <td>Inception</td>\n",
       "      <td>8.800</td>\n",
       "      <td>2544404</td>\n",
       "      <td>/8ZTVqvKDQ8emSGUEMjsS4yHAwrp.jpg</td>\n",
       "      <td>27205</td>\n",
       "      <td>tt1375666</td>\n",
       "      <td>EN</td>\n",
       "      <td>Cobb, a skilled thief who commits corporate es...</td>\n",
       "      <td>77.103</td>\n",
       "      <td>/edv5CZvWj09upOsy2Y6IwDhK8bt.jpg</td>\n",
       "      <td>2010</td>\n",
       "      <td>0</td>\n",
       "      <td>1</td>\n",
       "      <td>0</td>\n",
       "      <td>0</td>\n",
       "      <td>0</td>\n",
       "      <td>0</td>\n",
       "      <td>0</td>\n",
       "      <td>0</td>\n",
       "      <td>0</td>\n",
       "      <td>0</td>\n",
       "      <td>0</td>\n",
       "      <td>1</td>\n",
       "      <td>0</td>\n",
       "      <td>0</td>\n",
       "      <td>1</td>\n",
       "      <td>0</td>\n",
       "      <td>0</td>\n",
       "      <td>0</td>\n",
       "      <td>0</td>\n",
       "      <td>0</td>\n",
       "      <td>0</td>\n",
       "      <td>0</td>\n",
       "      <td>nm0634240</td>\n",
       "      <td>nm0634240</td>\n",
       "      <td>nm0000138</td>\n",
       "      <td>nm0330687</td>\n",
       "      <td>nm0680983</td>\n",
       "    </tr>\n",
       "  </tbody>\n",
       "</table>\n",
       "</div>"
      ]
     },
     "execution_count": 7,
     "metadata": {},
     "output_type": "execute_result"
    }
   ],
   "execution_count": 7
  },
  {
   "metadata": {
    "ExecuteTime": {
     "end_time": "2024-05-22T13:31:44.053196Z",
     "start_time": "2024-05-22T13:31:43.938115Z"
    }
   },
   "cell_type": "code",
   "source": "movie_final.info()",
   "id": "2eb7a877bc5cafc0",
   "outputs": [
    {
     "name": "stdout",
     "output_type": "stream",
     "text": [
      "<class 'pandas.core.frame.DataFrame'>\n",
      "RangeIndex: 59682 entries, 0 to 59681\n",
      "Data columns (total 44 columns):\n",
      " #   Column             Non-Null Count  Dtype  \n",
      "---  ------             --------------  -----  \n",
      " 0   Unnamed: 0         59682 non-null  int64  \n",
      " 1   tconst             59682 non-null  object \n",
      " 2   originalTitle      59682 non-null  object \n",
      " 3   isAdult            59682 non-null  int64  \n",
      " 4   runtimeMinutes     59682 non-null  int64  \n",
      " 5   genres_x           59682 non-null  object \n",
      " 6   title_x            59682 non-null  object \n",
      " 7   averageRating      59682 non-null  float64\n",
      " 8   numVotes           59682 non-null  int64  \n",
      " 9   backdrop_path      47754 non-null  object \n",
      " 10  id                 59682 non-null  int64  \n",
      " 11  imdb_id            59682 non-null  object \n",
      " 12  original_language  59682 non-null  object \n",
      " 13  overview           57908 non-null  object \n",
      " 14  popularity         59682 non-null  float64\n",
      " 15  poster_path        58112 non-null  object \n",
      " 16  release_date       59682 non-null  int64  \n",
      " 17  Drama              59682 non-null  int64  \n",
      " 18  Adventure          59682 non-null  int64  \n",
      " 19  Fantasy            59682 non-null  int64  \n",
      " 20  Biography          59682 non-null  int64  \n",
      " 21  Romance            59682 non-null  int64  \n",
      " 22  History            59682 non-null  int64  \n",
      " 23  Comedy             59682 non-null  int64  \n",
      " 24  Crime              59682 non-null  int64  \n",
      " 25  Mystery            59682 non-null  int64  \n",
      " 26  Horror             59682 non-null  int64  \n",
      " 27  Western            59682 non-null  int64  \n",
      " 28  Action             59682 non-null  int64  \n",
      " 29  Family             59682 non-null  int64  \n",
      " 30  War                59682 non-null  int64  \n",
      " 31  Sci-Fi             59682 non-null  int64  \n",
      " 32  Thriller           59682 non-null  int64  \n",
      " 33  Sport              59682 non-null  int64  \n",
      " 34  Documentary        59682 non-null  int64  \n",
      " 35  Music              59682 non-null  int64  \n",
      " 36  Animation          59682 non-null  int64  \n",
      " 37  Film-Noir          59682 non-null  int64  \n",
      " 38  News               59682 non-null  int64  \n",
      " 39  director1          59682 non-null  object \n",
      " 40  writer1            59682 non-null  object \n",
      " 41  actor1             59682 non-null  object \n",
      " 42  actor2             59682 non-null  object \n",
      " 43  actor3             59682 non-null  object \n",
      "dtypes: float64(2), int64(28), object(14)\n",
      "memory usage: 20.0+ MB\n"
     ]
    }
   ],
   "execution_count": 8
  },
  {
   "metadata": {
    "ExecuteTime": {
     "end_time": "2024-05-21T18:32:56.926936Z",
     "start_time": "2024-05-21T18:32:56.915235Z"
    }
   },
   "cell_type": "code",
   "source": "movie_final.columns",
   "id": "2188ecf03c0caedf",
   "outputs": [
    {
     "data": {
      "text/plain": [
       "Index(['Unnamed: 0', 'tconst', 'originalTitle', 'isAdult', 'runtimeMinutes',\n",
       "       'genres_x', 'title_x', 'averageRating', 'numVotes', 'backdrop_path',\n",
       "       'id', 'imdb_id', 'original_language', 'overview', 'popularity',\n",
       "       'poster_path', 'release_date', 'Drama', 'Adventure', 'Fantasy',\n",
       "       'Biography', 'Romance', 'History', 'Comedy', 'Crime', 'Mystery',\n",
       "       'Horror', 'Western', 'Action', 'Family', 'War', 'Sci-Fi', 'Thriller',\n",
       "       'Sport', 'Documentary', 'Music', 'Animation', 'Film-Noir', 'News',\n",
       "       'director1', 'writer1', 'actor1', 'actor2', 'actor3'],\n",
       "      dtype='object')"
      ]
     },
     "execution_count": 62,
     "metadata": {},
     "output_type": "execute_result"
    }
   ],
   "execution_count": 62
  },
  {
   "metadata": {
    "ExecuteTime": {
     "end_time": "2024-05-21T18:41:13.500974Z",
     "start_time": "2024-05-21T18:41:13.472713Z"
    }
   },
   "cell_type": "code",
   "source": [
    "X = movie_final.drop(columns=['Unnamed: 0', 'tconst', 'originalTitle', 'title_x', 'backdrop_path',\n",
    "       'id', 'imdb_id', 'overview', 'poster_path'])"
   ],
   "id": "157ef6771d27d9a4",
   "outputs": [],
   "execution_count": 67
  },
  {
   "metadata": {
    "ExecuteTime": {
     "end_time": "2024-05-21T19:07:34.493950Z",
     "start_time": "2024-05-21T19:07:34.465940Z"
    }
   },
   "cell_type": "code",
   "source": [
    "numeric_cols = [\"runtimeMinutes\", \"averageRating\", \"numVotes\",\"popularity\", \"release_date\"]\n",
    "\n",
    "category_cols = [\"isAdult\", \"original_language\", \"director1\", \"writer1\", \"actor1\", \"actor2\", \"actor3\"]\n",
    "\n",
    "pass_cols = ['Drama', 'Adventure', 'Fantasy',\n",
    "       'Biography', 'Romance', 'History', 'Comedy', 'Crime', 'Mystery',\n",
    "       'Horror', 'Western', 'Action', 'Family', 'War', 'Sci-Fi', 'Thriller',\n",
    "       'Sport', 'Documentary', 'Music', 'Animation', 'Film-Noir', 'News']\n",
    "\n",
    "num_preprocessor = StandardScaler()\n",
    "cat_preprocessor = OneHotEncoder()\n",
    "\n",
    "model_nearest = (\n",
    "                    make_pipeline(\n",
    "    ColumnTransformer(\n",
    "                                    [\n",
    "                                        ('OneHotEncoder', cat_preprocessor, category_cols),\n",
    "                                        ('StandardScaler', num_preprocessor, numeric_cols),\n",
    "                                        ( 'already_factorized','passthrough', pass_cols)\n",
    "                                    ]\n",
    "                         ),\n",
    "    NearestNeighbors(n_neighbors = 3)  ))\n",
    "model_nearest"
   ],
   "id": "51896ce0f6c9a36b",
   "outputs": [
    {
     "data": {
      "text/plain": [
       "Pipeline(steps=[('columntransformer',\n",
       "                 ColumnTransformer(transformers=[('OneHotEncoder',\n",
       "                                                  OneHotEncoder(),\n",
       "                                                  ['isAdult',\n",
       "                                                   'original_language',\n",
       "                                                   'director1', 'writer1',\n",
       "                                                   'actor1', 'actor2',\n",
       "                                                   'actor3']),\n",
       "                                                 ('StandardScaler',\n",
       "                                                  StandardScaler(),\n",
       "                                                  ['runtimeMinutes',\n",
       "                                                   'averageRating', 'numVotes',\n",
       "                                                   'popularity',\n",
       "                                                   'release_date']),\n",
       "                                                 ('factorized', 'passthrough',\n",
       "                                                  ['Drama', 'Adventure',\n",
       "                                                   'Fantasy', 'Biography',\n",
       "                                                   'Romance', 'History',\n",
       "                                                   'Comedy', 'Crime', 'Mystery',\n",
       "                                                   'Horror', 'Western',\n",
       "                                                   'Action', 'Family', 'War',\n",
       "                                                   'Sci-Fi', 'Thriller',\n",
       "                                                   'Sport', 'Documentary',\n",
       "                                                   'Music', 'Animation',\n",
       "                                                   'Film-Noir', 'News'])])),\n",
       "                ('nearestneighbors', NearestNeighbors(n_neighbors=3))])"
      ],
      "text/html": [
       "<style>#sk-container-id-13 {color: black;}#sk-container-id-13 pre{padding: 0;}#sk-container-id-13 div.sk-toggleable {background-color: white;}#sk-container-id-13 label.sk-toggleable__label {cursor: pointer;display: block;width: 100%;margin-bottom: 0;padding: 0.3em;box-sizing: border-box;text-align: center;}#sk-container-id-13 label.sk-toggleable__label-arrow:before {content: \"▸\";float: left;margin-right: 0.25em;color: #696969;}#sk-container-id-13 label.sk-toggleable__label-arrow:hover:before {color: black;}#sk-container-id-13 div.sk-estimator:hover label.sk-toggleable__label-arrow:before {color: black;}#sk-container-id-13 div.sk-toggleable__content {max-height: 0;max-width: 0;overflow: hidden;text-align: left;background-color: #f0f8ff;}#sk-container-id-13 div.sk-toggleable__content pre {margin: 0.2em;color: black;border-radius: 0.25em;background-color: #f0f8ff;}#sk-container-id-13 input.sk-toggleable__control:checked~div.sk-toggleable__content {max-height: 200px;max-width: 100%;overflow: auto;}#sk-container-id-13 input.sk-toggleable__control:checked~label.sk-toggleable__label-arrow:before {content: \"▾\";}#sk-container-id-13 div.sk-estimator input.sk-toggleable__control:checked~label.sk-toggleable__label {background-color: #d4ebff;}#sk-container-id-13 div.sk-label input.sk-toggleable__control:checked~label.sk-toggleable__label {background-color: #d4ebff;}#sk-container-id-13 input.sk-hidden--visually {border: 0;clip: rect(1px 1px 1px 1px);clip: rect(1px, 1px, 1px, 1px);height: 1px;margin: -1px;overflow: hidden;padding: 0;position: absolute;width: 1px;}#sk-container-id-13 div.sk-estimator {font-family: monospace;background-color: #f0f8ff;border: 1px dotted black;border-radius: 0.25em;box-sizing: border-box;margin-bottom: 0.5em;}#sk-container-id-13 div.sk-estimator:hover {background-color: #d4ebff;}#sk-container-id-13 div.sk-parallel-item::after {content: \"\";width: 100%;border-bottom: 1px solid gray;flex-grow: 1;}#sk-container-id-13 div.sk-label:hover label.sk-toggleable__label {background-color: #d4ebff;}#sk-container-id-13 div.sk-serial::before {content: \"\";position: absolute;border-left: 1px solid gray;box-sizing: border-box;top: 0;bottom: 0;left: 50%;z-index: 0;}#sk-container-id-13 div.sk-serial {display: flex;flex-direction: column;align-items: center;background-color: white;padding-right: 0.2em;padding-left: 0.2em;position: relative;}#sk-container-id-13 div.sk-item {position: relative;z-index: 1;}#sk-container-id-13 div.sk-parallel {display: flex;align-items: stretch;justify-content: center;background-color: white;position: relative;}#sk-container-id-13 div.sk-item::before, #sk-container-id-13 div.sk-parallel-item::before {content: \"\";position: absolute;border-left: 1px solid gray;box-sizing: border-box;top: 0;bottom: 0;left: 50%;z-index: -1;}#sk-container-id-13 div.sk-parallel-item {display: flex;flex-direction: column;z-index: 1;position: relative;background-color: white;}#sk-container-id-13 div.sk-parallel-item:first-child::after {align-self: flex-end;width: 50%;}#sk-container-id-13 div.sk-parallel-item:last-child::after {align-self: flex-start;width: 50%;}#sk-container-id-13 div.sk-parallel-item:only-child::after {width: 0;}#sk-container-id-13 div.sk-dashed-wrapped {border: 1px dashed gray;margin: 0 0.4em 0.5em 0.4em;box-sizing: border-box;padding-bottom: 0.4em;background-color: white;}#sk-container-id-13 div.sk-label label {font-family: monospace;font-weight: bold;display: inline-block;line-height: 1.2em;}#sk-container-id-13 div.sk-label-container {text-align: center;}#sk-container-id-13 div.sk-container {/* jupyter's `normalize.less` sets `[hidden] { display: none; }` but bootstrap.min.css set `[hidden] { display: none !important; }` so we also need the `!important` here to be able to override the default hidden behavior on the sphinx rendered scikit-learn.org. See: https://github.com/scikit-learn/scikit-learn/issues/21755 */display: inline-block !important;position: relative;}#sk-container-id-13 div.sk-text-repr-fallback {display: none;}</style><div id=\"sk-container-id-13\" class=\"sk-top-container\"><div class=\"sk-text-repr-fallback\"><pre>Pipeline(steps=[(&#x27;columntransformer&#x27;,\n",
       "                 ColumnTransformer(transformers=[(&#x27;OneHotEncoder&#x27;,\n",
       "                                                  OneHotEncoder(),\n",
       "                                                  [&#x27;isAdult&#x27;,\n",
       "                                                   &#x27;original_language&#x27;,\n",
       "                                                   &#x27;director1&#x27;, &#x27;writer1&#x27;,\n",
       "                                                   &#x27;actor1&#x27;, &#x27;actor2&#x27;,\n",
       "                                                   &#x27;actor3&#x27;]),\n",
       "                                                 (&#x27;StandardScaler&#x27;,\n",
       "                                                  StandardScaler(),\n",
       "                                                  [&#x27;runtimeMinutes&#x27;,\n",
       "                                                   &#x27;averageRating&#x27;, &#x27;numVotes&#x27;,\n",
       "                                                   &#x27;popularity&#x27;,\n",
       "                                                   &#x27;release_date&#x27;]),\n",
       "                                                 (&#x27;factorized&#x27;, &#x27;passthrough&#x27;,\n",
       "                                                  [&#x27;Drama&#x27;, &#x27;Adventure&#x27;,\n",
       "                                                   &#x27;Fantasy&#x27;, &#x27;Biography&#x27;,\n",
       "                                                   &#x27;Romance&#x27;, &#x27;History&#x27;,\n",
       "                                                   &#x27;Comedy&#x27;, &#x27;Crime&#x27;, &#x27;Mystery&#x27;,\n",
       "                                                   &#x27;Horror&#x27;, &#x27;Western&#x27;,\n",
       "                                                   &#x27;Action&#x27;, &#x27;Family&#x27;, &#x27;War&#x27;,\n",
       "                                                   &#x27;Sci-Fi&#x27;, &#x27;Thriller&#x27;,\n",
       "                                                   &#x27;Sport&#x27;, &#x27;Documentary&#x27;,\n",
       "                                                   &#x27;Music&#x27;, &#x27;Animation&#x27;,\n",
       "                                                   &#x27;Film-Noir&#x27;, &#x27;News&#x27;])])),\n",
       "                (&#x27;nearestneighbors&#x27;, NearestNeighbors(n_neighbors=3))])</pre><b>In a Jupyter environment, please rerun this cell to show the HTML representation or trust the notebook. <br />On GitHub, the HTML representation is unable to render, please try loading this page with nbviewer.org.</b></div><div class=\"sk-container\" hidden><div class=\"sk-item sk-dashed-wrapped\"><div class=\"sk-label-container\"><div class=\"sk-label sk-toggleable\"><input class=\"sk-toggleable__control sk-hidden--visually\" id=\"sk-estimator-id-89\" type=\"checkbox\" ><label for=\"sk-estimator-id-89\" class=\"sk-toggleable__label sk-toggleable__label-arrow\">Pipeline</label><div class=\"sk-toggleable__content\"><pre>Pipeline(steps=[(&#x27;columntransformer&#x27;,\n",
       "                 ColumnTransformer(transformers=[(&#x27;OneHotEncoder&#x27;,\n",
       "                                                  OneHotEncoder(),\n",
       "                                                  [&#x27;isAdult&#x27;,\n",
       "                                                   &#x27;original_language&#x27;,\n",
       "                                                   &#x27;director1&#x27;, &#x27;writer1&#x27;,\n",
       "                                                   &#x27;actor1&#x27;, &#x27;actor2&#x27;,\n",
       "                                                   &#x27;actor3&#x27;]),\n",
       "                                                 (&#x27;StandardScaler&#x27;,\n",
       "                                                  StandardScaler(),\n",
       "                                                  [&#x27;runtimeMinutes&#x27;,\n",
       "                                                   &#x27;averageRating&#x27;, &#x27;numVotes&#x27;,\n",
       "                                                   &#x27;popularity&#x27;,\n",
       "                                                   &#x27;release_date&#x27;]),\n",
       "                                                 (&#x27;factorized&#x27;, &#x27;passthrough&#x27;,\n",
       "                                                  [&#x27;Drama&#x27;, &#x27;Adventure&#x27;,\n",
       "                                                   &#x27;Fantasy&#x27;, &#x27;Biography&#x27;,\n",
       "                                                   &#x27;Romance&#x27;, &#x27;History&#x27;,\n",
       "                                                   &#x27;Comedy&#x27;, &#x27;Crime&#x27;, &#x27;Mystery&#x27;,\n",
       "                                                   &#x27;Horror&#x27;, &#x27;Western&#x27;,\n",
       "                                                   &#x27;Action&#x27;, &#x27;Family&#x27;, &#x27;War&#x27;,\n",
       "                                                   &#x27;Sci-Fi&#x27;, &#x27;Thriller&#x27;,\n",
       "                                                   &#x27;Sport&#x27;, &#x27;Documentary&#x27;,\n",
       "                                                   &#x27;Music&#x27;, &#x27;Animation&#x27;,\n",
       "                                                   &#x27;Film-Noir&#x27;, &#x27;News&#x27;])])),\n",
       "                (&#x27;nearestneighbors&#x27;, NearestNeighbors(n_neighbors=3))])</pre></div></div></div><div class=\"sk-serial\"><div class=\"sk-item sk-dashed-wrapped\"><div class=\"sk-label-container\"><div class=\"sk-label sk-toggleable\"><input class=\"sk-toggleable__control sk-hidden--visually\" id=\"sk-estimator-id-90\" type=\"checkbox\" ><label for=\"sk-estimator-id-90\" class=\"sk-toggleable__label sk-toggleable__label-arrow\">columntransformer: ColumnTransformer</label><div class=\"sk-toggleable__content\"><pre>ColumnTransformer(transformers=[(&#x27;OneHotEncoder&#x27;, OneHotEncoder(),\n",
       "                                 [&#x27;isAdult&#x27;, &#x27;original_language&#x27;, &#x27;director1&#x27;,\n",
       "                                  &#x27;writer1&#x27;, &#x27;actor1&#x27;, &#x27;actor2&#x27;, &#x27;actor3&#x27;]),\n",
       "                                (&#x27;StandardScaler&#x27;, StandardScaler(),\n",
       "                                 [&#x27;runtimeMinutes&#x27;, &#x27;averageRating&#x27;, &#x27;numVotes&#x27;,\n",
       "                                  &#x27;popularity&#x27;, &#x27;release_date&#x27;]),\n",
       "                                (&#x27;factorized&#x27;, &#x27;passthrough&#x27;,\n",
       "                                 [&#x27;Drama&#x27;, &#x27;Adventure&#x27;, &#x27;Fantasy&#x27;, &#x27;Biography&#x27;,\n",
       "                                  &#x27;Romance&#x27;, &#x27;History&#x27;, &#x27;Comedy&#x27;, &#x27;Crime&#x27;,\n",
       "                                  &#x27;Mystery&#x27;, &#x27;Horror&#x27;, &#x27;Western&#x27;, &#x27;Action&#x27;,\n",
       "                                  &#x27;Family&#x27;, &#x27;War&#x27;, &#x27;Sci-Fi&#x27;, &#x27;Thriller&#x27;,\n",
       "                                  &#x27;Sport&#x27;, &#x27;Documentary&#x27;, &#x27;Music&#x27;, &#x27;Animation&#x27;,\n",
       "                                  &#x27;Film-Noir&#x27;, &#x27;News&#x27;])])</pre></div></div></div><div class=\"sk-parallel\"><div class=\"sk-parallel-item\"><div class=\"sk-item\"><div class=\"sk-label-container\"><div class=\"sk-label sk-toggleable\"><input class=\"sk-toggleable__control sk-hidden--visually\" id=\"sk-estimator-id-91\" type=\"checkbox\" ><label for=\"sk-estimator-id-91\" class=\"sk-toggleable__label sk-toggleable__label-arrow\">OneHotEncoder</label><div class=\"sk-toggleable__content\"><pre>[&#x27;isAdult&#x27;, &#x27;original_language&#x27;, &#x27;director1&#x27;, &#x27;writer1&#x27;, &#x27;actor1&#x27;, &#x27;actor2&#x27;, &#x27;actor3&#x27;]</pre></div></div></div><div class=\"sk-serial\"><div class=\"sk-item\"><div class=\"sk-estimator sk-toggleable\"><input class=\"sk-toggleable__control sk-hidden--visually\" id=\"sk-estimator-id-92\" type=\"checkbox\" ><label for=\"sk-estimator-id-92\" class=\"sk-toggleable__label sk-toggleable__label-arrow\">OneHotEncoder</label><div class=\"sk-toggleable__content\"><pre>OneHotEncoder()</pre></div></div></div></div></div></div><div class=\"sk-parallel-item\"><div class=\"sk-item\"><div class=\"sk-label-container\"><div class=\"sk-label sk-toggleable\"><input class=\"sk-toggleable__control sk-hidden--visually\" id=\"sk-estimator-id-93\" type=\"checkbox\" ><label for=\"sk-estimator-id-93\" class=\"sk-toggleable__label sk-toggleable__label-arrow\">StandardScaler</label><div class=\"sk-toggleable__content\"><pre>[&#x27;runtimeMinutes&#x27;, &#x27;averageRating&#x27;, &#x27;numVotes&#x27;, &#x27;popularity&#x27;, &#x27;release_date&#x27;]</pre></div></div></div><div class=\"sk-serial\"><div class=\"sk-item\"><div class=\"sk-estimator sk-toggleable\"><input class=\"sk-toggleable__control sk-hidden--visually\" id=\"sk-estimator-id-94\" type=\"checkbox\" ><label for=\"sk-estimator-id-94\" class=\"sk-toggleable__label sk-toggleable__label-arrow\">StandardScaler</label><div class=\"sk-toggleable__content\"><pre>StandardScaler()</pre></div></div></div></div></div></div><div class=\"sk-parallel-item\"><div class=\"sk-item\"><div class=\"sk-label-container\"><div class=\"sk-label sk-toggleable\"><input class=\"sk-toggleable__control sk-hidden--visually\" id=\"sk-estimator-id-95\" type=\"checkbox\" ><label for=\"sk-estimator-id-95\" class=\"sk-toggleable__label sk-toggleable__label-arrow\">factorized</label><div class=\"sk-toggleable__content\"><pre>[&#x27;Drama&#x27;, &#x27;Adventure&#x27;, &#x27;Fantasy&#x27;, &#x27;Biography&#x27;, &#x27;Romance&#x27;, &#x27;History&#x27;, &#x27;Comedy&#x27;, &#x27;Crime&#x27;, &#x27;Mystery&#x27;, &#x27;Horror&#x27;, &#x27;Western&#x27;, &#x27;Action&#x27;, &#x27;Family&#x27;, &#x27;War&#x27;, &#x27;Sci-Fi&#x27;, &#x27;Thriller&#x27;, &#x27;Sport&#x27;, &#x27;Documentary&#x27;, &#x27;Music&#x27;, &#x27;Animation&#x27;, &#x27;Film-Noir&#x27;, &#x27;News&#x27;]</pre></div></div></div><div class=\"sk-serial\"><div class=\"sk-item\"><div class=\"sk-estimator sk-toggleable\"><input class=\"sk-toggleable__control sk-hidden--visually\" id=\"sk-estimator-id-96\" type=\"checkbox\" ><label for=\"sk-estimator-id-96\" class=\"sk-toggleable__label sk-toggleable__label-arrow\">passthrough</label><div class=\"sk-toggleable__content\"><pre>passthrough</pre></div></div></div></div></div></div></div></div><div class=\"sk-item\"><div class=\"sk-estimator sk-toggleable\"><input class=\"sk-toggleable__control sk-hidden--visually\" id=\"sk-estimator-id-97\" type=\"checkbox\" ><label for=\"sk-estimator-id-97\" class=\"sk-toggleable__label sk-toggleable__label-arrow\">NearestNeighbors</label><div class=\"sk-toggleable__content\"><pre>NearestNeighbors(n_neighbors=3)</pre></div></div></div></div></div></div></div>"
      ]
     },
     "execution_count": 94,
     "metadata": {},
     "output_type": "execute_result"
    }
   ],
   "execution_count": 94
  },
  {
   "metadata": {
    "ExecuteTime": {
     "end_time": "2024-05-21T19:07:35.768583Z",
     "start_time": "2024-05-21T19:07:35.456754Z"
    }
   },
   "cell_type": "code",
   "source": "model_nearest.fit(X)",
   "id": "db9deced157b0037",
   "outputs": [
    {
     "data": {
      "text/plain": [
       "Pipeline(steps=[('columntransformer',\n",
       "                 ColumnTransformer(transformers=[('OneHotEncoder',\n",
       "                                                  OneHotEncoder(),\n",
       "                                                  ['isAdult',\n",
       "                                                   'original_language',\n",
       "                                                   'director1', 'writer1',\n",
       "                                                   'actor1', 'actor2',\n",
       "                                                   'actor3']),\n",
       "                                                 ('StandardScaler',\n",
       "                                                  StandardScaler(),\n",
       "                                                  ['runtimeMinutes',\n",
       "                                                   'averageRating', 'numVotes',\n",
       "                                                   'popularity',\n",
       "                                                   'release_date']),\n",
       "                                                 ('factorized', 'passthrough',\n",
       "                                                  ['Drama', 'Adventure',\n",
       "                                                   'Fantasy', 'Biography',\n",
       "                                                   'Romance', 'History',\n",
       "                                                   'Comedy', 'Crime', 'Mystery',\n",
       "                                                   'Horror', 'Western',\n",
       "                                                   'Action', 'Family', 'War',\n",
       "                                                   'Sci-Fi', 'Thriller',\n",
       "                                                   'Sport', 'Documentary',\n",
       "                                                   'Music', 'Animation',\n",
       "                                                   'Film-Noir', 'News'])])),\n",
       "                ('nearestneighbors', NearestNeighbors(n_neighbors=3))])"
      ],
      "text/html": [
       "<style>#sk-container-id-14 {color: black;}#sk-container-id-14 pre{padding: 0;}#sk-container-id-14 div.sk-toggleable {background-color: white;}#sk-container-id-14 label.sk-toggleable__label {cursor: pointer;display: block;width: 100%;margin-bottom: 0;padding: 0.3em;box-sizing: border-box;text-align: center;}#sk-container-id-14 label.sk-toggleable__label-arrow:before {content: \"▸\";float: left;margin-right: 0.25em;color: #696969;}#sk-container-id-14 label.sk-toggleable__label-arrow:hover:before {color: black;}#sk-container-id-14 div.sk-estimator:hover label.sk-toggleable__label-arrow:before {color: black;}#sk-container-id-14 div.sk-toggleable__content {max-height: 0;max-width: 0;overflow: hidden;text-align: left;background-color: #f0f8ff;}#sk-container-id-14 div.sk-toggleable__content pre {margin: 0.2em;color: black;border-radius: 0.25em;background-color: #f0f8ff;}#sk-container-id-14 input.sk-toggleable__control:checked~div.sk-toggleable__content {max-height: 200px;max-width: 100%;overflow: auto;}#sk-container-id-14 input.sk-toggleable__control:checked~label.sk-toggleable__label-arrow:before {content: \"▾\";}#sk-container-id-14 div.sk-estimator input.sk-toggleable__control:checked~label.sk-toggleable__label {background-color: #d4ebff;}#sk-container-id-14 div.sk-label input.sk-toggleable__control:checked~label.sk-toggleable__label {background-color: #d4ebff;}#sk-container-id-14 input.sk-hidden--visually {border: 0;clip: rect(1px 1px 1px 1px);clip: rect(1px, 1px, 1px, 1px);height: 1px;margin: -1px;overflow: hidden;padding: 0;position: absolute;width: 1px;}#sk-container-id-14 div.sk-estimator {font-family: monospace;background-color: #f0f8ff;border: 1px dotted black;border-radius: 0.25em;box-sizing: border-box;margin-bottom: 0.5em;}#sk-container-id-14 div.sk-estimator:hover {background-color: #d4ebff;}#sk-container-id-14 div.sk-parallel-item::after {content: \"\";width: 100%;border-bottom: 1px solid gray;flex-grow: 1;}#sk-container-id-14 div.sk-label:hover label.sk-toggleable__label {background-color: #d4ebff;}#sk-container-id-14 div.sk-serial::before {content: \"\";position: absolute;border-left: 1px solid gray;box-sizing: border-box;top: 0;bottom: 0;left: 50%;z-index: 0;}#sk-container-id-14 div.sk-serial {display: flex;flex-direction: column;align-items: center;background-color: white;padding-right: 0.2em;padding-left: 0.2em;position: relative;}#sk-container-id-14 div.sk-item {position: relative;z-index: 1;}#sk-container-id-14 div.sk-parallel {display: flex;align-items: stretch;justify-content: center;background-color: white;position: relative;}#sk-container-id-14 div.sk-item::before, #sk-container-id-14 div.sk-parallel-item::before {content: \"\";position: absolute;border-left: 1px solid gray;box-sizing: border-box;top: 0;bottom: 0;left: 50%;z-index: -1;}#sk-container-id-14 div.sk-parallel-item {display: flex;flex-direction: column;z-index: 1;position: relative;background-color: white;}#sk-container-id-14 div.sk-parallel-item:first-child::after {align-self: flex-end;width: 50%;}#sk-container-id-14 div.sk-parallel-item:last-child::after {align-self: flex-start;width: 50%;}#sk-container-id-14 div.sk-parallel-item:only-child::after {width: 0;}#sk-container-id-14 div.sk-dashed-wrapped {border: 1px dashed gray;margin: 0 0.4em 0.5em 0.4em;box-sizing: border-box;padding-bottom: 0.4em;background-color: white;}#sk-container-id-14 div.sk-label label {font-family: monospace;font-weight: bold;display: inline-block;line-height: 1.2em;}#sk-container-id-14 div.sk-label-container {text-align: center;}#sk-container-id-14 div.sk-container {/* jupyter's `normalize.less` sets `[hidden] { display: none; }` but bootstrap.min.css set `[hidden] { display: none !important; }` so we also need the `!important` here to be able to override the default hidden behavior on the sphinx rendered scikit-learn.org. See: https://github.com/scikit-learn/scikit-learn/issues/21755 */display: inline-block !important;position: relative;}#sk-container-id-14 div.sk-text-repr-fallback {display: none;}</style><div id=\"sk-container-id-14\" class=\"sk-top-container\"><div class=\"sk-text-repr-fallback\"><pre>Pipeline(steps=[(&#x27;columntransformer&#x27;,\n",
       "                 ColumnTransformer(transformers=[(&#x27;OneHotEncoder&#x27;,\n",
       "                                                  OneHotEncoder(),\n",
       "                                                  [&#x27;isAdult&#x27;,\n",
       "                                                   &#x27;original_language&#x27;,\n",
       "                                                   &#x27;director1&#x27;, &#x27;writer1&#x27;,\n",
       "                                                   &#x27;actor1&#x27;, &#x27;actor2&#x27;,\n",
       "                                                   &#x27;actor3&#x27;]),\n",
       "                                                 (&#x27;StandardScaler&#x27;,\n",
       "                                                  StandardScaler(),\n",
       "                                                  [&#x27;runtimeMinutes&#x27;,\n",
       "                                                   &#x27;averageRating&#x27;, &#x27;numVotes&#x27;,\n",
       "                                                   &#x27;popularity&#x27;,\n",
       "                                                   &#x27;release_date&#x27;]),\n",
       "                                                 (&#x27;factorized&#x27;, &#x27;passthrough&#x27;,\n",
       "                                                  [&#x27;Drama&#x27;, &#x27;Adventure&#x27;,\n",
       "                                                   &#x27;Fantasy&#x27;, &#x27;Biography&#x27;,\n",
       "                                                   &#x27;Romance&#x27;, &#x27;History&#x27;,\n",
       "                                                   &#x27;Comedy&#x27;, &#x27;Crime&#x27;, &#x27;Mystery&#x27;,\n",
       "                                                   &#x27;Horror&#x27;, &#x27;Western&#x27;,\n",
       "                                                   &#x27;Action&#x27;, &#x27;Family&#x27;, &#x27;War&#x27;,\n",
       "                                                   &#x27;Sci-Fi&#x27;, &#x27;Thriller&#x27;,\n",
       "                                                   &#x27;Sport&#x27;, &#x27;Documentary&#x27;,\n",
       "                                                   &#x27;Music&#x27;, &#x27;Animation&#x27;,\n",
       "                                                   &#x27;Film-Noir&#x27;, &#x27;News&#x27;])])),\n",
       "                (&#x27;nearestneighbors&#x27;, NearestNeighbors(n_neighbors=3))])</pre><b>In a Jupyter environment, please rerun this cell to show the HTML representation or trust the notebook. <br />On GitHub, the HTML representation is unable to render, please try loading this page with nbviewer.org.</b></div><div class=\"sk-container\" hidden><div class=\"sk-item sk-dashed-wrapped\"><div class=\"sk-label-container\"><div class=\"sk-label sk-toggleable\"><input class=\"sk-toggleable__control sk-hidden--visually\" id=\"sk-estimator-id-98\" type=\"checkbox\" ><label for=\"sk-estimator-id-98\" class=\"sk-toggleable__label sk-toggleable__label-arrow\">Pipeline</label><div class=\"sk-toggleable__content\"><pre>Pipeline(steps=[(&#x27;columntransformer&#x27;,\n",
       "                 ColumnTransformer(transformers=[(&#x27;OneHotEncoder&#x27;,\n",
       "                                                  OneHotEncoder(),\n",
       "                                                  [&#x27;isAdult&#x27;,\n",
       "                                                   &#x27;original_language&#x27;,\n",
       "                                                   &#x27;director1&#x27;, &#x27;writer1&#x27;,\n",
       "                                                   &#x27;actor1&#x27;, &#x27;actor2&#x27;,\n",
       "                                                   &#x27;actor3&#x27;]),\n",
       "                                                 (&#x27;StandardScaler&#x27;,\n",
       "                                                  StandardScaler(),\n",
       "                                                  [&#x27;runtimeMinutes&#x27;,\n",
       "                                                   &#x27;averageRating&#x27;, &#x27;numVotes&#x27;,\n",
       "                                                   &#x27;popularity&#x27;,\n",
       "                                                   &#x27;release_date&#x27;]),\n",
       "                                                 (&#x27;factorized&#x27;, &#x27;passthrough&#x27;,\n",
       "                                                  [&#x27;Drama&#x27;, &#x27;Adventure&#x27;,\n",
       "                                                   &#x27;Fantasy&#x27;, &#x27;Biography&#x27;,\n",
       "                                                   &#x27;Romance&#x27;, &#x27;History&#x27;,\n",
       "                                                   &#x27;Comedy&#x27;, &#x27;Crime&#x27;, &#x27;Mystery&#x27;,\n",
       "                                                   &#x27;Horror&#x27;, &#x27;Western&#x27;,\n",
       "                                                   &#x27;Action&#x27;, &#x27;Family&#x27;, &#x27;War&#x27;,\n",
       "                                                   &#x27;Sci-Fi&#x27;, &#x27;Thriller&#x27;,\n",
       "                                                   &#x27;Sport&#x27;, &#x27;Documentary&#x27;,\n",
       "                                                   &#x27;Music&#x27;, &#x27;Animation&#x27;,\n",
       "                                                   &#x27;Film-Noir&#x27;, &#x27;News&#x27;])])),\n",
       "                (&#x27;nearestneighbors&#x27;, NearestNeighbors(n_neighbors=3))])</pre></div></div></div><div class=\"sk-serial\"><div class=\"sk-item sk-dashed-wrapped\"><div class=\"sk-label-container\"><div class=\"sk-label sk-toggleable\"><input class=\"sk-toggleable__control sk-hidden--visually\" id=\"sk-estimator-id-99\" type=\"checkbox\" ><label for=\"sk-estimator-id-99\" class=\"sk-toggleable__label sk-toggleable__label-arrow\">columntransformer: ColumnTransformer</label><div class=\"sk-toggleable__content\"><pre>ColumnTransformer(transformers=[(&#x27;OneHotEncoder&#x27;, OneHotEncoder(),\n",
       "                                 [&#x27;isAdult&#x27;, &#x27;original_language&#x27;, &#x27;director1&#x27;,\n",
       "                                  &#x27;writer1&#x27;, &#x27;actor1&#x27;, &#x27;actor2&#x27;, &#x27;actor3&#x27;]),\n",
       "                                (&#x27;StandardScaler&#x27;, StandardScaler(),\n",
       "                                 [&#x27;runtimeMinutes&#x27;, &#x27;averageRating&#x27;, &#x27;numVotes&#x27;,\n",
       "                                  &#x27;popularity&#x27;, &#x27;release_date&#x27;]),\n",
       "                                (&#x27;factorized&#x27;, &#x27;passthrough&#x27;,\n",
       "                                 [&#x27;Drama&#x27;, &#x27;Adventure&#x27;, &#x27;Fantasy&#x27;, &#x27;Biography&#x27;,\n",
       "                                  &#x27;Romance&#x27;, &#x27;History&#x27;, &#x27;Comedy&#x27;, &#x27;Crime&#x27;,\n",
       "                                  &#x27;Mystery&#x27;, &#x27;Horror&#x27;, &#x27;Western&#x27;, &#x27;Action&#x27;,\n",
       "                                  &#x27;Family&#x27;, &#x27;War&#x27;, &#x27;Sci-Fi&#x27;, &#x27;Thriller&#x27;,\n",
       "                                  &#x27;Sport&#x27;, &#x27;Documentary&#x27;, &#x27;Music&#x27;, &#x27;Animation&#x27;,\n",
       "                                  &#x27;Film-Noir&#x27;, &#x27;News&#x27;])])</pre></div></div></div><div class=\"sk-parallel\"><div class=\"sk-parallel-item\"><div class=\"sk-item\"><div class=\"sk-label-container\"><div class=\"sk-label sk-toggleable\"><input class=\"sk-toggleable__control sk-hidden--visually\" id=\"sk-estimator-id-100\" type=\"checkbox\" ><label for=\"sk-estimator-id-100\" class=\"sk-toggleable__label sk-toggleable__label-arrow\">OneHotEncoder</label><div class=\"sk-toggleable__content\"><pre>[&#x27;isAdult&#x27;, &#x27;original_language&#x27;, &#x27;director1&#x27;, &#x27;writer1&#x27;, &#x27;actor1&#x27;, &#x27;actor2&#x27;, &#x27;actor3&#x27;]</pre></div></div></div><div class=\"sk-serial\"><div class=\"sk-item\"><div class=\"sk-estimator sk-toggleable\"><input class=\"sk-toggleable__control sk-hidden--visually\" id=\"sk-estimator-id-101\" type=\"checkbox\" ><label for=\"sk-estimator-id-101\" class=\"sk-toggleable__label sk-toggleable__label-arrow\">OneHotEncoder</label><div class=\"sk-toggleable__content\"><pre>OneHotEncoder()</pre></div></div></div></div></div></div><div class=\"sk-parallel-item\"><div class=\"sk-item\"><div class=\"sk-label-container\"><div class=\"sk-label sk-toggleable\"><input class=\"sk-toggleable__control sk-hidden--visually\" id=\"sk-estimator-id-102\" type=\"checkbox\" ><label for=\"sk-estimator-id-102\" class=\"sk-toggleable__label sk-toggleable__label-arrow\">StandardScaler</label><div class=\"sk-toggleable__content\"><pre>[&#x27;runtimeMinutes&#x27;, &#x27;averageRating&#x27;, &#x27;numVotes&#x27;, &#x27;popularity&#x27;, &#x27;release_date&#x27;]</pre></div></div></div><div class=\"sk-serial\"><div class=\"sk-item\"><div class=\"sk-estimator sk-toggleable\"><input class=\"sk-toggleable__control sk-hidden--visually\" id=\"sk-estimator-id-103\" type=\"checkbox\" ><label for=\"sk-estimator-id-103\" class=\"sk-toggleable__label sk-toggleable__label-arrow\">StandardScaler</label><div class=\"sk-toggleable__content\"><pre>StandardScaler()</pre></div></div></div></div></div></div><div class=\"sk-parallel-item\"><div class=\"sk-item\"><div class=\"sk-label-container\"><div class=\"sk-label sk-toggleable\"><input class=\"sk-toggleable__control sk-hidden--visually\" id=\"sk-estimator-id-104\" type=\"checkbox\" ><label for=\"sk-estimator-id-104\" class=\"sk-toggleable__label sk-toggleable__label-arrow\">factorized</label><div class=\"sk-toggleable__content\"><pre>[&#x27;Drama&#x27;, &#x27;Adventure&#x27;, &#x27;Fantasy&#x27;, &#x27;Biography&#x27;, &#x27;Romance&#x27;, &#x27;History&#x27;, &#x27;Comedy&#x27;, &#x27;Crime&#x27;, &#x27;Mystery&#x27;, &#x27;Horror&#x27;, &#x27;Western&#x27;, &#x27;Action&#x27;, &#x27;Family&#x27;, &#x27;War&#x27;, &#x27;Sci-Fi&#x27;, &#x27;Thriller&#x27;, &#x27;Sport&#x27;, &#x27;Documentary&#x27;, &#x27;Music&#x27;, &#x27;Animation&#x27;, &#x27;Film-Noir&#x27;, &#x27;News&#x27;]</pre></div></div></div><div class=\"sk-serial\"><div class=\"sk-item\"><div class=\"sk-estimator sk-toggleable\"><input class=\"sk-toggleable__control sk-hidden--visually\" id=\"sk-estimator-id-105\" type=\"checkbox\" ><label for=\"sk-estimator-id-105\" class=\"sk-toggleable__label sk-toggleable__label-arrow\">passthrough</label><div class=\"sk-toggleable__content\"><pre>passthrough</pre></div></div></div></div></div></div></div></div><div class=\"sk-item\"><div class=\"sk-estimator sk-toggleable\"><input class=\"sk-toggleable__control sk-hidden--visually\" id=\"sk-estimator-id-106\" type=\"checkbox\" ><label for=\"sk-estimator-id-106\" class=\"sk-toggleable__label sk-toggleable__label-arrow\">NearestNeighbors</label><div class=\"sk-toggleable__content\"><pre>NearestNeighbors(n_neighbors=3)</pre></div></div></div></div></div></div></div>"
      ]
     },
     "execution_count": 95,
     "metadata": {},
     "output_type": "execute_result"
    }
   ],
   "execution_count": 95
  },
  {
   "metadata": {
    "ExecuteTime": {
     "end_time": "2024-05-21T19:07:36.256374Z",
     "start_time": "2024-05-21T19:07:36.066512Z"
    }
   },
   "cell_type": "code",
   "source": "X_transformed = model_nearest.named_steps['columntransformer'].fit_transform(X) ",
   "id": "42c8d97f04474124",
   "outputs": [],
   "execution_count": 96
  },
  {
   "metadata": {
    "ExecuteTime": {
     "end_time": "2024-05-22T07:26:44.194954Z",
     "start_time": "2024-05-22T07:26:44.172972Z"
    }
   },
   "cell_type": "code",
   "source": "movie_final[movie_final['originalTitle'] == \"Sully\"].index",
   "id": "2c4d1abc3ae36910",
   "outputs": [
    {
     "data": {
      "text/plain": [
       "Int64Index([51125], dtype='int64')"
      ]
     },
     "execution_count": 111,
     "metadata": {},
     "output_type": "execute_result"
    }
   ],
   "execution_count": 111
  },
  {
   "metadata": {
    "ExecuteTime": {
     "end_time": "2024-05-21T19:09:17.849119Z",
     "start_time": "2024-05-21T19:07:37.905264Z"
    }
   },
   "cell_type": "code",
   "source": [
    "#Aff dataframe \n",
    "model_nearest.named_steps['nearestneighbors'].kneighbors(X_transformed, n_neighbors = 3) "
   ],
   "id": "5e51655682bcf648",
   "outputs": [
    {
     "data": {
      "text/plain": [
       "(array([[0.        , 2.07787695, 2.84868022],\n",
       "        [0.        , 2.49935588, 2.68534355],\n",
       "        [0.        , 3.38346723, 3.47299454],\n",
       "        ...,\n",
       "        [0.        , 3.71659355, 3.72584191],\n",
       "        [0.        , 1.4594749 , 1.5955671 ],\n",
       "        [0.        , 2.64596599, 2.64672906]]),\n",
       " array([[    0, 59608,   101],\n",
       "        [    1,   301,   194],\n",
       "        [    2,    14, 29038],\n",
       "        ...,\n",
       "        [59679, 44493, 49556],\n",
       "        [59680, 43404, 54119],\n",
       "        [59681, 56416, 51801]]))"
      ]
     },
     "execution_count": 97,
     "metadata": {},
     "output_type": "execute_result"
    }
   ],
   "execution_count": 97
  },
  {
   "metadata": {
    "ExecuteTime": {
     "end_time": "2024-05-22T07:29:22.483467Z",
     "start_time": "2024-05-22T07:29:22.409548Z"
    }
   },
   "cell_type": "code",
   "source": "model_nearest.named_steps['nearestneighbors'].kneighbors(X_transformed[51125], n_neighbors = 3) ",
   "id": "c392823b72f6f062",
   "outputs": [
    {
     "data": {
      "text/plain": [
       "(array([[0.        , 2.72121814, 2.88606588]]), array([[51125, 37392, 51857]]))"
      ]
     },
     "execution_count": 116,
     "metadata": {},
     "output_type": "execute_result"
    }
   ],
   "execution_count": 116
  },
  {
   "metadata": {
    "ExecuteTime": {
     "end_time": "2024-05-21T19:01:52.518122Z",
     "start_time": "2024-05-21T19:01:52.475206Z"
    }
   },
   "cell_type": "code",
   "source": " movie_final[movie_final['originalTitle'] == \"Sully\"]",
   "id": "2ef1a718f1b74617",
   "outputs": [
    {
     "data": {
      "text/plain": [
       "       Unnamed: 0     tconst originalTitle  isAdult  runtimeMinutes  \\\n",
       "51125       51125  tt3263904         Sully        0              96   \n",
       "\n",
       "              genres_x title_x  averageRating  numVotes  \\\n",
       "51125  Biography Drama   Sully          7.400    297414   \n",
       "\n",
       "                          backdrop_path      id    imdb_id original_language  \\\n",
       "51125  /phWZP5FESItyhQcqk6sWz35nUtP.jpg  363676  tt3263904                EN   \n",
       "\n",
       "                                                overview  popularity  \\\n",
       "51125  On 15 January 2009, the world witnessed the 'M...      21.665   \n",
       "\n",
       "                            poster_path  release_date  Drama  Adventure  \\\n",
       "51125  /r09ivJ1GGh5WArqRViRYDQLrTVG.jpg          2016      1          0   \n",
       "\n",
       "       Fantasy  Biography  Romance  History  Comedy  Crime  Mystery  Horror  \\\n",
       "51125        0          1        0        0       0      0        0       0   \n",
       "\n",
       "       Western  Action  Family  War  Sci-Fi  Thriller  Sport  Documentary  \\\n",
       "51125        0       0       0    0       0         0      0            0   \n",
       "\n",
       "       Music  Animation  Film-Noir  News  director1    writer1     actor1  \\\n",
       "51125      0          0          0     0  nm0000142  nm0464548  nm0000158   \n",
       "\n",
       "          actor2         actor3  \n",
       "51125  nm0001173  non renseigné  "
      ],
      "text/html": [
       "<div>\n",
       "<style scoped>\n",
       "    .dataframe tbody tr th:only-of-type {\n",
       "        vertical-align: middle;\n",
       "    }\n",
       "\n",
       "    .dataframe tbody tr th {\n",
       "        vertical-align: top;\n",
       "    }\n",
       "\n",
       "    .dataframe thead th {\n",
       "        text-align: right;\n",
       "    }\n",
       "</style>\n",
       "<table border=\"1\" class=\"dataframe\">\n",
       "  <thead>\n",
       "    <tr style=\"text-align: right;\">\n",
       "      <th></th>\n",
       "      <th>Unnamed: 0</th>\n",
       "      <th>tconst</th>\n",
       "      <th>originalTitle</th>\n",
       "      <th>isAdult</th>\n",
       "      <th>runtimeMinutes</th>\n",
       "      <th>genres_x</th>\n",
       "      <th>title_x</th>\n",
       "      <th>averageRating</th>\n",
       "      <th>numVotes</th>\n",
       "      <th>backdrop_path</th>\n",
       "      <th>id</th>\n",
       "      <th>imdb_id</th>\n",
       "      <th>original_language</th>\n",
       "      <th>overview</th>\n",
       "      <th>popularity</th>\n",
       "      <th>poster_path</th>\n",
       "      <th>release_date</th>\n",
       "      <th>Drama</th>\n",
       "      <th>Adventure</th>\n",
       "      <th>Fantasy</th>\n",
       "      <th>Biography</th>\n",
       "      <th>Romance</th>\n",
       "      <th>History</th>\n",
       "      <th>Comedy</th>\n",
       "      <th>Crime</th>\n",
       "      <th>Mystery</th>\n",
       "      <th>Horror</th>\n",
       "      <th>Western</th>\n",
       "      <th>Action</th>\n",
       "      <th>Family</th>\n",
       "      <th>War</th>\n",
       "      <th>Sci-Fi</th>\n",
       "      <th>Thriller</th>\n",
       "      <th>Sport</th>\n",
       "      <th>Documentary</th>\n",
       "      <th>Music</th>\n",
       "      <th>Animation</th>\n",
       "      <th>Film-Noir</th>\n",
       "      <th>News</th>\n",
       "      <th>director1</th>\n",
       "      <th>writer1</th>\n",
       "      <th>actor1</th>\n",
       "      <th>actor2</th>\n",
       "      <th>actor3</th>\n",
       "    </tr>\n",
       "  </thead>\n",
       "  <tbody>\n",
       "    <tr>\n",
       "      <th>51125</th>\n",
       "      <td>51125</td>\n",
       "      <td>tt3263904</td>\n",
       "      <td>Sully</td>\n",
       "      <td>0</td>\n",
       "      <td>96</td>\n",
       "      <td>Biography Drama</td>\n",
       "      <td>Sully</td>\n",
       "      <td>7.400</td>\n",
       "      <td>297414</td>\n",
       "      <td>/phWZP5FESItyhQcqk6sWz35nUtP.jpg</td>\n",
       "      <td>363676</td>\n",
       "      <td>tt3263904</td>\n",
       "      <td>EN</td>\n",
       "      <td>On 15 January 2009, the world witnessed the 'M...</td>\n",
       "      <td>21.665</td>\n",
       "      <td>/r09ivJ1GGh5WArqRViRYDQLrTVG.jpg</td>\n",
       "      <td>2016</td>\n",
       "      <td>1</td>\n",
       "      <td>0</td>\n",
       "      <td>0</td>\n",
       "      <td>1</td>\n",
       "      <td>0</td>\n",
       "      <td>0</td>\n",
       "      <td>0</td>\n",
       "      <td>0</td>\n",
       "      <td>0</td>\n",
       "      <td>0</td>\n",
       "      <td>0</td>\n",
       "      <td>0</td>\n",
       "      <td>0</td>\n",
       "      <td>0</td>\n",
       "      <td>0</td>\n",
       "      <td>0</td>\n",
       "      <td>0</td>\n",
       "      <td>0</td>\n",
       "      <td>0</td>\n",
       "      <td>0</td>\n",
       "      <td>0</td>\n",
       "      <td>0</td>\n",
       "      <td>nm0000142</td>\n",
       "      <td>nm0464548</td>\n",
       "      <td>nm0000158</td>\n",
       "      <td>nm0001173</td>\n",
       "      <td>non renseigné</td>\n",
       "    </tr>\n",
       "  </tbody>\n",
       "</table>\n",
       "</div>"
      ]
     },
     "execution_count": 90,
     "metadata": {},
     "output_type": "execute_result"
    }
   ],
   "execution_count": 90
  },
  {
   "metadata": {
    "ExecuteTime": {
     "end_time": "2024-05-22T07:29:52.273170Z",
     "start_time": "2024-05-22T07:29:52.246867Z"
    }
   },
   "cell_type": "code",
   "source": "movie_final.iloc[37392]",
   "id": "c071cada2df4ed86",
   "outputs": [
    {
     "data": {
      "text/plain": [
       "Unnamed: 0                                                       37392\n",
       "tconst                                                       tt0824747\n",
       "originalTitle                                               Changeling\n",
       "isAdult                                                              0\n",
       "runtimeMinutes                                                     141\n",
       "genres_x                                         Biography Crime Drama\n",
       "title_x                                                      L'échange\n",
       "averageRating                                                    7.800\n",
       "numVotes                                                        265042\n",
       "backdrop_path                         /hmw8oa2aJvhKbfibs8dp3vsNCDI.jpg\n",
       "id                                                                3580\n",
       "imdb_id                                                      tt0824747\n",
       "original_language                                                   EN\n",
       "overview             Christine Collins is overjoyed when her kidnap...\n",
       "popularity                                                      16.047\n",
       "poster_path                           /iECXjFF8JkTnNJvik14WbPpc9s9.jpg\n",
       "release_date                                                      2008\n",
       "Drama                                                                1\n",
       "Adventure                                                            0\n",
       "Fantasy                                                              0\n",
       "Biography                                                            1\n",
       "Romance                                                              0\n",
       "History                                                              0\n",
       "Comedy                                                               0\n",
       "Crime                                                                1\n",
       "Mystery                                                              0\n",
       "Horror                                                               0\n",
       "Western                                                              0\n",
       "Action                                                               0\n",
       "Family                                                               0\n",
       "War                                                                  0\n",
       "Sci-Fi                                                               0\n",
       "Thriller                                                             0\n",
       "Sport                                                                0\n",
       "Documentary                                                          0\n",
       "Music                                                                0\n",
       "Animation                                                            0\n",
       "Film-Noir                                                            0\n",
       "News                                                                 0\n",
       "director1                                                    nm0000142\n",
       "writer1                                                      nm0833089\n",
       "actor1                                                       nm0272173\n",
       "actor2                                                       nm1072959\n",
       "actor3                                                   non renseigné\n",
       "Name: 37392, dtype: object"
      ]
     },
     "execution_count": 117,
     "metadata": {},
     "output_type": "execute_result"
    }
   ],
   "execution_count": 117
  },
  {
   "metadata": {
    "ExecuteTime": {
     "end_time": "2024-05-21T19:19:58.872610Z",
     "start_time": "2024-05-21T19:19:58.864156Z"
    }
   },
   "cell_type": "code",
   "source": "movie_final.iloc[56416]",
   "id": "a78eb66219b45de2",
   "outputs": [
    {
     "data": {
      "text/plain": [
       "Unnamed: 0                                      56416\n",
       "tconst                                      tt7091466\n",
       "originalTitle          Derniers remords avant l'oubli\n",
       "isAdult                                             0\n",
       "runtimeMinutes                                     84\n",
       "genres_x                                        Drama\n",
       "title_x                Derniers remords avant l'oubli\n",
       "averageRating                                   0.000\n",
       "numVotes                                            0\n",
       "backdrop_path                                     NaN\n",
       "id                                             649912\n",
       "imdb_id                                     tt7091466\n",
       "original_language                                  FR\n",
       "overview                                          NaN\n",
       "popularity                                      0.600\n",
       "poster_path          /mSQWPNbVawBzAD0PG4foPlawlOD.jpg\n",
       "release_date                                     2018\n",
       "Drama                                               1\n",
       "Adventure                                           0\n",
       "Fantasy                                             0\n",
       "Biography                                           0\n",
       "Romance                                             0\n",
       "History                                             0\n",
       "Comedy                                              0\n",
       "Crime                                               0\n",
       "Mystery                                             0\n",
       "Horror                                              0\n",
       "Western                                             0\n",
       "Action                                              0\n",
       "Family                                              0\n",
       "War                                                 0\n",
       "Sci-Fi                                              0\n",
       "Thriller                                            0\n",
       "Sport                                               0\n",
       "Documentary                                         0\n",
       "Music                                               0\n",
       "Animation                                           0\n",
       "Film-Noir                                           0\n",
       "News                                                0\n",
       "director1                                   nm0191392\n",
       "writer1                                     nm0191392\n",
       "actor1                                      nm2890894\n",
       "actor2                                  non renseigné\n",
       "actor3                                  non renseigné\n",
       "Name: 56416, dtype: object"
      ]
     },
     "execution_count": 108,
     "metadata": {},
     "output_type": "execute_result"
    }
   ],
   "execution_count": 108
  },
  {
   "metadata": {},
   "cell_type": "code",
   "outputs": [],
   "execution_count": null,
   "source": "",
   "id": "7fc675f179005833"
  }
 ],
 "metadata": {
  "kernelspec": {
   "display_name": "Python 3",
   "language": "python",
   "name": "python3"
  },
  "language_info": {
   "codemirror_mode": {
    "name": "ipython",
    "version": 2
   },
   "file_extension": ".py",
   "mimetype": "text/x-python",
   "name": "python",
   "nbconvert_exporter": "python",
   "pygments_lexer": "ipython2",
   "version": "2.7.6"
  }
 },
 "nbformat": 4,
 "nbformat_minor": 5
}
